{
  "cells": [
    {
      "cell_type": "markdown",
      "metadata": {
        "id": "view-in-github",
        "colab_type": "text"
      },
      "source": [
        "<a href=\"https://colab.research.google.com/github/kiryu-3/Prmn2023/blob/main/Python_Basic/question/PythonBasic_3_Question.ipynb\" target=\"_parent\"><img src=\"https://colab.research.google.com/assets/colab-badge.svg\" alt=\"Open In Colab\"/></a>"
      ]
    },
    {
      "cell_type": "markdown",
      "metadata": {
        "id": "pRg75W7M33Aq"
      },
      "source": [
        "# 第3章 課題"
      ]
    },
    {
      "cell_type": "markdown",
      "metadata": {
        "id": "HgtTY_tm2Eq3"
      },
      "source": [
        "## datetimeモジュール\n"
      ]
    },
    {
      "cell_type": "markdown",
      "metadata": {
        "id": "f8ROnWPJ2Eq4"
      },
      "source": [
        "Pythonのdatetimeモジュールを使うと現在時刻や日付などを扱うことが出来ます。\n",
        "\n"
      ]
    },
    {
      "cell_type": "markdown",
      "source": [
        "第4章以降の課題で使う予定です。\n",
        "  \n",
        "「モジュールとはなんぞや？」となる方は以下の補足を参考にしてください。"
      ],
      "metadata": {
        "id": "mgUIzZhE3prn"
      }
    },
    {
      "cell_type": "code",
      "execution_count": null,
      "metadata": {
        "id": "Gem7SXGY2Eq5"
      },
      "outputs": [],
      "source": [
        "# datetimeモジュールのdatetimeクラスを取り込む\n",
        "from datetime import datetime\n",
        "# 地名に\"東京\"を指定するためにインポート\n",
        "from pytz import timezone\n",
        "\n",
        "# 曜日を漢字で表示するため（0 → 月曜日... 6 → 日曜日）\n",
        "youbi = \"月火水木金土日\"\n",
        "\n",
        "# 東京の時間を取得\n",
        "today = datetime.now(timezone(\"Asia/Tokyo\"))\n",
        "\n",
        "# 年月日\n",
        "year = today.year\n",
        "month = today.month\n",
        "day = today.day\n",
        " \n",
        "# 曜日を0～6で取得（0が月曜日）\n",
        "weekday = today.weekday()\n",
        " \n",
        "# 時分秒\n",
        "hour = today.hour\n",
        "minute = today.minute\n",
        "second = today.second\n",
        " \n",
        "# 表示\n",
        "print(\"{}年{}月{}日（{}）\".format(year, month, day, youbi[weekday]))\n",
        "print(\"{}時{}分{}秒\".format(hour, minute, second))"
      ]
    },
    {
      "cell_type": "markdown",
      "metadata": {
        "id": "RL0lm40l2Eq7"
      },
      "source": [
        "## 課題1"
      ]
    },
    {
      "cell_type": "markdown",
      "source": [
        "以下表のように出力できるようにしてください"
      ],
      "metadata": {
        "id": "3mgyyeyr5R9S"
      }
    },
    {
      "cell_type": "markdown",
      "source": [
        "|時間帯|出力|\n",
        "|:---| :--- |\n",
        "|3時～9時|「おはよう！」と出力|\n",
        "|10時～17時|「こんにちは！」と出力|\n",
        "|18時～21時|「こんばんは！」と出力|\n",
        "|22時～2時|「おやすみ！」と出力|"
      ],
      "metadata": {
        "id": "ww0UFLnj4SC2"
      }
    },
    {
      "cell_type": "code",
      "source": [
        "# 入力用\n"
      ],
      "metadata": {
        "id": "Csi3usvI6oRh"
      },
      "execution_count": null,
      "outputs": []
    },
    {
      "cell_type": "markdown",
      "source": [
        "## 課題2"
      ],
      "metadata": {
        "id": "Ak-ccq1L8zhG"
      }
    },
    {
      "cell_type": "markdown",
      "source": [
        "以下表のように出力できるようにしてください"
      ],
      "metadata": {
        "id": "UfExmq0-84Xk"
      }
    },
    {
      "cell_type": "markdown",
      "source": [
        "|月|出力|\n",
        "|:---| :--- |\n",
        "|3月～5月|「春です」と出力|\n",
        "|6月～8月|「夏です」と出力|\n",
        "|9月～11月|「秋です」と出力|\n",
        "|12月～2月|「冬です」と出力|"
      ],
      "metadata": {
        "id": "ocoquzS79XKL"
      }
    },
    {
      "cell_type": "code",
      "source": [
        "# 入力用\n"
      ],
      "metadata": {
        "id": "HscQDzYG9wcG"
      },
      "execution_count": null,
      "outputs": []
    },
    {
      "cell_type": "markdown",
      "source": [
        "## 課題3"
      ],
      "metadata": {
        "id": "IAJVuG9a90Mb"
      }
    },
    {
      "cell_type": "markdown",
      "source": [
        "任意の誕生日を指定して、年齢を出力できるようにしてください"
      ],
      "metadata": {
        "id": "3cFktbXK93vr"
      }
    },
    {
      "cell_type": "markdown",
      "source": [
        "＜例＞ 1998年4月1日生まれの場合  \n",
        "`Chitoseは24歳です` "
      ],
      "metadata": {
        "id": "Bx_WGFCq-UWZ"
      }
    },
    {
      "cell_type": "code",
      "source": [
        "# 入力用\n"
      ],
      "metadata": {
        "id": "fKAwe06FKMTL"
      },
      "execution_count": null,
      "outputs": []
    },
    {
      "cell_type": "markdown",
      "source": [
        "### 課題3 補足"
      ],
      "metadata": {
        "id": "TEcxKKYULvtA"
      }
    },
    {
      "cell_type": "markdown",
      "source": [
        "datetimeオブジェクトは以下のようにして新しく生成することができます。"
      ],
      "metadata": {
        "id": "0s4hIOdjLx17"
      }
    },
    {
      "cell_type": "code",
      "source": [
        "birth_year = 1998\n",
        "birth_month = 4\n",
        "birth_day = 1\n",
        "\n",
        "birth = datetime(year=birth_year , month=birth_month , day=birth_day)  # 新しく生成\n",
        "birth = birth.astimezone(timezone(\"Asia/Tokyo\"))  # 比較する関係で必要"
      ],
      "metadata": {
        "id": "R8dO34kuMR6B"
      },
      "execution_count": null,
      "outputs": []
    },
    {
      "cell_type": "markdown",
      "source": [
        "オブジェクトを別に作ることで、現在日時と指定日時の比較が容易になります。"
      ],
      "metadata": {
        "id": "r9afkteDM3mn"
      }
    },
    {
      "cell_type": "code",
      "source": [
        "print(today < birth)  # 誕生日の方が\"1998年\"と前なのでFalse\n",
        "\n",
        "birth_year = year  # 誕生年を現在年に揃える\n",
        "birth_month = 12  \n",
        "birth_day = 31\n",
        "\n",
        "birth = datetime(year=birth_year , month=birth_month , day=birth_day)  # 新しく生成\n",
        "birth = birth.astimezone(timezone(\"Asia/Tokyo\"))  # 比較する関係で必要\n",
        "\n",
        "print(today < birth)  # 誕生年を同じ、誕生日を12月31日としたので、誕生日が後になりTrue"
      ],
      "metadata": {
        "id": "TL7-C-uuM_Wz"
      },
      "execution_count": null,
      "outputs": []
    },
    {
      "cell_type": "markdown",
      "metadata": {
        "id": "B3iosWQG4Z3O"
      },
      "source": [
        "## モジュールとライブラリ\n"
      ]
    },
    {
      "cell_type": "markdown",
      "metadata": {
        "id": "NbnOCIZV4bwN"
      },
      "source": [
        "Pythonでは、他の開発者が用意してくれた変数や関数、（まだ登場していませんが）クラスを  \n",
        "自由に自分のプログラムに取り入れることができます。  \n",
        "\n"
      ]
    },
    {
      "cell_type": "markdown",
      "metadata": {
        "id": "MSDw_IME404d"
      },
      "source": [
        "**モジュール**は、別のプログラムに取り込んで使うことを前提として、  \n",
        "ある機能をひとまとめにした1つのファイルを指す言葉です。  \n",
        "関連した機能ごとに、変数や関数などの細かな部品を集めた1つの大きな部品と捉えることができます。"
      ]
    },
    {
      "cell_type": "markdown",
      "metadata": {
        "id": "x0msabX04viN"
      },
      "source": [
        "**ライブラリ**とは、複数のモジュールがまとまったものです。  \n",
        "モジュールは、開発した人によって2種類のライブラリに属しています。"
      ]
    },
    {
      "cell_type": "markdown",
      "metadata": {
        "id": "v-DiZ77U_WnG"
      },
      "source": [
        "### 標準ライブラリ\n",
        "**標準ライブラリ**とは、Pythonが公式に用意したモジュールのまとまりです。  \n",
        "各モジュールには、特定の用途ごとに役立つ変数や関数、クラスが定義されています。\n",
        "\n",
        "|モジュール|用途|\n",
        "|:---| :--- |\n",
        "|mathモジュール|数学計算に関する処理|\n",
        "|randomモジュール|乱数に関する処理|\n",
        "|csvモジュール|CSVファイルに関する処理|\n",
        "|jsonモジュール|JSONファイルに関する処理|\n",
        "|osモジュール|OS操作に関する処理|"
      ]
    },
    {
      "cell_type": "markdown",
      "metadata": {
        "id": "9LvkJUqxAtQa"
      },
      "source": [
        "目的に合ったモジュールを取り込んで、定義されている関数などを利用することで、  \n",
        "専門的な知識がなくても高度な処理を実現することができるようになります。  \n"
      ]
    },
    {
      "cell_type": "markdown",
      "metadata": {
        "id": "nUo3sknbBEza"
      },
      "source": [
        "実際に`mathモジュール`を自分のプログラムに取り込んでみましょう。"
      ]
    },
    {
      "cell_type": "code",
      "execution_count": null,
      "metadata": {
        "id": "53Bkxl7nBPk6"
      },
      "outputs": [],
      "source": [
        "import math\n",
        "print(\"円周率は{}です\".format(math.pi))\n",
        "print(\"小数点以下を切り捨てれば{}です\".format(math.floor(math.pi)))\n",
        "print(\"小数点以下を切り上げれば{}です\".format(math.ceil(math.pi)))"
      ]
    },
    {
      "cell_type": "markdown",
      "metadata": {
        "id": "TU73KsPZ7xQH"
      },
      "source": [
        "`mathモジュール`を取り込むことを、1行目の**import文**で宣言しています。  \n",
        "\n",
        "![pp_06_12.png](data:image/png;base64,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)  \n",
        "\n",
        "続けて2行目で、モジュールが提供する変数`pi`を参照しています。  \n",
        "この変数にはあらかじめ円周率が代入されています。 \n",
        "\n",
        "![画像5.png](data:image/png;base64,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)\n",
        "\n",
        "3,4行目では、`mathモジュール`が提供する関数を呼び出しています。  \n",
        "`floor関数`は引数を小数点以下で切り捨てた結果、`ceil関数`は小数点以下で切り上げた結果を返します。  \n",
        "\n",
        "![pp_06_14.png](data:image/png;base64,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)"
      ]
    },
    {
      "cell_type": "markdown",
      "metadata": {
        "id": "5SM1FPJqCsFe"
      },
      "source": [
        "組み込んだモジュールに別の名前を付けることもできます。\n",
        "\n",
        "![pp_06_15.png](data:image/png;base64,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)\n",
        "\n",
        "先ほどの`mathモジュール`に**`m`**という別名を付けてみましょう。"
      ]
    },
    {
      "cell_type": "code",
      "execution_count": null,
      "metadata": {
        "id": "emJYaab7DpUG"
      },
      "outputs": [],
      "source": [
        "import math as m\n",
        "print(\"円周率は{}です\".format(m.pi))\n",
        "print(\"小数点以下を切り捨てれば{}です\".format(m.floor(m.pi)))\n",
        "print(\"小数点以下を切り上げれば{}です\".format(m.ceil(m.pi)))"
      ]
    },
    {
      "cell_type": "markdown",
      "metadata": {
        "id": "HQk4jb5ZEs20"
      },
      "source": [
        "モジュール全体ではなく、モジュールから特定の変数や関数だけを取り込むこともできます。  \n",
        "\n",
        "![pp_06_16.png](data:image/png;base64,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)\n",
        "\n",
        "`mathモジュール`から変数`pi`と`floor関数`だけを取り込んでみましょう。"
      ]
    },
    {
      "cell_type": "code",
      "execution_count": null,
      "metadata": {
        "id": "R6jExDolFrqh"
      },
      "outputs": [],
      "source": [
        "from math import pi\n",
        "from math import floor\n",
        "print(\"円周率は{}です\".format(pi))\n",
        "print(\"小数点以下を切り捨てれば{}です\".format(floor(pi)))"
      ]
    },
    {
      "cell_type": "markdown",
      "metadata": {
        "id": "TC6HQ4NCGHYJ"
      },
      "source": [
        "3,4行目に記述しているとおり、取り込んだ変数や関数はモジュール名を付けずに使用することができます。  \n",
        "また、取り込んでいない変数や関数は使用できないので、`ceil関数`を呼び出すことはできません。"
      ]
    },
    {
      "cell_type": "markdown",
      "metadata": {
        "id": "bXJfBTK6GgfI"
      },
      "source": [
        "モジュールと同様に、**`as`**を使用して取り込んだ変数や関数に別名を付けることができます。  \n",
        "\n",
        "![pp_06_17.png](data:image/png;base64,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)\n",
        "\n",
        "これによって変数名や関数名の重複を避けることができますが、  \n",
        "別名があまりにも多すぎると逆に混乱することがあるので気を付けましょう。"
      ]
    },
    {
      "cell_type": "code",
      "execution_count": null,
      "metadata": {
        "id": "eG3EIcB8GxyG"
      },
      "outputs": [],
      "source": [
        "from math import pi as ensyuritsu\n",
        "from math import floor as kirisute\n",
        "print(\"円周率は{}です\".format(ensyuritsu))\n",
        "print(\"小数点以下を切り捨てれば{}です\".format(kirisute(ensyuritsu)))"
      ]
    },
    {
      "cell_type": "markdown",
      "metadata": {
        "id": "1PzPiHn9HYr-"
      },
      "source": [
        "import文は、一般的にはプログラムの先頭にまとめて書くことが推奨されています。  \n",
        "そうすることで、取り込んでいる変数や関数を把握しやすくなります。"
      ]
    },
    {
      "cell_type": "markdown",
      "source": [
        "### 外部ライブラリ"
      ],
      "metadata": {
        "id": "jiPDJ5fT8FkU"
      }
    },
    {
      "cell_type": "markdown",
      "source": [
        "**外部ライブラリ**とは、Pythonとは別の組織や個人が用意したモジュールのまとまりです。  \n",
        "膨大な数が存在しますが、その多くは標準ライブラリよりもさらに用途を絞り込んだものとなっています。 "
      ],
      "metadata": {
        "id": "XDGWK6Fy8Nj3"
      }
    },
    {
      "cell_type": "markdown",
      "source": [
        "外部ライブラリには、標準ライブラリに用意されたモジュールよりも  \n",
        "高度な処理を簡単に行うことができるという特徴があります。  \n",
        "\n",
        "代表的な外部ライブラリについて見ていきましょう。\n",
        "\n"
      ],
      "metadata": {
        "id": "8kiTAX88ILZU"
      }
    },
    {
      "cell_type": "markdown",
      "source": [
        "|モジュール|用途|\n",
        "|:---| :--- |\n",
        "|matplotlib|データの可視化|\n",
        "|seaborn|データの可視化|\n",
        "|Pandas|データ解析|\n",
        "|Numpy|ベクトル・行列計算|\n",
        "|Scipy|科学技術計算|\n",
        "|scikit-learn|機械学習|\n",
        "|TensorFlow|深層学習|\n",
        "|requests|Ｗebアクセス|\n"
      ],
      "metadata": {
        "id": "KyPbjWgn8UCk"
      }
    },
    {
      "cell_type": "markdown",
      "source": [
        "実現したいプログラムが明確になってから、各外部ライブラリについて学ぶようにしましょう。"
      ],
      "metadata": {
        "id": "MmosbfHE8VVs"
      }
    },
    {
      "cell_type": "markdown",
      "source": [
        "今回使っているGoogle Colaboratoryでは、よく使われるライブラリが最初から入っています。  \n",
        "\n",
        "ここでは`seaborn`というライブラリをインポートして、簡単なグラフを表示してみましょう。"
      ],
      "metadata": {
        "id": "Rbe_iG0KKeNo"
      }
    },
    {
      "cell_type": "code",
      "source": [
        "import seaborn as sns\n",
        "\n",
        "iris = sns.load_dataset(\"iris\")\n",
        "sns.pairplot(iris)"
      ],
      "metadata": {
        "id": "_yS5l0hQK2qQ"
      },
      "execution_count": null,
      "outputs": []
    },
    {
      "cell_type": "markdown",
      "source": [
        "今回`seaborn`の別名として`as`で**`sns`**と指定しました。  \n",
        "このように、主要なライブラリには、だいたい`as`で指定する名前が決まっています。  \n",
        "\n",
        "|モジュール|別名|\n",
        "|:---| :--- |\n",
        "|matplotlib.pyplot|plt|\n",
        "|seaborn|sns|\n",
        "|Pandas|pd|\n",
        "|Numpy|np|\n",
        "|scikit-learn|svm|\n",
        "|TensorFlow|tf|"
      ],
      "metadata": {
        "id": "ucM4b3PPLBzP"
      }
    },
    {
      "cell_type": "markdown",
      "source": [
        "すべてのライブラリがGoogle Colaboratoryに入っているわけではありません。  \n",
        "\n",
        "導入されていないライブラリを使うには、**`pipコマンド`**を用いて、自分でライブラリをインストールします。\n",
        "\n",
        "![pp_06_18.png](data:image/png;base64,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)  \n",
        "\n",
        "`wikipediaライブラリ`をインストールして使ってみましょう。"
      ],
      "metadata": {
        "id": "vEkQJxsqMSkt"
      }
    },
    {
      "cell_type": "code",
      "source": [
        "# wikipediaライブラリをインストール\n",
        "! pip install wikipedia"
      ],
      "metadata": {
        "id": "XyIVfsSYNc6U"
      },
      "execution_count": null,
      "outputs": []
    },
    {
      "cell_type": "code",
      "source": [
        "# wikipediaライブラリをインポート\n",
        "import wikipedia\n",
        "\n",
        "wikipedia.set_lang('ja')\n",
        "wikipedia.search(\"Python\")"
      ],
      "metadata": {
        "id": "F5N-ljKyNfrK"
      },
      "execution_count": null,
      "outputs": []
    },
    {
      "cell_type": "code",
      "source": [
        "r = wikipedia.page('Python').url\n",
        "print(r)"
      ],
      "metadata": {
        "id": "9bTh9t0qNn_b"
      },
      "execution_count": null,
      "outputs": []
    },
    {
      "cell_type": "markdown",
      "source": [
        "自分の勉強する目的に応じたライブラリを勉強するようにしましょう。"
      ],
      "metadata": {
        "id": "P0m2AyCtNst6"
      }
    }
  ],
  "metadata": {
    "colab": {
      "provenance": [],
      "toc_visible": true,
      "authorship_tag": "ABX9TyNt28WPNRKZWTife3HXy9UJ",
      "include_colab_link": true
    },
    "kernelspec": {
      "display_name": "Python 3",
      "name": "python3"
    },
    "language_info": {
      "name": "python"
    }
  },
  "nbformat": 4,
  "nbformat_minor": 0
}