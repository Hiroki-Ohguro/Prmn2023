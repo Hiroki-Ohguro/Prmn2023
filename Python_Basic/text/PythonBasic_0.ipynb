{
  "nbformat": 4,
  "nbformat_minor": 0,
  "metadata": {
    "colab": {
      "provenance": [],
      "authorship_tag": "ABX9TyNqmY9MCNRrUjYQHKyy+XZa",
      "include_colab_link": true
    },
    "kernelspec": {
      "name": "python3",
      "display_name": "Python 3"
    },
    "language_info": {
      "name": "python"
    }
  },
  "cells": [
    {
      "cell_type": "markdown",
      "metadata": {
        "id": "view-in-github",
        "colab_type": "text"
      },
      "source": [
        "<a href=\"https://colab.research.google.com/github/kiryu-3/Prmn2023/blob/main/Python_Basic/text/PythonBasic_0.ipynb\" target=\"_parent\"><img src=\"https://colab.research.google.com/assets/colab-badge.svg\" alt=\"Open In Colab\"/></a>"
      ]
    },
    {
      "cell_type": "markdown",
      "source": [
        "# 第0章"
      ],
      "metadata": {
        "id": "nYvSus_SfPPM"
      }
    },
    {
      "cell_type": "markdown",
      "source": [
        "## print関数"
      ],
      "metadata": {
        "id": "ioSHP54BaFHx"
      }
    },
    {
      "cell_type": "markdown",
      "source": [
        "**print関数**を使うことで画面に文字を表示することができます。"
      ],
      "metadata": {
        "id": "sqgU0-aLbdxE"
      }
    },
    {
      "cell_type": "code",
      "execution_count": null,
      "metadata": {
        "id": "_idWtbFkZk28"
      },
      "outputs": [],
      "source": [
        "print(\"Hello World!\")\n",
        "print(\"Welcome to Python!\")\n",
        "print(25)"
      ]
    },
    {
      "cell_type": "markdown",
      "source": [
        "print関数の途中で改行したいときは、**\" \\n \"** を途中に挿入します。"
      ],
      "metadata": {
        "id": "hbDlQc6ndi8T"
      }
    },
    {
      "cell_type": "code",
      "source": [
        "print(\"Hello World!\\nWelcome to Python!\")"
      ],
      "metadata": {
        "colab": {
          "base_uri": "https://localhost:8080/"
        },
        "id": "sKdjZHmmds5g",
        "outputId": "9856f210-f580-43b8-9189-a423ab6716e0"
      },
      "execution_count": null,
      "outputs": [
        {
          "output_type": "stream",
          "name": "stdout",
          "text": [
            "Hello World!\n",
            "Welcome to Python!\n"
          ]
        }
      ]
    },
    {
      "cell_type": "markdown",
      "source": [
        "endオプションを指定すると、改行を防止することができます。"
      ],
      "metadata": {
        "id": "27dkOBpQcQL2"
      }
    },
    {
      "cell_type": "code",
      "source": [
        "print(\"Hello World!\",end=\" \")  # 文の間に空白\" \"を空ける\n",
        "print(\"Welcome to Python!\",end=\",\")  # 文の間に\",\"をつける\n",
        "print(25)"
      ],
      "metadata": {
        "colab": {
          "base_uri": "https://localhost:8080/"
        },
        "id": "GRPgCvVJdr9X",
        "outputId": "9c835d3b-d7ff-4cf5-f62d-0594749f1150"
      },
      "execution_count": null,
      "outputs": [
        {
          "output_type": "stream",
          "name": "stdout",
          "text": [
            "Hello World! Welcome to Python!,19\n"
          ]
        }
      ]
    },
    {
      "cell_type": "markdown",
      "source": [
        "## 数値型"
      ],
      "metadata": {
        "id": "4eR3rJY6es2M"
      }
    },
    {
      "cell_type": "markdown",
      "source": [
        "数値型(Numeric)には**整数**、**浮動小数点数**、複素数 などがあります。  \n",
        "詳しくは次回述べます。"
      ],
      "metadata": {
        "id": "-BcsnPJDe8Um"
      }
    },
    {
      "cell_type": "code",
      "source": [
        "print(25)\n",
        "print(25.25)"
      ],
      "metadata": {
        "id": "hVmCGqpqeud9"
      },
      "execution_count": null,
      "outputs": []
    },
    {
      "cell_type": "markdown",
      "source": [
        "### 数値型の算術演算子\n",
        "以下表のような四則演算をすることができます。 \n",
        "\n",
        "|演算子|  例  |  概要  |\n",
        "| ---- | ---- | ---- |\n",
        "|  +  |  x+y  |  足し算  |\n",
        "|  -  |  x-y  |  引き算  |\n",
        "|  *  |  x*y  |  掛け算  |\n",
        "|  **  |  x**y  | 階乗  |\n",
        "|  /  |  x/y  |  割り算<br>(商は実数)  |\n",
        "|  //  |  x//y  |  割り算<br>(商は整数)  |\n",
        "|  %  |  x%y  |  剰余算<br>(除算の余り)  |\n"
      ],
      "metadata": {
        "id": "3ZeqJ1cciNPQ"
      }
    },
    {
      "cell_type": "code",
      "source": [
        "print(25 + 1)  # 足し算\n",
        "print(25 - 1)  # 引き算\n",
        "\n",
        "print(2 * 4)  # 掛け算\n",
        "print(2 ** 4)  # 階乗\n",
        "\n",
        "print(25 / 4)  # 割り算（商は実数）\n",
        "print(25 // 4)  # 割り算（商は整数）\n",
        "print(25 % 4)  # 剰余算\n",
        "\n",
        "print( 25 - 2*5 )  # 演算子の優先順位\n",
        "print( (25-2) * 5 )  # 剰余算"
      ],
      "metadata": {
        "id": "_RvX5pdEkegC"
      },
      "execution_count": null,
      "outputs": []
    },
    {
      "cell_type": "markdown",
      "source": [
        "## 文字列型"
      ],
      "metadata": {
        "id": "izSWWDRFlxSA"
      }
    },
    {
      "cell_type": "markdown",
      "source": [
        "Pythonの文字列は『**シングルクォーテーション**』か『**ダブルクォーテーション**』で囲みます。  \n",
        "単数文字か複数文字かの区別はなく、どちらを使ってもよいです。  \n",
        "\n",
        "囲むときは同じものをセットで使う必要があることに注意しましょう。  \n",
        "『**ダブルクォーテーション**』を使うことが多いようです。"
      ],
      "metadata": {
        "id": "b_f6oMUBlzdS"
      }
    },
    {
      "cell_type": "code",
      "source": [
        "print('Hello World!')\n",
        "print(\"Hello World!\")"
      ],
      "metadata": {
        "id": "Gi40prKkmlTv"
      },
      "execution_count": null,
      "outputs": []
    },
    {
      "cell_type": "markdown",
      "source": [
        "### 文字列型の算術演算子\n",
        "以下表のような四則演算をすることができます。 \n",
        "\n",
        "|演算子|  説明  |  例  |  結果  |  \n",
        "| ---- | ---- | ---- | ---- |  \n",
        "|  +  |  連結（文字列+文字列）  |  'w' + 'w'  | ww |  \n",
        "|  -  |  反復（文字列*数値）  |  'w' * 3  | www |  "
      ],
      "metadata": {
        "id": "Np-Sz1BLptD7"
      }
    },
    {
      "cell_type": "code",
      "source": [
        "print(\"Hello\" + \"World!\")\n",
        "print(\"Hello\" * 3)"
      ],
      "metadata": {
        "colab": {
          "base_uri": "https://localhost:8080/"
        },
        "id": "ij4kvcIJqDev",
        "outputId": "c1ba65a4-fffe-44db-e64e-472edb1a7ca1"
      },
      "execution_count": null,
      "outputs": [
        {
          "output_type": "stream",
          "name": "stdout",
          "text": [
            "HelloWorld!\n",
            "HelloHelloHello\n"
          ]
        }
      ]
    },
    {
      "cell_type": "markdown",
      "source": [
        "### 数値型と文字列型の注意"
      ],
      "metadata": {
        "id": "4rRfoWXZqzp5"
      }
    },
    {
      "cell_type": "markdown",
      "source": [
        "数値型と文字型を結合することは不可能なので注意が必要です。"
      ],
      "metadata": {
        "id": "EgGyjklGrKdU"
      }
    },
    {
      "cell_type": "code",
      "source": [
        "print(25 + 4)\n",
        "print(\"25\" + \"4\")"
      ],
      "metadata": {
        "colab": {
          "base_uri": "https://localhost:8080/"
        },
        "id": "H3yCTRC8rHOI",
        "outputId": "4a407885-2866-485b-f44e-d8b29f676c29"
      },
      "execution_count": null,
      "outputs": [
        {
          "output_type": "stream",
          "name": "stdout",
          "text": [
            "23\n",
            "194\n"
          ]
        }
      ]
    },
    {
      "cell_type": "code",
      "source": [
        "print(\"25\" + 4)    # エラー"
      ],
      "metadata": {
        "id": "46Tbd9vkrgJC"
      },
      "execution_count": null,
      "outputs": []
    },
    {
      "cell_type": "markdown",
      "source": [
        "# 第0章補足"
      ],
      "metadata": {
        "id": "vjSOriRvk86P"
      }
    },
    {
      "cell_type": "markdown",
      "source": [
        "## コメント"
      ],
      "metadata": {
        "id": "bKrDk4Xvk_ie"
      }
    },
    {
      "cell_type": "markdown",
      "source": [
        "「**#**」 記号を利用すると、コメントを入力することができます。"
      ],
      "metadata": {
        "id": "pglHsv_dldTH"
      }
    },
    {
      "cell_type": "code",
      "source": [
        "# \"#\"の後には半角スペースを入れます\n",
        "print(\"コメント\")  # コードの後に半角スペース×2を入れます"
      ],
      "metadata": {
        "id": "YexmCbrjmeUl"
      },
      "execution_count": null,
      "outputs": []
    },
    {
      "cell_type": "markdown",
      "source": [
        "複数コメントを入力したいときは、範囲を選択して  \n",
        "\"Ctrlキー+「/」キー\" を押すと一気にコメント化できます。"
      ],
      "metadata": {
        "id": "RhUoIRWAni5i"
      }
    },
    {
      "cell_type": "markdown",
      "source": [
        "## 全角スペース\n",
        "全角スペースは空白とはみなされません。"
      ],
      "metadata": {
        "id": "p8ojXS6On9NJ"
      }
    },
    {
      "cell_type": "markdown",
      "source": [
        "## エスケープシーケンス"
      ],
      "metadata": {
        "id": "q2604-uOoi4w"
      }
    },
    {
      "cell_type": "markdown",
      "source": [
        "「\"」や「'」などの特殊な文字列を入力するためには、  \n",
        "**エスケープシーケンス**と呼ばれる特殊な文字列を使う必要があります。"
      ],
      "metadata": {
        "id": "bp-HJUJDqaC9"
      }
    },
    {
      "cell_type": "markdown",
      "source": [
        "以下表のような特殊文字を扱うことができます。\n",
        "\n",
        "|表記|  意味  |\n",
        "| ---- | ---- |\n",
        "|  \\n  |  改行  |\n",
        "|  \\t  |  Tabキー  |\n",
        "|  \\\\\"  |  ダブルクォーテーション  | \n",
        "|  \\\\'  |  シングルクォーテーション  |\n",
        "|  \\\\  |  \\マーク  | \n"
      ],
      "metadata": {
        "id": "9GHKunsLryZZ"
      }
    },
    {
      "cell_type": "code",
      "source": [
        "print(\"\\\"はダブルクォーテーションと読みます\")\n",
        "print(\"\\'はシングルクォーテーションと読みます\")\n",
        "print(\"\\\\は日本語では円記号ですが、海外ではバックスラッシュと呼びます\")"
      ],
      "metadata": {
        "id": "dsXy45hqrv8R"
      },
      "execution_count": null,
      "outputs": []
    }
  ]
}