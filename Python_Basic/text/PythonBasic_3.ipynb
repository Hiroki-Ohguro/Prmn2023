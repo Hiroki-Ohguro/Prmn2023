{
  "nbformat": 4,
  "nbformat_minor": 0,
  "metadata": {
    "colab": {
      "provenance": [],
      "toc_visible": true,
      "authorship_tag": "ABX9TyPpf6XHExC+k9OGOYYQEIcQ",
      "include_colab_link": true
    },
    "kernelspec": {
      "name": "python3",
      "display_name": "Python 3"
    },
    "language_info": {
      "name": "python"
    }
  },
  "cells": [
    {
      "cell_type": "markdown",
      "metadata": {
        "id": "view-in-github",
        "colab_type": "text"
      },
      "source": [
        "<a href=\"https://colab.research.google.com/github/kiryu-3/Prmn2023/blob/main/Python_Basic/text/PythonBasic_3.ipynb\" target=\"_parent\"><img src=\"https://colab.research.google.com/assets/colab-badge.svg\" alt=\"Open In Colab\"/></a>"
      ]
    },
    {
      "cell_type": "markdown",
      "source": [
        "# 第3章"
      ],
      "metadata": {
        "id": "B2ibLLng_zO7"
      }
    },
    {
      "cell_type": "markdown",
      "source": [
        "## オブジェクト"
      ],
      "metadata": {
        "id": "_MEsdGAwQZyn"
      }
    },
    {
      "cell_type": "markdown",
      "source": [
        "Pythonでは、「数値」「文字列」「真偽値」などのあらゆる情報が  \n",
        "**『オブジェクト』**として管理されています。"
      ],
      "metadata": {
        "id": "bE_8WfrtQcUP"
      }
    },
    {
      "cell_type": "code",
      "source": [
        "print(19)  # 整数\n",
        "print(3.14)  # 浮動小数点数\n",
        "print(\"Hello\")\n",
        "print(True)"
      ],
      "metadata": {
        "id": "CK4LwR6gRCXu"
      },
      "execution_count": null,
      "outputs": []
    },
    {
      "cell_type": "markdown",
      "source": [
        "![python_3-1.png](https://bit.ly/3HhNMyC)"
      ],
      "metadata": {
        "id": "xPuKnMW_Rx_d"
      }
    },
    {
      "cell_type": "markdown",
      "source": [
        "### オブジェクトID\n",
        "Pythonでは**『オブジェクトID』**を使って、オブジェクトの識別が行われます。"
      ],
      "metadata": {
        "id": "b8XSW0KMVoQX"
      }
    },
    {
      "cell_type": "markdown",
      "source": [
        "![python_3-1.png](https://bit.ly/3koC4t4)"
      ],
      "metadata": {
        "id": "T1J2NPojUr5w"
      }
    },
    {
      "cell_type": "markdown",
      "source": [
        "オブジェクトIDは**id関数**を使うことで取得できます。"
      ],
      "metadata": {
        "id": "dlYAGveTV8Rd"
      }
    },
    {
      "cell_type": "code",
      "execution_count": null,
      "metadata": {
        "colab": {
          "base_uri": "https://localhost:8080/"
        },
        "id": "qk6YAYzt_rY6",
        "outputId": "31cbd931-3598-4d03-888a-358760bed1c5"
      },
      "outputs": [
        {
          "output_type": "stream",
          "name": "stdout",
          "text": [
            "9793664\n",
            "139883288552816\n",
            "139883335550320\n",
            "9480544\n"
          ]
        }
      ],
      "source": [
        "# 環境によって違う値になります\n",
        "print(id(19))\n",
        "print(id(3.14))\n",
        "print(id(\"Hello\"))\n",
        "print(id(True))"
      ]
    },
    {
      "cell_type": "markdown",
      "source": [
        "### 変数とオブジェクト"
      ],
      "metadata": {
        "id": "cNRGCM1UZq-H"
      }
    },
    {
      "cell_type": "markdown",
      "source": [
        "C言語やJavaでは、変数は**情報**を管理しています。  \n",
        "\n",
        "一方Pythonでは、変数は**オブジェクトID**を管理しています。"
      ],
      "metadata": {
        "id": "lLeBaZTrZtQ4"
      }
    },
    {
      "cell_type": "markdown",
      "source": [
        "![](https://bit.ly/3iSYIcD)"
      ],
      "metadata": {
        "id": "EVvWT3iIZbOo"
      }
    },
    {
      "cell_type": "markdown",
      "source": [
        "そのため、Pythonにおける「変数への代入」とは、  \n",
        "**「変数にオブジェクトIDを設定する」**ことを指します。"
      ],
      "metadata": {
        "id": "T361AqgAbrT5"
      }
    },
    {
      "cell_type": "code",
      "source": [
        "# idの確認\n",
        "print(\"オブジェクトの生成\")  # 実行時にオブジェクトが生成される\n",
        "print(f\"1: {id(19)}\")\n",
        "print(f\"1: {id(20)}\\n\")\n",
        "\n",
        "# 変数に代入（オブジェクトIDの設定）\n",
        "age1 = 19\n",
        "age2 = 19\n",
        "print(\"代入直後\")\n",
        "print(f\"age1 : {id(age1)}\")\n",
        "print(f\"age2 : {id(age2)}\\n\")\n",
        "\n",
        "# 変数の値を更新（オブジェクトIDの変更）\n",
        "age2 += 1\n",
        "print(\"更新直後\")\n",
        "print(f\"age1 : {id(age1)}\")\n",
        "print(f\"age2 : {id(age2)}\")"
      ],
      "metadata": {
        "colab": {
          "base_uri": "https://localhost:8080/"
        },
        "id": "V3gYaNb1cZHQ",
        "outputId": "2fc95be6-6022-43bf-9646-8861ca484a16"
      },
      "execution_count": null,
      "outputs": [
        {
          "output_type": "stream",
          "name": "stdout",
          "text": [
            "オブジェクトの生成\n",
            "1: 9793664\n",
            "1: 9793696\n",
            "\n",
            "代入直後\n",
            "age1 : 9793664\n",
            "age2 : 9793664\n",
            "\n",
            "更新直後\n",
            "age1 : 9793664\n",
            "age2 : 9793696\n"
          ]
        }
      ]
    },
    {
      "cell_type": "markdown",
      "source": [
        "ここでid関数の引数に変数を設定しています。  \n",
        "\n",
        "これは、プログラムで使用されたときに、変数が参照先オブジェクトに置き換わるためです。\n",
        "\n",
        "例：`id(age1)` → `id(19)`"
      ],
      "metadata": {
        "id": "TsymBHDdescd"
      }
    },
    {
      "cell_type": "markdown",
      "source": [
        "## メソッド\n",
        "オブジェクトに何らかの操作を行うための関数のことを**メソッド**といいます。\n",
        "\n",
        "オブジェクトの種類に応じて多くのメソッドがあります。"
      ],
      "metadata": {
        "id": "6gkLm1wegKdy"
      }
    },
    {
      "cell_type": "markdown",
      "source": [
        "![](https://bit.ly/3kn5hEF)"
      ],
      "metadata": {
        "id": "pGLv1bcQjPo2"
      }
    },
    {
      "cell_type": "markdown",
      "source": [
        "## 文字列型のメソッド"
      ],
      "metadata": {
        "id": "fdOdKHJgk6oR"
      }
    },
    {
      "cell_type": "markdown",
      "source": [
        "文字を変換するためのメソッドには、以下のようなものがあります。"
      ],
      "metadata": {
        "id": "A2HcxPc3lBbB"
      }
    },
    {
      "cell_type": "markdown",
      "source": [
        "|メソッド|説明|\n",
        "|:---:| :---: |\n",
        "|lower|すべての文字を小文字に変換|\n",
        "|upper|すべての文字を大文字に変換|\n",
        "|capitalize|最初の文字を大文字にして他は小文字に変換|\n",
        "|title|単語区切りの先頭を大文字にして他は小文字に変換|\n",
        "|count|指定した文字列が対象の文字列に何個含まれるのかを取得|\n",
        "|replace|文字列の中の指定した文字列を別の文字列に置換|"
      ],
      "metadata": {
        "id": "YvHzNoEQlazW"
      }
    },
    {
      "cell_type": "markdown",
      "source": [
        "プログラムで確認してみましょう。"
      ],
      "metadata": {
        "id": "Jn_Yyhwvm5Qv"
      }
    },
    {
      "cell_type": "code",
      "source": [
        "# 文字列オブジェクトを生成\n",
        "name = \"Chitose Taro\"\n",
        "\n",
        "# 文字列を変換するメソッド\n",
        "print(f\"{name.lower()} : lower\")\n",
        "print(f\"{name.upper()} : upper\")\n",
        "print(f\"{name.capitalize()} : capitalize\")\n",
        "print(f\"{name.title()} : title\")"
      ],
      "metadata": {
        "colab": {
          "base_uri": "https://localhost:8080/"
        },
        "id": "J6fpEl_Xm5ve",
        "outputId": "1023ea91-bd9d-49e1-ceb5-75f28b74fe20"
      },
      "execution_count": null,
      "outputs": [
        {
          "output_type": "stream",
          "name": "stdout",
          "text": [
            "chitose taro : lower\n",
            "CHITOSE TARO : upper\n",
            "Chitose taro : capitalize\n",
            "Chitose Taro : title\n"
          ]
        }
      ]
    },
    {
      "cell_type": "code",
      "source": [
        "# 文字列オブジェクトを生成\n",
        "str = \"Hello World\"\n",
        "\n",
        "# countメソッド\n",
        "print(f\"{str.count('l')}\")"
      ],
      "metadata": {
        "colab": {
          "base_uri": "https://localhost:8080/"
        },
        "id": "08kOjM65oL7b",
        "outputId": "97b66825-85dc-4db4-96dd-9277a51ff7c0"
      },
      "execution_count": null,
      "outputs": [
        {
          "output_type": "stream",
          "name": "stdout",
          "text": [
            "3\n"
          ]
        }
      ]
    },
    {
      "cell_type": "code",
      "source": [
        "# 文字列オブジェクトを生成\n",
        "str = \"b1990040\"\n",
        "\n",
        "# replaceメソッド\n",
        "print(f\"{str.replace('b1990','b2019')}\")"
      ],
      "metadata": {
        "colab": {
          "base_uri": "https://localhost:8080/"
        },
        "id": "r09P2zq9rm0N",
        "outputId": "b70c4dce-bba5-4e08-e0f7-d986323d67fa"
      },
      "execution_count": null,
      "outputs": [
        {
          "output_type": "stream",
          "name": "stdout",
          "text": [
            "b2019040\n"
          ]
        }
      ]
    },
    {
      "cell_type": "markdown",
      "source": [
        "文字列型のメソッドを使って他にもいろんな処理を行いたい際は、  \n",
        "[こちら](https://bit.ly/3D1MIfE)のサイトを参考にしてください。"
      ],
      "metadata": {
        "id": "h2fwC_agsp_L"
      }
    },
    {
      "cell_type": "markdown",
      "source": [
        "## mutableとimmutable\n",
        "変更可能なオブジェクトを**「mutable」**、  \n",
        "変更不可能なオブジェクトを**「immutable」**といいます。\n"
      ],
      "metadata": {
        "id": "xPaIZ5-hsnVN"
      }
    },
    {
      "cell_type": "markdown",
      "source": [
        "|データ型|mutable or immutable|\n",
        "|:---:| :---: |\n",
        "|int|immutable|\n",
        "|float|immutable|\n",
        "|str|immutable|\n",
        "|bool|immutable|\n",
        "|tuple|immutable|\n",
        "|list|mutable|\n",
        "|dict|mutable|\n",
        "|set|mutable|"
      ],
      "metadata": {
        "id": "lhg4N7nJtqEx"
      }
    },
    {
      "cell_type": "markdown",
      "source": [
        "文字列型のオブジェクトは **immutable** なので、  \n",
        "メソッドで生成された文字列オブジェクトは、新しいものとなります。"
      ],
      "metadata": {
        "id": "1tzFbcO7upQB"
      }
    },
    {
      "cell_type": "code",
      "source": [
        "# 文字列オブジェクトを生成\n",
        "name1 = \"Chitose Taro\"\n",
        "print(f\"置換前のname1 : {name1}\")\n",
        "\n",
        "# lowerメソッド\n",
        "name2 = name1.lower()\n",
        "\n",
        "print(f\"置換後のname1 : {name1}\")\n",
        "print(f\"置換後のname2 : {name2}\")"
      ],
      "metadata": {
        "colab": {
          "base_uri": "https://localhost:8080/"
        },
        "id": "iBmkhfvzxVNh",
        "outputId": "be7e43c5-ffa3-4769-beef-62c792b0cad7"
      },
      "execution_count": null,
      "outputs": [
        {
          "output_type": "stream",
          "name": "stdout",
          "text": [
            "置換前のname1 : Chitose Taro\n",
            "置換後のname1 : Chitose Taro\n",
            "置換後のname2 : chitose taro\n"
          ]
        }
      ]
    },
    {
      "cell_type": "markdown",
      "source": [
        "# 第3章補足"
      ],
      "metadata": {
        "id": "g1yPF_UiyKs4"
      }
    },
    {
      "cell_type": "markdown",
      "source": [
        "## is演算子\n",
        "比較演算子の一種です。"
      ],
      "metadata": {
        "id": "jwPNzKmeyOBq"
      }
    },
    {
      "cell_type": "markdown",
      "source": [
        "|比較演算子|使い方|説明|\n",
        "|:---:| :---: | :---: |\n",
        "|is|a is b|aとbは同じオブジェクトである|\n",
        "|is not|a is not b|aとbは同じオブジェクトではない|"
      ],
      "metadata": {
        "id": "rk1WEE2JyaKo"
      }
    },
    {
      "cell_type": "code",
      "source": [
        "print(1 == 1.0)  # Pythonが勝手に型を調整するのでTrue\n",
        "print(1 is 1.0)  # オブジェクトIDは違うのでFalse\n",
        "print(1 is \"1.0\")  # オブジェクトIDは違うのでFalse\n",
        "\n",
        "import warnings  # 出力のエラーを消すために必要\n",
        "warnings.simplefilter('ignore')"
      ],
      "metadata": {
        "colab": {
          "base_uri": "https://localhost:8080/"
        },
        "id": "xj_JPhwVzKVp",
        "outputId": "e60ce657-cce2-41de-a094-47bd6b472290"
      },
      "execution_count": null,
      "outputs": [
        {
          "output_type": "stream",
          "name": "stdout",
          "text": [
            "True\n",
            "False\n",
            "False\n"
          ]
        }
      ]
    },
    {
      "cell_type": "markdown",
      "source": [
        "## None\n",
        "何も存在しないことを表すオブジェクトは、Pythonでは **\"None\"** と呼ばれます。  \n",
        "（C言語では **\"null\"** と呼ばれます）"
      ],
      "metadata": {
        "id": "i416bjb20VSE"
      }
    },
    {
      "cell_type": "code",
      "source": [
        "nothing = None  # Noneの代入\n",
        "\n",
        "# 変数nothingがNoneかどうかで分岐\n",
        "if(nothing is None) :  # 比較するときはis演算子がオススメ\n",
        "    print(f\"nothingは{nothing}です\")\n",
        "else :\n",
        "    print(f\"nothingは{nothing}ではありません\")"
      ],
      "metadata": {
        "colab": {
          "base_uri": "https://localhost:8080/"
        },
        "id": "xZ7UFHZK1VT6",
        "outputId": "fd4a8b6f-6224-4726-a0b5-c8004192338d"
      },
      "execution_count": null,
      "outputs": [
        {
          "output_type": "stream",
          "name": "stdout",
          "text": [
            "nothingはNoneです\n"
          ]
        }
      ]
    },
    {
      "cell_type": "markdown",
      "source": [
        "今後も結構登場するようです。"
      ],
      "metadata": {
        "id": "qGEKUDoW1U3f"
      }
    }
  ]
}