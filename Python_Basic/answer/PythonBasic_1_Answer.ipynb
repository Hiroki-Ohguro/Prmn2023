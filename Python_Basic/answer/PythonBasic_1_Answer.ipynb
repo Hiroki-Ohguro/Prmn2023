{
  "nbformat": 4,
  "nbformat_minor": 0,
  "metadata": {
    "colab": {
      "provenance": [],
      "authorship_tag": "ABX9TyOVKCGU8Cralig1gPDuReyn",
      "include_colab_link": true
    },
    "kernelspec": {
      "name": "python3",
      "display_name": "Python 3"
    },
    "language_info": {
      "name": "python"
    }
  },
  "cells": [
    {
      "cell_type": "markdown",
      "metadata": {
        "id": "view-in-github",
        "colab_type": "text"
      },
      "source": [
        "<a href=\"https://colab.research.google.com/github/kiryu-3/Prmn2023/blob/main/Python_Basic/answer/PythonBasic_1_Answer.ipynb\" target=\"_parent\"><img src=\"https://colab.research.google.com/assets/colab-badge.svg\" alt=\"Open In Colab\"/></a>"
      ]
    },
    {
      "cell_type": "markdown",
      "source": [
        "# 第1章 課題 解答例"
      ],
      "metadata": {
        "id": "kWc75ZFVvner"
      }
    },
    {
      "cell_type": "markdown",
      "source": [
        "## 課題1"
      ],
      "metadata": {
        "id": "bruivG-4v2Cc"
      }
    },
    {
      "cell_type": "markdown",
      "source": [
        "print関数を使って自分の情報を表示させる\n",
        "\n",
        "＜実行例＞ `b1998040 Chitose Taro`\n",
        "\n"
      ],
      "metadata": {
        "id": "OJ1NflXMv3mo"
      }
    },
    {
      "cell_type": "code",
      "execution_count": null,
      "metadata": {
        "id": "e-ns59REvalm",
        "colab": {
          "base_uri": "https://localhost:8080/"
        },
        "outputId": "f155c967-01fe-4f79-c9b1-b4e4c921eb48"
      },
      "outputs": [
        {
          "output_type": "stream",
          "name": "stdout",
          "text": [
            "b2220000 CHitose Taro\n"
          ]
        }
      ],
      "source": [
        "# 入力用\n",
        "print(\"b1998040 CHitose Taro\")"
      ]
    },
    {
      "cell_type": "markdown",
      "source": [
        "## 課題2"
      ],
      "metadata": {
        "id": "Y-1UjAcTwPkf"
      }
    },
    {
      "cell_type": "markdown",
      "source": [
        "int型変数`studentNumber`に学籍番号の数値の部分を代入し、  \n",
        "自分の情報を表示させる\n",
        "\n",
        "＜実行例＞ `b1998040 Chitose Taro`\n",
        "\n",
        "＜hint＞ 3通りあるはずです。"
      ],
      "metadata": {
        "id": "HvO1SGM4wRPg"
      }
    },
    {
      "cell_type": "code",
      "source": [
        "# 入力用\n",
        "student_number = 1998040\n",
        "\n",
        "print(\"b\" + str(student_number) + \" Chitose Taro\")\n",
        "print(\"b{} Chitose Taro\".format(student_number))\n",
        "print(f\"b{student_number} Chitose Taro\")"
      ],
      "metadata": {
        "id": "kXTNAYHLw1Mh",
        "colab": {
          "base_uri": "https://localhost:8080/"
        },
        "outputId": "0d45ba20-eafb-4d30-f4b5-bc80d1a82f14"
      },
      "execution_count": null,
      "outputs": [
        {
          "output_type": "stream",
          "name": "stdout",
          "text": [
            "b2220000 Chitose Taro\n",
            "b2220000 Chitose Taro\n",
            "b2220000 Chitose taro\n"
          ]
        }
      ]
    },
    {
      "cell_type": "markdown",
      "source": [
        "## 課題3"
      ],
      "metadata": {
        "id": "9Tl25UnMw-Fd"
      }
    },
    {
      "cell_type": "markdown",
      "source": [
        "10から2800まで、10飛ばしの数を乱数で生成し、  \n",
        "2220000に足して、名前とともに表示させる\n",
        "\n",
        "＜実行例＞ `b2220010 Chitose Taro`"
      ],
      "metadata": {
        "id": "2WPpYUOLw_5H"
      }
    },
    {
      "cell_type": "code",
      "source": [
        "# 入力用\n",
        "student_number = 2220000\n",
        "\n",
        "import random\n",
        "student_number += random.randint(1,280)*10\n",
        "\n",
        "print(\"b\" + str(student_number) + \" Chitose Taro\")\n",
        "print(\"b{} Chitose Taro\".format(student_number))\n",
        "print(f\"b{student_number} Chitose Taro\")"
      ],
      "metadata": {
        "id": "8hxJMAqQ7uQy",
        "colab": {
          "base_uri": "https://localhost:8080/"
        },
        "outputId": "d6591ac1-0249-4b00-f7f6-f9b7217b8bfd"
      },
      "execution_count": null,
      "outputs": [
        {
          "output_type": "stream",
          "name": "stdout",
          "text": [
            "b2220790 Chitose Taro\n",
            "b2220790 Chitose Taro\n",
            "b2220790 Chitose Taro\n"
          ]
        }
      ]
    }
  ]
}