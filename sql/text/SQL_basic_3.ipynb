{
  "nbformat": 4,
  "nbformat_minor": 0,
  "metadata": {
    "colab": {
      "provenance": [],
      "toc_visible": true,
      "authorship_tag": "ABX9TyNZ4EqQOr2lHYYdLSCnTeml",
      "include_colab_link": true
    },
    "kernelspec": {
      "name": "python3",
      "display_name": "Python 3"
    },
    "language_info": {
      "name": "python"
    }
  },
  "cells": [
    {
      "cell_type": "markdown",
      "metadata": {
        "id": "view-in-github",
        "colab_type": "text"
      },
      "source": [
        "<a href=\"https://colab.research.google.com/github/kiryu-3/Prmn2023/blob/main/sql/text/SQL_basic_3.ipynb\" target=\"_parent\"><img src=\"https://colab.research.google.com/assets/colab-badge.svg\" alt=\"Open In Colab\"/></a>"
      ]
    },
    {
      "cell_type": "markdown",
      "metadata": {
        "id": "7dKOROcOxB42"
      },
      "source": [
        "# SQL入門"
      ]
    },
    {
      "cell_type": "code",
      "execution_count": null,
      "metadata": {
        "id": "8InIj2rsp8re"
      },
      "outputs": [],
      "source": [
        "# 最初に実行してください\n",
        "!apt-get install sqlite3"
      ]
    },
    {
      "cell_type": "markdown",
      "source": [
        "前回に引き続き、今回も以下のような家計簿テーブルを作成します。"
      ],
      "metadata": {
        "id": "6-xNB9f7koS7"
      }
    },
    {
      "cell_type": "code",
      "source": [
        "import sqlite3 # SQLite3ライブラリをインポート\n",
        "\n",
        "# \"sample1.db\"という名前のSQLiteデータベースに接続する\n",
        "con = sqlite3.connect(\"sample1.db\")\n",
        "\n",
        "# カーソルを作成する\n",
        "cursor = con.cursor()\n",
        "\n",
        "# \"expense\"テーブルを作成するSQLクエリを定義する\n",
        "sample_query = \"\"\"\n",
        "CREATE TABLE IF NOT EXISTS expense (\n",
        "  id INTEGER PRIMARY KEY,\n",
        "  date TEXT,\n",
        "  category TEXT,\n",
        "  amount INTEGER,\n",
        "  memo TEXT\n",
        ");\n",
        "\"\"\"\n",
        "\n",
        "# SQLクエリを実行する\n",
        "cursor.execute(sample_query)"
      ],
      "metadata": {
        "colab": {
          "base_uri": "https://localhost:8080/"
        },
        "id": "siiARBuAkrF7",
        "outputId": "347364c7-3a6b-472d-941f-2a2c91e85c4a"
      },
      "execution_count": 2,
      "outputs": [
        {
          "output_type": "execute_result",
          "data": {
            "text/plain": [
              "<sqlite3.Cursor at 0x7f93d1757640>"
            ]
          },
          "metadata": {},
          "execution_count": 2
        }
      ]
    },
    {
      "cell_type": "code",
      "source": [
        "# sample1.dbに作成されたテーブルの構造を表示する\n",
        "!sqlite3 sample1.db \".schema\""
      ],
      "metadata": {
        "colab": {
          "base_uri": "https://localhost:8080/"
        },
        "id": "juj-HNFylCbK",
        "outputId": "35d05ab4-ea96-4d09-cb6d-02797ffd2d44"
      },
      "execution_count": 3,
      "outputs": [
        {
          "output_type": "stream",
          "name": "stdout",
          "text": [
            "CREATE TABLE expense (\n",
            "  id INTEGER PRIMARY KEY,\n",
            "  date TEXT,\n",
            "  category TEXT,\n",
            "  amount INTEGER,\n",
            "  memo TEXT\n",
            ");\n"
          ]
        }
      ]
    },
    {
      "cell_type": "markdown",
      "source": [
        "前回に引き続き、今回も以下のサンプルデータを追加します。"
      ],
      "metadata": {
        "id": "XNQZFYdmmAUt"
      }
    },
    {
      "cell_type": "code",
      "source": [
        "add_query = \"\"\"\n",
        "INSERT INTO expense (id, date, category, amount, memo) VALUES\n",
        "  (1, '2022-05-21', 'food', 1000, 'lunch'),\n",
        "  (2, '2022-07-10', 'shopping', 5000, ''),\n",
        "  (3, '2022-09-07', 'food', 1200, 'dinner'),\n",
        "  (4, '2022-03-30', 'travel', 8000, ''),\n",
        "  (5, '2022-02-14', 'food', 800, 'breakfast'),\n",
        "  (6, '2022-04-05', 'shopping', 1500, ''),\n",
        "  (7, '2022-06-18', 'travel', 5000, ''),\n",
        "  (8, '2022-08-21', 'shopping', 2000, ''),\n",
        "  (9, '2022-12-25', 'food', 1500, 'dinner'),\n",
        "  (10, '2022-11-05', 'travel', 3000, ''),\n",
        "  (11, '2022-04-12', 'food', 600, 'snack'),\n",
        "  (12, '2022-07-28', 'shopping', 2500, ''),\n",
        "  (13, '2022-09-10', 'travel', 4000, ''),\n",
        "  (14, '2022-02-17', 'food', 1200, 'lunch'),\n",
        "  (15, '2022-08-06', 'shopping', 3500, ''),\n",
        "  (16, '2022-06-30', 'food', 1000, 'breakfast'),\n",
        "  (17, '2022-11-21', 'travel', 6000, ''),\n",
        "  (18, '2022-12-18', 'shopping', 1800, ''),\n",
        "  (19, '2022-03-15', 'food', 1500, 'dinner'),\n",
        "  (20, '2022-01-22', 'travel', 2000, ''),\n",
        "  (21, '2022-05-23', 'shopping', 2000, ''),\n",
        "  (22, '2022-06-05', 'food', 800, 'snack'),\n",
        "  (23, '2022-07-12', 'travel', 5000, ''),\n",
        "  (24, '2022-08-14', 'food', 1500, 'dinner'),\n",
        "  (25, '2022-09-01', 'shopping', 3000, ''),\n",
        "  (26, '2022-10-06', 'travel', 4000, ''),\n",
        "  (27, '2022-11-11', 'food', 1000, 'lunch'),\n",
        "  (28, '2022-12-24', 'shopping', 5000, ''),\n",
        "  (29, '2022-02-28', 'food', 800, 'breakfast'),\n",
        "  (30, '2022-03-20', 'travel', 6000, '');\n",
        "\n",
        "\"\"\"\n",
        "\n",
        "# SQLクエリを実行する\n",
        "cursor.execute(add_query)\n",
        "\n",
        "con.commit()"
      ],
      "metadata": {
        "id": "ya5y8-0wmG20"
      },
      "execution_count": 4,
      "outputs": []
    },
    {
      "cell_type": "code",
      "source": [
        "# expenseテーブルのデータを取得する\n",
        "!sqlite3 sample1.db \".headers on\" \"SELECT * FROM expense\""
      ],
      "metadata": {
        "id": "l7MfeQkHmRb_",
        "colab": {
          "base_uri": "https://localhost:8080/"
        },
        "outputId": "04609774-0b20-4920-c9a9-cd98fb6f03f0"
      },
      "execution_count": 5,
      "outputs": [
        {
          "output_type": "stream",
          "name": "stdout",
          "text": [
            "id|date|category|amount|memo\n",
            "1|2022-05-21|food|1000|lunch\n",
            "2|2022-07-10|shopping|5000|\n",
            "3|2022-09-07|food|1200|dinner\n",
            "4|2022-03-30|travel|8000|\n",
            "5|2022-02-14|food|800|breakfast\n",
            "6|2022-04-05|shopping|1500|\n",
            "7|2022-06-18|travel|5000|\n",
            "8|2022-08-21|shopping|2000|\n",
            "9|2022-12-25|food|1500|dinner\n",
            "10|2022-11-05|travel|3000|\n",
            "11|2022-04-12|food|600|snack\n",
            "12|2022-07-28|shopping|2500|\n",
            "13|2022-09-10|travel|4000|\n",
            "14|2022-02-17|food|1200|lunch\n",
            "15|2022-08-06|shopping|3500|\n",
            "16|2022-06-30|food|1000|breakfast\n",
            "17|2022-11-21|travel|6000|\n",
            "18|2022-12-18|shopping|1800|\n",
            "19|2022-03-15|food|1500|dinner\n",
            "20|2022-01-22|travel|2000|\n",
            "21|2022-05-23|shopping|2000|\n",
            "22|2022-06-05|food|800|snack\n",
            "23|2022-07-12|travel|5000|\n",
            "24|2022-08-14|food|1500|dinner\n",
            "25|2022-09-01|shopping|3000|\n",
            "26|2022-10-06|travel|4000|\n",
            "27|2022-11-11|food|1000|lunch\n",
            "28|2022-12-24|shopping|5000|\n",
            "29|2022-02-28|food|800|breakfast\n",
            "30|2022-03-20|travel|6000|\n"
          ]
        }
      ]
    },
    {
      "cell_type": "markdown",
      "source": [
        "上記の\"expense\"テーブルは、以下のような構造を持ちます。\n",
        "\n",
        "- id：自動的に割り当てられる数値型の主キー列。\n",
        "- date: ：日付を表すテキスト列。YYYY-MM-DD形式で保存される。\n",
        "- category：支出のカテゴリを表すテキスト列。\n",
        "- amount：支出金額を表す数値型の列。\n",
        "- memo：メモを表すテキスト列。"
      ],
      "metadata": {
        "id": "xw8UJXkT1HcJ"
      }
    },
    {
      "cell_type": "markdown",
      "source": [
        "## データのグループ化"
      ],
      "metadata": {
        "id": "d_TcCHICMqLg"
      }
    },
    {
      "cell_type": "markdown",
      "source": [
        "テーブルの行をグループ化して集計したいときは、**GROUP BY**を使います。\n",
        "\n",
        "``` sql\n",
        "SELECT グループ化の基準列名…, 集計関数\n",
        "  FROM テーブル名\n",
        " (WHERE 絞り込み条件)\n",
        "  GROUP BY グループ化の基準列名…\n",
        "```\n",
        "\n",
        "GROUP BY 句の後に指定したカラム名の値が同じものが同じグループとなります。"
      ],
      "metadata": {
        "id": "JmfF6fhRaUeB"
      }
    },
    {
      "cell_type": "markdown",
      "source": [
        "では、\"category\"カラムでグループ化を行い、  \n",
        "グループ毎に含まれるデータの行数を取得してみましょう。"
      ],
      "metadata": {
        "id": "IMTEpSN6jTTn"
      }
    },
    {
      "cell_type": "code",
      "source": [
        "# expenseテーブルのデータを取得する\n",
        "!sqlite3 sample1.db \".headers on\" \\\n",
        "\"SELECT category, count(*) FROM expense GROUP BY category\""
      ],
      "metadata": {
        "id": "hTemjqjSkEfl",
        "colab": {
          "base_uri": "https://localhost:8080/"
        },
        "outputId": "78f817c6-5db7-4e54-8db8-12d7e7141f6f"
      },
      "execution_count": 6,
      "outputs": [
        {
          "output_type": "stream",
          "name": "stdout",
          "text": [
            "category|count(*)\n",
            "food|12\n",
            "shopping|9\n",
            "travel|9\n"
          ]
        }
      ]
    },
    {
      "cell_type": "markdown",
      "source": [
        "GROUP BY 句に複数の列をカンマで区切って指定すれば、  \n",
        "複数の列を基準にしたグループ化をすることができます。"
      ],
      "metadata": {
        "id": "azwsAIVxkn5U"
      }
    },
    {
      "cell_type": "markdown",
      "source": [
        "\"category\"カラムと\"memo\"カラムでグループ化してみましょう。"
      ],
      "metadata": {
        "id": "2AjymQnsk2Kb"
      }
    },
    {
      "cell_type": "code",
      "source": [
        "# expenseテーブルのデータを取得する\n",
        "!sqlite3 sample1.db \".headers on\" \\\n",
        "\"SELECT category,memo, count(*) FROM expense GROUP BY category, memo\""
      ],
      "metadata": {
        "id": "yBy9Joe3kYEm",
        "colab": {
          "base_uri": "https://localhost:8080/"
        },
        "outputId": "a556dfcf-f541-473a-a00a-11c9d2813371"
      },
      "execution_count": 7,
      "outputs": [
        {
          "output_type": "stream",
          "name": "stdout",
          "text": [
            "category|memo|count(*)\n",
            "food|breakfast|3\n",
            "food|dinner|4\n",
            "food|lunch|3\n",
            "food|snack|2\n",
            "shopping||9\n",
            "travel||9\n"
          ]
        }
      ]
    },
    {
      "cell_type": "markdown",
      "source": [
        "次に、それぞれの月のデータでグループ化し、  \n",
        "さらに\"category\"カラムでグループ化してみようと思います。\n",
        "\n",
        "支出額の合計を可視化してみます。"
      ],
      "metadata": {
        "id": "wmpBu_dfkXzG"
      }
    },
    {
      "cell_type": "code",
      "source": [
        "!sqlite3 sample1.db \".headers on\" \\\n",
        "\"SELECT strftime('%Y-%m', date) AS month, category, SUM(amount) AS sum \\\n",
        " FROM expense \\\n",
        " GROUP BY month, category\""
      ],
      "metadata": {
        "id": "n2z3hqa0l_vJ",
        "colab": {
          "base_uri": "https://localhost:8080/"
        },
        "outputId": "ae72e444-71c2-40e4-ea2e-554aa5a2ab84"
      },
      "execution_count": 8,
      "outputs": [
        {
          "output_type": "stream",
          "name": "stdout",
          "text": [
            "month|category|sum\n",
            "2022-01|travel|2000\n",
            "2022-02|food|2800\n",
            "2022-03|food|1500\n",
            "2022-03|travel|14000\n",
            "2022-04|food|600\n",
            "2022-04|shopping|1500\n",
            "2022-05|food|1000\n",
            "2022-05|shopping|2000\n",
            "2022-06|food|1800\n",
            "2022-06|travel|5000\n",
            "2022-07|shopping|7500\n",
            "2022-07|travel|5000\n",
            "2022-08|food|1500\n",
            "2022-08|shopping|5500\n",
            "2022-09|food|1200\n",
            "2022-09|shopping|3000\n",
            "2022-09|travel|4000\n",
            "2022-10|travel|4000\n",
            "2022-11|food|1000\n",
            "2022-11|travel|9000\n",
            "2022-12|food|1500\n",
            "2022-12|shopping|6800\n"
          ]
        }
      ]
    },
    {
      "cell_type": "markdown",
      "source": [
        "3月に旅行代としての支出が多かったようですね。"
      ],
      "metadata": {
        "id": "e2wZB-_WnTQn"
      }
    },
    {
      "cell_type": "markdown",
      "source": [
        "### グループ後のデータへの条件の設定"
      ],
      "metadata": {
        "id": "Lmu3qNUmol-7"
      }
    },
    {
      "cell_type": "markdown",
      "source": [
        "WHERE 句では、グループ化する前の条件を指定することになります。\n",
        "\n",
        "グループ化した後の条件を指定するときは、**HAVING句**を使います。"
      ],
      "metadata": {
        "id": "yb_jK8mDoybD"
      }
    },
    {
      "cell_type": "markdown",
      "source": [
        "ここで、SELECT文の構文を改めて整理しましょう。\n",
        "\n",
        "``` sql\n",
        "SELECT 選択列リスト\n",
        "  FROM テーブル名\n",
        " [WHERE 条件式]\n",
        " [GROUP BY グループ化列名]\n",
        " [HAVING 集計結果に対する条件式]\n",
        " [ORDER BY 並び替え列名]\n",
        "```"
      ],
      "metadata": {
        "id": "lcpDaW1dqHtJ"
      }
    },
    {
      "cell_type": "markdown",
      "source": [
        "では、月ごと・カテゴリーごとで支出額の合計をグループ化したもののうち、  \n",
        "5000円以上のものだけを取得してみましょう。"
      ],
      "metadata": {
        "id": "0LameW6_rUwG"
      }
    },
    {
      "cell_type": "code",
      "source": [
        "!sqlite3 sample1.db \".headers on\" \\\n",
        "\"SELECT strftime('%Y-%m', date) AS month, category, SUM(amount) AS sum \\\n",
        " FROM expense \\\n",
        " GROUP BY month, category \\\n",
        " HAVING sum >= 5000\""
      ],
      "metadata": {
        "id": "451_OBYqrscW",
        "colab": {
          "base_uri": "https://localhost:8080/"
        },
        "outputId": "d7fad479-103f-44b9-d45d-c103b7b6d5f8"
      },
      "execution_count": 9,
      "outputs": [
        {
          "output_type": "stream",
          "name": "stdout",
          "text": [
            "month|category|sum\n",
            "2022-03|travel|14000\n",
            "2022-06|travel|5000\n",
            "2022-07|shopping|7500\n",
            "2022-07|travel|5000\n",
            "2022-08|shopping|5500\n",
            "2022-11|travel|9000\n",
            "2022-12|shopping|6800\n"
          ]
        }
      ]
    },
    {
      "cell_type": "markdown",
      "source": [
        "## テーブルの結合"
      ],
      "metadata": {
        "id": "Z_0blEG8Txf5"
      }
    },
    {
      "cell_type": "markdown",
      "source": [
        "今までの家計簿テーブルは以下のような形でした。  \n",
        "（一部カラムについては省略しています）\n",
        "\n",
        "![](https://imgur.com/REDHKlW.png)"
      ],
      "metadata": {
        "id": "QgNzrnBEUME_"
      }
    },
    {
      "cell_type": "markdown",
      "source": [
        "ここで、家計簿テーブルを  \n",
        "「家計簿テーブル」と「費目テーブル」の2つに分けてみましょう。\n",
        "\n",
        "![](https://imgur.com/bbMUHSi.png)　![](https://imgur.com/Ylbp27q.png)\n",
        "\n"
      ],
      "metadata": {
        "id": "5lI36REhaFis"
      }
    },
    {
      "cell_type": "markdown",
      "source": [
        "見た目的に見やすいのは単一のテーブルで管理している場合です。\n",
        "\n",
        "しかし、複数のテーブルに分けて管理すると、**安全・確実にデータを管理する**ことができます。"
      ],
      "metadata": {
        "id": "FkFvY1PAgZ5m"
      }
    },
    {
      "cell_type": "markdown",
      "source": [
        "構文は以下のようになっています。\n",
        "\n",
        "``` sql\n",
        "SELECT 選択列リスト\n",
        "  FROM テーブルA\n",
        "  INNER JOIN テーブルB\n",
        "    ON テーブルA.カラム名 = テーブルB.カラム名 \n",
        "```"
      ],
      "metadata": {
        "id": "bDmSVCwbhoh1"
      }
    },
    {
      "cell_type": "markdown",
      "source": [
        "ではテーブルを結合してみましょう。"
      ],
      "metadata": {
        "id": "Q4zMwA2viKlc"
      }
    },
    {
      "cell_type": "code",
      "source": [
        "# \"new_expense\"テーブルを作成するSQLクエリを定義する\n",
        "sample_query = \"\"\"\n",
        "CREATE TABLE IF NOT EXISTS new_expense (\n",
        "  id INTEGER PRIMARY KEY,\n",
        "  date TEXT,\n",
        "  categoryId INTEGER,\n",
        "  amount INTEGER,\n",
        "  memo TEXT\n",
        ");\n",
        "\"\"\"\n",
        "\n",
        "# SQLクエリを実行する\n",
        "cursor.execute(sample_query)"
      ],
      "metadata": {
        "id": "i-R_GGdkiX48",
        "colab": {
          "base_uri": "https://localhost:8080/"
        },
        "outputId": "73e0039c-1b42-4cf6-f772-529999cc9819"
      },
      "execution_count": 10,
      "outputs": [
        {
          "output_type": "execute_result",
          "data": {
            "text/plain": [
              "<sqlite3.Cursor at 0x7f93d1757640>"
            ]
          },
          "metadata": {},
          "execution_count": 10
        }
      ]
    },
    {
      "cell_type": "code",
      "source": [
        "add_query = \"\"\"\n",
        "INSERT INTO new_expense (id, date, categoryId, amount, memo) VALUES\n",
        "  (1, '2022-05-21', 1, 1000, 'lunch'),\n",
        "  (2, '2022-07-10', 2, 5000, ''),\n",
        "  (3, '2022-09-07', 1, 1200, 'dinner'),\n",
        "  (4, '2022-03-30', 3, 8000, ''),\n",
        "  (5, '2022-02-14', 1, 800, 'breakfast'),\n",
        "  (6, '2022-04-05', 2, 1500, ''),\n",
        "  (7, '2022-06-18', 3, 5000, ''),\n",
        "  (8, '2022-08-21', 2, 2000, ''),\n",
        "  (9, '2022-12-25', 1, 1500, 'dinner'),\n",
        "  (10, '2022-11-05', 3, 3000, ''),\n",
        "  (11, '2022-04-12', 1, 600, 'snack'),\n",
        "  (12, '2022-07-28', 2, 2500, ''),\n",
        "  (13, '2022-09-10', 3, 4000, ''),\n",
        "  (14, '2022-02-17', 1, 1200, 'lunch'),\n",
        "  (15, '2022-08-06', 2, 3500, ''),\n",
        "  (16, '2022-06-30', 1, 1000, 'breakfast'),\n",
        "  (17, '2022-11-21', 3, 6000, ''),\n",
        "  (18, '2022-12-18', 2, 1800, ''),\n",
        "  (19, '2022-03-15', 1, 1500, 'dinner'),\n",
        "  (20, '2022-01-22', 'travel', 2000, ''),\n",
        "  (21, '2022-05-23', 2, 2000, ''),\n",
        "  (22, '2022-06-05', 1, 800, 'snack'),\n",
        "  (23, '2022-07-12', 3, 5000, ''),\n",
        "  (24, '2022-08-14', 1, 1500, 'dinner'),\n",
        "  (25, '2022-09-01', 2, 3000, ''),\n",
        "  (26, '2022-10-06', 3, 4000, ''),\n",
        "  (27, '2022-11-11', 1, 1000, 'lunch'),\n",
        "  (28, '2022-12-24', 2, 5000, ''),\n",
        "  (29, '2022-02-28', 1, 800, 'breakfast'),\n",
        "  (30, '2022-03-20', 3, 6000, '');\n",
        "\n",
        "\"\"\"\n",
        "\n",
        "# SQLクエリを実行する\n",
        "cursor.execute(add_query)\n",
        "\n",
        "con.commit()"
      ],
      "metadata": {
        "id": "H1FZOgMli3D0"
      },
      "execution_count": 11,
      "outputs": []
    },
    {
      "cell_type": "code",
      "source": [
        "# \"categories\"テーブルを作成するSQLクエリを定義する\n",
        "sample_query = \"\"\"\n",
        "CREATE TABLE IF NOT EXISTS categories (\n",
        "  id INTEGER PRIMARY KEY,\n",
        "  category TEXT\n",
        ");\n",
        "\"\"\"\n",
        "\n",
        "# SQLクエリを実行する\n",
        "cursor.execute(sample_query)"
      ],
      "metadata": {
        "id": "amq0HSWojVGJ",
        "colab": {
          "base_uri": "https://localhost:8080/"
        },
        "outputId": "8f4aaed3-bf32-4383-a45b-54e6edd31050"
      },
      "execution_count": 12,
      "outputs": [
        {
          "output_type": "execute_result",
          "data": {
            "text/plain": [
              "<sqlite3.Cursor at 0x7f93d1757640>"
            ]
          },
          "metadata": {},
          "execution_count": 12
        }
      ]
    },
    {
      "cell_type": "code",
      "source": [
        "add_query = \"\"\"\n",
        "INSERT INTO categories (id, category) VALUES\n",
        "  (1, 'food'),\n",
        "  (2, 'shopping'),\n",
        "  (3, 'travel');\n",
        "\n",
        "\"\"\"\n",
        "\n",
        "# SQLクエリを実行する\n",
        "cursor.execute(add_query)\n",
        "\n",
        "con.commit()"
      ],
      "metadata": {
        "id": "R_wsd2yFjlqQ"
      },
      "execution_count": 13,
      "outputs": []
    },
    {
      "cell_type": "code",
      "source": [
        "# new_expenseテーブルのデータを取得する\n",
        "!sqlite3 sample1.db \".headers on\" \"SELECT * FROM new_expense\""
      ],
      "metadata": {
        "id": "N10W8WpRkKy3",
        "colab": {
          "base_uri": "https://localhost:8080/"
        },
        "outputId": "0e1ed8b3-32c8-4463-95f2-032f1c44e6a0"
      },
      "execution_count": 14,
      "outputs": [
        {
          "output_type": "stream",
          "name": "stdout",
          "text": [
            "id|date|categoryId|amount|memo\n",
            "1|2022-05-21|1|1000|lunch\n",
            "2|2022-07-10|2|5000|\n",
            "3|2022-09-07|1|1200|dinner\n",
            "4|2022-03-30|3|8000|\n",
            "5|2022-02-14|1|800|breakfast\n",
            "6|2022-04-05|2|1500|\n",
            "7|2022-06-18|3|5000|\n",
            "8|2022-08-21|2|2000|\n",
            "9|2022-12-25|1|1500|dinner\n",
            "10|2022-11-05|3|3000|\n",
            "11|2022-04-12|1|600|snack\n",
            "12|2022-07-28|2|2500|\n",
            "13|2022-09-10|3|4000|\n",
            "14|2022-02-17|1|1200|lunch\n",
            "15|2022-08-06|2|3500|\n",
            "16|2022-06-30|1|1000|breakfast\n",
            "17|2022-11-21|3|6000|\n",
            "18|2022-12-18|2|1800|\n",
            "19|2022-03-15|1|1500|dinner\n",
            "20|2022-01-22|travel|2000|\n",
            "21|2022-05-23|2|2000|\n",
            "22|2022-06-05|1|800|snack\n",
            "23|2022-07-12|3|5000|\n",
            "24|2022-08-14|1|1500|dinner\n",
            "25|2022-09-01|2|3000|\n",
            "26|2022-10-06|3|4000|\n",
            "27|2022-11-11|1|1000|lunch\n",
            "28|2022-12-24|2|5000|\n",
            "29|2022-02-28|1|800|breakfast\n",
            "30|2022-03-20|3|6000|\n"
          ]
        }
      ]
    },
    {
      "cell_type": "code",
      "source": [
        "# categoriesテーブルのデータを取得する\n",
        "!sqlite3 sample1.db \".headers on\" \"SELECT * FROM categories\""
      ],
      "metadata": {
        "id": "4MiwpG2gkPaH",
        "colab": {
          "base_uri": "https://localhost:8080/"
        },
        "outputId": "12c21842-606b-4a07-887d-c4c454383b12"
      },
      "execution_count": 15,
      "outputs": [
        {
          "output_type": "stream",
          "name": "stdout",
          "text": [
            "id|category\n",
            "1|food\n",
            "2|shopping\n",
            "3|travel\n"
          ]
        }
      ]
    },
    {
      "cell_type": "markdown",
      "source": [
        "では、結合してみましょう。"
      ],
      "metadata": {
        "id": "XDJAx83DljO1"
      }
    },
    {
      "cell_type": "code",
      "source": [
        "# new_expenseテーブルのデータを取得する\n",
        "!sqlite3 sample1.db \".headers on\" \\\n",
        "\"SELECT new_expense.id, \\\n",
        "        new_expense.date, \\\n",
        "        categories.category, \\\n",
        "        new_expense.amount, \\\n",
        "        new_expense.memo \\\n",
        " FROM new_expense \\\n",
        " INNER JOIN categories \\\n",
        " ON new_expense.categoryId = categories.id; \\\n",
        "\""
      ],
      "metadata": {
        "id": "yYIOyHWClqSE",
        "colab": {
          "base_uri": "https://localhost:8080/"
        },
        "outputId": "ea65c56c-1629-4138-bcc3-c3f371cc4c0b"
      },
      "execution_count": 16,
      "outputs": [
        {
          "output_type": "stream",
          "name": "stdout",
          "text": [
            "id|date|category|amount|memo\n",
            "1|2022-05-21|food|1000|lunch\n",
            "2|2022-07-10|shopping|5000|\n",
            "3|2022-09-07|food|1200|dinner\n",
            "4|2022-03-30|travel|8000|\n",
            "5|2022-02-14|food|800|breakfast\n",
            "6|2022-04-05|shopping|1500|\n",
            "7|2022-06-18|travel|5000|\n",
            "8|2022-08-21|shopping|2000|\n",
            "9|2022-12-25|food|1500|dinner\n",
            "10|2022-11-05|travel|3000|\n",
            "11|2022-04-12|food|600|snack\n",
            "12|2022-07-28|shopping|2500|\n",
            "13|2022-09-10|travel|4000|\n",
            "14|2022-02-17|food|1200|lunch\n",
            "15|2022-08-06|shopping|3500|\n",
            "16|2022-06-30|food|1000|breakfast\n",
            "17|2022-11-21|travel|6000|\n",
            "18|2022-12-18|shopping|1800|\n",
            "19|2022-03-15|food|1500|dinner\n",
            "21|2022-05-23|shopping|2000|\n",
            "22|2022-06-05|food|800|snack\n",
            "23|2022-07-12|travel|5000|\n",
            "24|2022-08-14|food|1500|dinner\n",
            "25|2022-09-01|shopping|3000|\n",
            "26|2022-10-06|travel|4000|\n",
            "27|2022-11-11|food|1000|lunch\n",
            "28|2022-12-24|shopping|5000|\n",
            "29|2022-02-28|food|800|breakfast\n",
            "30|2022-03-20|travel|6000|\n"
          ]
        }
      ]
    },
    {
      "cell_type": "markdown",
      "source": [
        "### 複数テーブルに分ける利点"
      ],
      "metadata": {
        "id": "CGnEimpPm-9K"
      }
    },
    {
      "cell_type": "markdown",
      "source": [
        "複数のテーブルに分けて管理すると、安全・確実にデータを管理することができると  \n",
        "先ほど述べました。\n",
        "\n",
        "ここでは、実際に分かりやすい例を挙げます。"
      ],
      "metadata": {
        "id": "piLXz9KDnZmE"
      }
    },
    {
      "cell_type": "markdown",
      "source": [
        "例えば、古い家計簿テーブルに対して、  \n",
        "\"category\"カラムの値をすべて日本語に変更するとしましょう。\n",
        "\n",
        "以下のように書くことになります。"
      ],
      "metadata": {
        "id": "CoNZw_L2oLXH"
      }
    },
    {
      "cell_type": "code",
      "source": [
        "# expenseテーブルのデータを取得する\n",
        "!sqlite3 sample1.db \".headers on\" \\\n",
        "\"SELECT category, count(*) FROM expense GROUP BY category\""
      ],
      "metadata": {
        "id": "l6dbkyFsq31x",
        "colab": {
          "base_uri": "https://localhost:8080/"
        },
        "outputId": "5424ac8a-338a-41a7-c624-5675eafea696"
      },
      "execution_count": 17,
      "outputs": [
        {
          "output_type": "stream",
          "name": "stdout",
          "text": [
            "category|count(*)\n",
            "food|12\n",
            "shopping|9\n",
            "travel|9\n"
          ]
        }
      ]
    },
    {
      "cell_type": "code",
      "source": [
        "update_query = \"\"\"\n",
        "UPDATE expense\n",
        "SET category = \n",
        "    CASE \n",
        "        WHEN category = 'food' THEN '食費'\n",
        "        WHEN category = 'shopping' THEN '日用品費'\n",
        "        WHEN category = 'travel' THEN '旅費'\n",
        "        ELSE category\n",
        "    END;\n",
        "\"\"\"\n",
        "\n",
        "# SQLクエリを実行する\n",
        "cursor.execute(update_query)\n",
        "\n",
        "con.commit()"
      ],
      "metadata": {
        "id": "PVI5YiH8oaf-"
      },
      "execution_count": 18,
      "outputs": []
    },
    {
      "cell_type": "code",
      "source": [
        "# expenseテーブルのデータを取得する\n",
        "!sqlite3 sample1.db \".headers on\" \\\n",
        "\"SELECT category, count(*) FROM expense GROUP BY category\""
      ],
      "metadata": {
        "id": "iQsWXFZoqstC",
        "colab": {
          "base_uri": "https://localhost:8080/"
        },
        "outputId": "6f492242-f04d-4cdc-8080-0402b7e1f35b"
      },
      "execution_count": 19,
      "outputs": [
        {
          "output_type": "stream",
          "name": "stdout",
          "text": [
            "category|count(*)\n",
            "旅費|9\n",
            "日用品費|9\n",
            "食費|12\n"
          ]
        }
      ]
    },
    {
      "cell_type": "markdown",
      "source": [
        "1行ずつ条件に合致するかを調べて書き換えることになります。\n",
        "\n",
        "もし家計簿テーブルが何万行もあったりしたら、明らかに大変です。"
      ],
      "metadata": {
        "id": "ubNXLALMqbE8"
      }
    },
    {
      "cell_type": "markdown",
      "source": [
        "では次に、複数テーブルに分けた場合を考えてみましょう。\n",
        "\n",
        "「費目テーブル」の値を更新するだけで、同様のことができます。"
      ],
      "metadata": {
        "id": "O_jI6VHjrQLh"
      }
    },
    {
      "cell_type": "code",
      "source": [
        "update_query = \"\"\"\n",
        "UPDATE categories\n",
        "SET category = \n",
        "    CASE \n",
        "        WHEN category = 'food' THEN '食費'\n",
        "        WHEN category = 'shopping' THEN '日用品費'\n",
        "        WHEN category = 'travel' THEN '旅費'\n",
        "        ELSE category\n",
        "    END;\n",
        "\"\"\"\n",
        "\n",
        "# SQLクエリを実行する\n",
        "cursor.execute(update_query)\n",
        "\n",
        "con.commit()"
      ],
      "metadata": {
        "id": "uBGUKbOgrq_J"
      },
      "execution_count": 20,
      "outputs": []
    },
    {
      "cell_type": "code",
      "source": [
        "# categoriesテーブルのデータを取得する\n",
        "!sqlite3 sample1.db \".headers on\" \"SELECT * FROM categories\""
      ],
      "metadata": {
        "id": "lTb075oAr1Sa",
        "colab": {
          "base_uri": "https://localhost:8080/"
        },
        "outputId": "d6942544-52e0-48d3-c676-cc7cb7d1a8df"
      },
      "execution_count": 21,
      "outputs": [
        {
          "output_type": "stream",
          "name": "stdout",
          "text": [
            "id|category\n",
            "1|食費\n",
            "2|日用品費\n",
            "3|旅費\n"
          ]
        }
      ]
    },
    {
      "cell_type": "markdown",
      "source": [
        "### 内部結合"
      ],
      "metadata": {
        "id": "SoHfk1nVhOZH"
      }
    },
    {
      "cell_type": "markdown",
      "source": [
        "結合条件を満たす行だけを抽出し、それ以外の行を除外する  \n",
        "結合方法を**内部結合**といいます。\n",
        "\n",
        "2つのテーブルに共通するデータだけが結合されます。"
      ],
      "metadata": {
        "id": "raRVdS4RhTZV"
      }
    },
    {
      "cell_type": "markdown",
      "source": [
        "これまでやってきたのは内部結合です。  \n",
        "\n",
        "内部結合が何なのかを分かりやすくするために、「費目テーブル」を以下のように変更します。\n",
        "\n",
        "![](https://imgur.com/bbMUHSi.png)　![](https://imgur.com/HzXNgQ3.png)"
      ],
      "metadata": {
        "id": "egnESwCqswX-"
      }
    },
    {
      "cell_type": "markdown",
      "source": [
        "結合結果は以下のようになります。\n",
        "\n",
        "![](https://imgur.com/YAvfUUF.png)"
      ],
      "metadata": {
        "id": "FDWwrJ4dtzS8"
      }
    },
    {
      "cell_type": "markdown",
      "source": [
        "「費目テーブル」の\"ID\"カラムの値の中に、  \n",
        "「家計簿テーブル」の\"categoryID\"カラムの値が存在しなかった場合は、  \n",
        "データは取得されません。"
      ],
      "metadata": {
        "id": "MQT9l3ZIuMZz"
      }
    },
    {
      "cell_type": "markdown",
      "source": [
        "### 外部結合"
      ],
      "metadata": {
        "id": "8kOof5Z6umcq"
      }
    },
    {
      "cell_type": "markdown",
      "source": [
        "一方のテーブルに存在する行でもう一方のテーブルに存在しない場合の  \n",
        "結合方法を、**外部結合**といいます。"
      ],
      "metadata": {
        "id": "qUpVjZwcurqM"
      }
    },
    {
      "cell_type": "markdown",
      "source": [
        "外部結合の場合は一致しない場合もデータとして取得します。"
      ],
      "metadata": {
        "id": "Eah0xSP7vImy"
      }
    },
    {
      "cell_type": "markdown",
      "source": [
        "外部結合が何なのかを分かりやすくするために、「費目テーブル」を以下のように変更します。\n",
        "\n",
        "![](https://imgur.com/bbMUHSi.png)　![](https://imgur.com/HzXNgQ3.png)"
      ],
      "metadata": {
        "id": "YlJvoCRfvUQ1"
      }
    },
    {
      "cell_type": "markdown",
      "source": [
        "結合結果は以下のようになります。\n",
        "\n",
        "![](https://imgur.com/AZTV68v.png)"
      ],
      "metadata": {
        "id": "vNo4ptYDvUQ2"
      }
    },
    {
      "cell_type": "markdown",
      "source": [
        "「費目テーブル」の\"ID\"カラムの値の中に、  \n",
        "「家計簿テーブル」の\"categoryID\"カラムの値が存在しなかった場合は、  \n",
        "内容がすべてNULLな行を生み出して結合します。"
      ],
      "metadata": {
        "id": "ZSm0kae8vUQ2"
      }
    },
    {
      "cell_type": "markdown",
      "source": [
        "構文は以下のようになっています。\n",
        "\n",
        "``` sql\n",
        "SELECT 選択列リスト\n",
        "  FROM テーブルA\n",
        "  LEFT OUTER JOIN テーブルB\n",
        "    ON テーブルA.カラム名 = テーブルB.カラム名 \n",
        "```"
      ],
      "metadata": {
        "id": "nI0_rZ5zwsg5"
      }
    },
    {
      "cell_type": "markdown",
      "source": [
        "ではやってみましょう。"
      ],
      "metadata": {
        "id": "jskZTrUYv7K4"
      }
    },
    {
      "cell_type": "code",
      "source": [
        "# \"new_categories\"テーブルを作成するSQLクエリを定義する\n",
        "sample_query = \"\"\"\n",
        "CREATE TABLE IF NOT EXISTS new_categories (\n",
        "  id INTEGER PRIMARY KEY,\n",
        "  category TEXT\n",
        ");\n",
        "\"\"\"\n",
        "\n",
        "# SQLクエリを実行する\n",
        "cursor.execute(sample_query)"
      ],
      "metadata": {
        "id": "-vvSimPJwWb5",
        "colab": {
          "base_uri": "https://localhost:8080/"
        },
        "outputId": "4a2acb04-697f-4593-9aea-dfa3420987a2"
      },
      "execution_count": 22,
      "outputs": [
        {
          "output_type": "execute_result",
          "data": {
            "text/plain": [
              "<sqlite3.Cursor at 0x7f93d1757640>"
            ]
          },
          "metadata": {},
          "execution_count": 22
        }
      ]
    },
    {
      "cell_type": "code",
      "source": [
        "add_query = \"\"\"\n",
        "INSERT INTO new_categories (id, category) VALUES\n",
        "  (1, 'food'),\n",
        "  (2, 'shopping');\n",
        "\"\"\"\n",
        "\n",
        "# SQLクエリを実行する\n",
        "cursor.execute(add_query)\n",
        "\n",
        "con.commit()"
      ],
      "metadata": {
        "id": "MxjbEnqawWb6"
      },
      "execution_count": 23,
      "outputs": []
    },
    {
      "cell_type": "code",
      "source": [
        "# new_categoriesテーブルのデータを取得する\n",
        "!sqlite3 sample1.db \".headers on\" \"SELECT * FROM new_categories\""
      ],
      "metadata": {
        "id": "Swi5rb5lwWb7",
        "colab": {
          "base_uri": "https://localhost:8080/"
        },
        "outputId": "be714485-9149-4ae2-861c-d3d03637e7f3"
      },
      "execution_count": 24,
      "outputs": [
        {
          "output_type": "stream",
          "name": "stdout",
          "text": [
            "id|category\n",
            "1|food\n",
            "2|shopping\n"
          ]
        }
      ]
    },
    {
      "cell_type": "markdown",
      "source": [
        "ではテーブルを結合してみましょう。"
      ],
      "metadata": {
        "id": "L2iKEzkFw26g"
      }
    },
    {
      "cell_type": "code",
      "source": [
        "# new_categoriesテーブルのデータを取得する\n",
        "!sqlite3 sample1.db \".headers on\" \\\n",
        "\"SELECT new_expense.id, \\\n",
        "        new_expense.date, \\\n",
        "        new_categories.category, \\\n",
        "        new_expense.amount, \\\n",
        "        new_expense.memo \\\n",
        " FROM new_expense \\\n",
        " LEFT OUTER JOIN new_categories \\\n",
        " ON new_expense.categoryId = new_categories.id; \\\n",
        "\""
      ],
      "metadata": {
        "id": "ruJDfGwPw57O",
        "colab": {
          "base_uri": "https://localhost:8080/"
        },
        "outputId": "7d1cdf8a-24a7-4e34-f552-7689f1c3c831"
      },
      "execution_count": 25,
      "outputs": [
        {
          "output_type": "stream",
          "name": "stdout",
          "text": [
            "id|date|category|amount|memo\n",
            "1|2022-05-21|food|1000|lunch\n",
            "2|2022-07-10|shopping|5000|\n",
            "3|2022-09-07|food|1200|dinner\n",
            "4|2022-03-30||8000|\n",
            "5|2022-02-14|food|800|breakfast\n",
            "6|2022-04-05|shopping|1500|\n",
            "7|2022-06-18||5000|\n",
            "8|2022-08-21|shopping|2000|\n",
            "9|2022-12-25|food|1500|dinner\n",
            "10|2022-11-05||3000|\n",
            "11|2022-04-12|food|600|snack\n",
            "12|2022-07-28|shopping|2500|\n",
            "13|2022-09-10||4000|\n",
            "14|2022-02-17|food|1200|lunch\n",
            "15|2022-08-06|shopping|3500|\n",
            "16|2022-06-30|food|1000|breakfast\n",
            "17|2022-11-21||6000|\n",
            "18|2022-12-18|shopping|1800|\n",
            "19|2022-03-15|food|1500|dinner\n",
            "20|2022-01-22||2000|\n",
            "21|2022-05-23|shopping|2000|\n",
            "22|2022-06-05|food|800|snack\n",
            "23|2022-07-12||5000|\n",
            "24|2022-08-14|food|1500|dinner\n",
            "25|2022-09-01|shopping|3000|\n",
            "26|2022-10-06||4000|\n",
            "27|2022-11-11|food|1000|lunch\n",
            "28|2022-12-24|shopping|5000|\n",
            "29|2022-02-28|food|800|breakfast\n",
            "30|2022-03-20||6000|\n"
          ]
        }
      ]
    },
    {
      "cell_type": "markdown",
      "source": [
        "\"category\"カラムの値が、\"travel\"から空になって取得できたことが確認できます。\n",
        "\n",
        "これで、取得結果から何らかの行が消滅してしまうことが避けられます。\n",
        "\n"
      ],
      "metadata": {
        "id": "2ZW1GCoXxIPN"
      }
    },
    {
      "cell_type": "markdown",
      "source": [
        "![](https://imgur.com/8TsI5MO.png)　![](https://imgur.com/1ASe8QX.png)"
      ],
      "metadata": {
        "id": "GpPoE8qdyBk7"
      }
    },
    {
      "cell_type": "markdown",
      "source": [
        "そのほかの結合については、[こちら](https://www.javadrive.jp/sqlite/join/)のページなどを参考にしてください。"
      ],
      "metadata": {
        "id": "9_ciMHkexjVF"
      }
    },
    {
      "cell_type": "markdown",
      "source": [
        "## ビュー"
      ],
      "metadata": {
        "id": "9sarIYBq1fhM"
      }
    },
    {
      "cell_type": "markdown",
      "source": [
        "データベースのテーブルのクエリ結果を仮想的に表したものを**ビュー(view)**といいます。\n",
        "\n",
        "SELECT 文などによってテーブルの一部のカラムのデータを閲覧したい場合に、  \n",
        "再利用しやすくなります。"
      ],
      "metadata": {
        "id": "R5Ao1o9l2BuD"
      }
    },
    {
      "cell_type": "markdown",
      "source": [
        "例えば、複数のテーブルを用意した場合、以下のコードを入力してテーブルを結合しました。"
      ],
      "metadata": {
        "id": "kA5Q4DyX2bOS"
      }
    },
    {
      "cell_type": "code",
      "source": [
        "# expenseテーブルのデータを取得する\n",
        "!sqlite3 sample1.db \".headers on\" \\\n",
        "\"SELECT new_expense.id, \\\n",
        "        new_expense.date, \\\n",
        "        categories.category, \\\n",
        "        new_expense.amount, \\\n",
        "        new_expense.memo \\\n",
        " FROM new_expense \\\n",
        " INNER JOIN categories \\\n",
        " ON new_expense.categoryId = categories.id \\\n",
        " ORDER BY date; \\\n",
        "\""
      ],
      "metadata": {
        "id": "8YwMIG122ogC",
        "colab": {
          "base_uri": "https://localhost:8080/"
        },
        "outputId": "8d744413-8a3b-4257-eecb-55f8bbfc4f09"
      },
      "execution_count": 26,
      "outputs": [
        {
          "output_type": "stream",
          "name": "stdout",
          "text": [
            "id|date|category|amount|memo\n",
            "5|2022-02-14|食費|800|breakfast\n",
            "14|2022-02-17|食費|1200|lunch\n",
            "29|2022-02-28|食費|800|breakfast\n",
            "19|2022-03-15|食費|1500|dinner\n",
            "30|2022-03-20|旅費|6000|\n",
            "4|2022-03-30|旅費|8000|\n",
            "6|2022-04-05|日用品費|1500|\n",
            "11|2022-04-12|食費|600|snack\n",
            "1|2022-05-21|食費|1000|lunch\n",
            "21|2022-05-23|日用品費|2000|\n",
            "22|2022-06-05|食費|800|snack\n",
            "7|2022-06-18|旅費|5000|\n",
            "16|2022-06-30|食費|1000|breakfast\n",
            "2|2022-07-10|日用品費|5000|\n",
            "23|2022-07-12|旅費|5000|\n",
            "12|2022-07-28|日用品費|2500|\n",
            "15|2022-08-06|日用品費|3500|\n",
            "24|2022-08-14|食費|1500|dinner\n",
            "8|2022-08-21|日用品費|2000|\n",
            "25|2022-09-01|日用品費|3000|\n",
            "3|2022-09-07|食費|1200|dinner\n",
            "13|2022-09-10|旅費|4000|\n",
            "26|2022-10-06|旅費|4000|\n",
            "10|2022-11-05|旅費|3000|\n",
            "27|2022-11-11|食費|1000|lunch\n",
            "17|2022-11-21|旅費|6000|\n",
            "18|2022-12-18|日用品費|1800|\n",
            "28|2022-12-24|日用品費|5000|\n",
            "9|2022-12-25|食費|1500|dinner\n"
          ]
        }
      ]
    },
    {
      "cell_type": "markdown",
      "source": [
        "ビューでは結果表をテーブルのように扱うことができます。  \n",
        "\n",
        "つまり、SELECT文によって取得できたデータをを再利用できるようになるということです。 "
      ],
      "metadata": {
        "id": "zqXPSU5N2qKJ"
      }
    },
    {
      "cell_type": "markdown",
      "source": [
        "### ビューの作成"
      ],
      "metadata": {
        "id": "psvbWUjl5BwF"
      }
    },
    {
      "cell_type": "markdown",
      "source": [
        "ビューの作成には**CREATE VIEW文**を使います。\n",
        "\n",
        "``` sql\n",
        "CREATE VIEW ビュー名 AS SELECT文\n",
        "```"
      ],
      "metadata": {
        "id": "tuF0JGTw3JrI"
      }
    },
    {
      "cell_type": "markdown",
      "source": [
        "では、先ほど得られたデータからビューを作成してみましょう。"
      ],
      "metadata": {
        "id": "Q1IE3WJK4P_H"
      }
    },
    {
      "cell_type": "code",
      "source": [
        "# expenseテーブルのデータを取得する\n",
        "!sqlite3 sample1.db \".headers on\" \\\n",
        "\"CREATE VIEW combined_expense \\\n",
        " AS SELECT new_expense.id, \\\n",
        "        new_expense.date, \\\n",
        "        categories.category, \\\n",
        "        new_expense.amount, \\\n",
        "        new_expense.memo \\\n",
        "    FROM new_expense \\\n",
        "    INNER JOIN categories \\\n",
        "    ON new_expense.categoryId = categories.id; \\\n",
        "\""
      ],
      "metadata": {
        "id": "Ju80-2Bs4akv"
      },
      "execution_count": 27,
      "outputs": []
    },
    {
      "cell_type": "markdown",
      "source": [
        "このビューにSELECT文を実行してみましょう。"
      ],
      "metadata": {
        "id": "bbzzSx4j5TH1"
      }
    },
    {
      "cell_type": "code",
      "source": [
        "!sqlite3 sample1.db \".headers on\" \\\n",
        "\"SELECT strftime('%Y-%m', date) AS month, category, SUM(amount) AS sum \\\n",
        " FROM combined_expense \\\n",
        " GROUP BY month, category\""
      ],
      "metadata": {
        "id": "ko0y3tsH5Z80",
        "colab": {
          "base_uri": "https://localhost:8080/"
        },
        "outputId": "69390096-cd5f-4430-c7c5-ae122f4c50e3"
      },
      "execution_count": 28,
      "outputs": [
        {
          "output_type": "stream",
          "name": "stdout",
          "text": [
            "month|category|sum\n",
            "2022-02|食費|2800\n",
            "2022-03|旅費|14000\n",
            "2022-03|食費|1500\n",
            "2022-04|日用品費|1500\n",
            "2022-04|食費|600\n",
            "2022-05|日用品費|2000\n",
            "2022-05|食費|1000\n",
            "2022-06|旅費|5000\n",
            "2022-06|食費|1800\n",
            "2022-07|旅費|5000\n",
            "2022-07|日用品費|7500\n",
            "2022-08|日用品費|5500\n",
            "2022-08|食費|1500\n",
            "2022-09|旅費|4000\n",
            "2022-09|日用品費|3000\n",
            "2022-09|食費|1200\n",
            "2022-10|旅費|4000\n",
            "2022-11|旅費|9000\n",
            "2022-11|食費|1000\n",
            "2022-12|日用品費|6800\n",
            "2022-12|食費|1500\n"
          ]
        }
      ]
    },
    {
      "cell_type": "markdown",
      "source": [
        "テーブルを使った時と同じ結果が得られました。"
      ],
      "metadata": {
        "id": "cRrA2sKH5dUl"
      }
    },
    {
      "cell_type": "markdown",
      "source": [
        "ビュー自体にデータを保持する機能はなく、あくまで参照元のデータをその都度表示する仕組みです。\n",
        "\n",
        "そのため、参照元のデータが変更された場合には、ビューの内容も自動的に更新されます。"
      ],
      "metadata": {
        "id": "wwqyP2de6Cxj"
      }
    },
    {
      "cell_type": "markdown",
      "source": [
        "では、ここでは大みそかに食費の出費があったとして、そのデータを追加します。"
      ],
      "metadata": {
        "id": "xUkx_txl7Ez5"
      }
    },
    {
      "cell_type": "code",
      "source": [
        "add_query = \"\"\"\n",
        "INSERT INTO new_expense (id, date, categoryId, amount, memo) VALUES\n",
        "  (31, '2022-12-31', 1, 5000, 'dinner');\n",
        "\"\"\"\n",
        "\n",
        "# SQLクエリを実行する\n",
        "cursor.execute(add_query)\n",
        "\n",
        "con.commit()"
      ],
      "metadata": {
        "id": "rFrX6sGA7S0x"
      },
      "execution_count": 29,
      "outputs": []
    },
    {
      "cell_type": "code",
      "source": [
        "!sqlite3 sample1.db \".headers on\" \\\n",
        "\"SELECT strftime('%Y-%m', date) AS month, category, SUM(amount) AS sum \\\n",
        " FROM combined_expense \\\n",
        " GROUP BY month, category\""
      ],
      "metadata": {
        "id": "4xmIvNHh7v_n",
        "colab": {
          "base_uri": "https://localhost:8080/"
        },
        "outputId": "e9448931-21cd-449a-a11d-c01a5b8c5bb3"
      },
      "execution_count": 30,
      "outputs": [
        {
          "output_type": "stream",
          "name": "stdout",
          "text": [
            "month|category|sum\n",
            "2022-02|食費|2800\n",
            "2022-03|旅費|14000\n",
            "2022-03|食費|1500\n",
            "2022-04|日用品費|1500\n",
            "2022-04|食費|600\n",
            "2022-05|日用品費|2000\n",
            "2022-05|食費|1000\n",
            "2022-06|旅費|5000\n",
            "2022-06|食費|1800\n",
            "2022-07|旅費|5000\n",
            "2022-07|日用品費|7500\n",
            "2022-08|日用品費|5500\n",
            "2022-08|食費|1500\n",
            "2022-09|旅費|4000\n",
            "2022-09|日用品費|3000\n",
            "2022-09|食費|1200\n",
            "2022-10|旅費|4000\n",
            "2022-11|旅費|9000\n",
            "2022-11|食費|1000\n",
            "2022-12|日用品費|6800\n",
            "2022-12|食費|6500\n"
          ]
        }
      ]
    },
    {
      "cell_type": "markdown",
      "source": [
        "ビュー`combined_expense`が自動で更新されていることが、  \n",
        "12月の食費のデータから確認できます。"
      ],
      "metadata": {
        "id": "2FmCK0fH9tvz"
      }
    },
    {
      "cell_type": "markdown",
      "source": [
        "また、ビューはテーブルとよく似ていますが、全く同じというわけではありません。\n",
        "\n",
        "ビューに対してデータの追加や削除、データの更新といった処理を行うことは、  \n",
        "基本的にはできなくなっています。注意しましょう。"
      ],
      "metadata": {
        "id": "hfAroqPV6l-7"
      }
    },
    {
      "cell_type": "markdown",
      "source": [
        "### ビューの削除"
      ],
      "metadata": {
        "id": "TKsUdVNn98sC"
      }
    },
    {
      "cell_type": "markdown",
      "source": [
        "ビューの作成には**DROP VIEW文**を使います。\n",
        "\n",
        "``` sql\n",
        "DROP VIEW ビュー名\n",
        "```"
      ],
      "metadata": {
        "id": "gZbdm75Q9-ci"
      }
    },
    {
      "cell_type": "markdown",
      "source": [
        "では先ほど作ったビュー`combined_expense`を削除してみましょう。"
      ],
      "metadata": {
        "id": "CCTzwnD7-OO8"
      }
    },
    {
      "cell_type": "code",
      "source": [
        "# sample1.dbに作成されたテーブルの一覧を表示する\n",
        "!sqlite3 sample1.db \".table\""
      ],
      "metadata": {
        "colab": {
          "base_uri": "https://localhost:8080/"
        },
        "id": "CbVgVF1U-UL3",
        "outputId": "815e71cc-6c8c-4096-9471-60048f2c9abd"
      },
      "execution_count": 31,
      "outputs": [
        {
          "output_type": "stream",
          "name": "stdout",
          "text": [
            "categories        expense           new_expense     \n",
            "combined_expense  new_categories  \n"
          ]
        }
      ]
    },
    {
      "cell_type": "code",
      "source": [
        "# sample1.dbに作成されたテーブルの一覧を表示する\n",
        "!sqlite3 sample1.db \"DROP VIEW combined_expense\""
      ],
      "metadata": {
        "id": "SXFKTEQm-pFJ"
      },
      "execution_count": 32,
      "outputs": []
    },
    {
      "cell_type": "code",
      "source": [
        "# sample1.dbに作成されたテーブルの一覧を表示する\n",
        "!sqlite3 sample1.db \".table\""
      ],
      "metadata": {
        "colab": {
          "base_uri": "https://localhost:8080/"
        },
        "id": "QZfpP8jm-epU",
        "outputId": "5d3e9e04-f0e4-45c7-a86e-dbd4f979f77c"
      },
      "execution_count": 33,
      "outputs": [
        {
          "output_type": "stream",
          "name": "stdout",
          "text": [
            "categories      expense         new_categories  new_expense   \n"
          ]
        }
      ]
    }
  ]
}