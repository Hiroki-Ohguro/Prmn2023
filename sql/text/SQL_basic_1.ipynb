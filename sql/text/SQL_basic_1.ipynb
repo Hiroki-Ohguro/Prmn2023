{
  "cells": [
    {
      "cell_type": "markdown",
      "metadata": {
        "id": "view-in-github",
        "colab_type": "text"
      },
      "source": [
        "<a href=\"https://colab.research.google.com/github/kiryu-3/Prmn2023/blob/main/sql/text/SQL_basic_1.ipynb\" target=\"_parent\"><img src=\"https://colab.research.google.com/assets/colab-badge.svg\" alt=\"Open In Colab\"/></a>"
      ]
    },
    {
      "cell_type": "markdown",
      "metadata": {
        "id": "7dKOROcOxB42"
      },
      "source": [
        "# SQL入門"
      ]
    },
    {
      "cell_type": "code",
      "execution_count": null,
      "metadata": {
        "id": "8InIj2rsp8re"
      },
      "outputs": [],
      "source": [
        "# 最初に実行してください\n",
        "!apt-get install sqlite3"
      ]
    },
    {
      "cell_type": "markdown",
      "metadata": {
        "id": "XcPdbrqGPg5e"
      },
      "source": [
        "## データモデル"
      ]
    },
    {
      "cell_type": "markdown",
      "metadata": {
        "id": "eKPo-wCmPjDd"
      },
      "source": [
        "**データモデル**とは、現実世界の対象やシステム内で扱うデータを、  \n",
        "コンピュータ上で扱いやすい形式に変換するための手法です。\n",
        "\n",
        "データモデルに従って、データを整理・蓄積・処理することで、  \n",
        "複数種類・大量のデータを効率的に扱うことができます。\n",
        "\n"
      ]
    },
    {
      "cell_type": "markdown",
      "metadata": {
        "id": "zy0prv6uXUCg"
      },
      "source": [
        "以下のようなデータモデルが存在します。"
      ]
    },
    {
      "cell_type": "markdown",
      "metadata": {
        "id": "N6q2y34mQw2l"
      },
      "source": [
        "### リレーショナルデータモデル"
      ]
    },
    {
      "cell_type": "markdown",
      "metadata": {
        "id": "fwO1pgX1Q9rb"
      },
      "source": [
        "リレーショナルデータモデルは、テーブルと呼ばれる2次元的な表を使って、データを表現します。\n",
        "\n",
        "\n",
        "テーブルは、行と列から構成されており、  \n",
        "行はデータの個々のレコード、列はデータの属性を表します。\n",
        "\n",
        "![](https://imgur.com/rXiVfp6.png)"
      ]
    },
    {
      "cell_type": "markdown",
      "metadata": {
        "id": "7Wnl_hGnWNgt"
      },
      "source": [
        "### 他のデータモデル"
      ]
    },
    {
      "cell_type": "markdown",
      "metadata": {
        "id": "a9vGzfbdXa1h"
      },
      "source": [
        "リレーショナルデータモデル以外にも、以下のようなデータモデルが存在します。"
      ]
    },
    {
      "cell_type": "markdown",
      "metadata": {
        "id": "ju_hLJBRZKc1"
      },
      "source": [
        "・**階層型データモデル**  \n",
        "→ データを階層構造で表現するモデルで、木構造のような形式でデータを組織化する。  \n",
        "　 主に、古いシステムで使われる。\n",
        "\n",
        "・**ネットワーク型データモデル**  \n",
        "→ データを複数の集合体（レコード）とポインタで繋ぎ合わせたグラフ構造で表現するモデル。  \n",
        "　 リレーショナルデータモデルよりも複雑な構造を持つため、扱いが難しい。\n",
        "\n",
        "・**オブジェクト指向データモデル**  \n",
        "→ オブジェクト指向プログラミングの考え方をデータベースに適用したモデル。  \n",
        "　 現在のアプリケーション開発において、最もポピュラーなデータモデルの一つ。\n",
        "\n",
        "・**NoSQLデータモデル**  \n",
        "→ リレーショナルデータモデルに縛られない柔軟性の高いデータモデル。  \n",
        "　 主に、大規模なWebサービスやソーシャルメディア等のWebアプリケーションで使用されている。"
      ]
    },
    {
      "cell_type": "markdown",
      "metadata": {
        "id": "cHEMLZHQhwWH"
      },
      "source": [
        "## データベース"
      ]
    },
    {
      "cell_type": "markdown",
      "metadata": {
        "id": "XsVL9ANchyVH"
      },
      "source": [
        "**データベース**（**DB**）は、データを保管し、整理、保存、そして検索するための電子的な仕組みです。\n",
        "\n",
        "データベースは、データの整合性を保ちながら、データの追加、変更、削除を行うことができます。  \n",
        "また、**クエリ言語**を使用して、保存されているデータを検索することができます。"
      ]
    },
    {
      "cell_type": "markdown",
      "metadata": {
        "id": "9It0F1qKwmAc"
      },
      "source": [
        "### リレーショナルデータベース"
      ]
    },
    {
      "cell_type": "markdown",
      "metadata": {
        "id": "Ed32d43cvgaf"
      },
      "source": [
        "**リレーショナルデータベース**（**RDB**）は、リレーショナルデータモデルに基づいて構築されたデータベースのことを指します。  \n",
        "\n"
      ]
    },
    {
      "cell_type": "markdown",
      "metadata": {
        "id": "F6Tgx-I1OevK"
      },
      "source": [
        "リレーショナルデータベースは、その使いやすさなどから、 最も広く使われているデータベースです。  \n",
        "\n",
        "データを表形式で管理するため、各テーブル間にリレーションシップ（関連）を設定することで、  \n",
        "複数のテーブルから必要なデータを一括して取得できます。"
      ]
    },
    {
      "cell_type": "markdown",
      "metadata": {
        "id": "YH-9PiXWtHra"
      },
      "source": [
        "## データベース管理システム"
      ]
    },
    {
      "cell_type": "markdown",
      "metadata": {
        "id": "9TV5OW6VtI3R"
      },
      "source": [
        "**データベース管理システム**（**DBMS**）は、データベースを操作するためのソフトウェアです。\n",
        "\n",
        "DBMSにクエリ言語で書かれた命令文を送信することで、  \n",
        "データベースに対する操作を実行することができます。"
      ]
    },
    {
      "cell_type": "markdown",
      "metadata": {
        "id": "wuFYlMHVyf8w"
      },
      "source": [
        "### リレーショナルデータベース管理システム"
      ]
    },
    {
      "cell_type": "markdown",
      "metadata": {
        "id": "crvklEIwycNZ"
      },
      "source": [
        "リレーショナルデータベース管理システム（**RDBMS**）は、  \n",
        "RDBを採用しているDBMSのことを指します。\n",
        "\n",
        "RDBに基づいているため、企業や組織にとって信頼性と柔軟性を兼ね備えた  \n",
        "データ管理システムとして、広く利用されています。"
      ]
    },
    {
      "cell_type": "markdown",
      "metadata": {
        "id": "Y1MH6cam5k4t"
      },
      "source": [
        "\n",
        "\n",
        "今回は、このRDBMSについてのみ触れていきます。  \n",
        "このほかのDBMSについては、[こちら](https://bit.ly/40SHXPz)の記事を参考にしてください。"
      ]
    },
    {
      "cell_type": "markdown",
      "metadata": {
        "id": "IQZV96BzWDT1"
      },
      "source": [
        "RDBMSには様々な製品が存在します。  \n",
        "ここでは主要のものについて、特徴を以下に説明します。\n",
        "\n"
      ]
    },
    {
      "cell_type": "markdown",
      "metadata": {
        "id": "wXTLapQ3XOxM"
      },
      "source": [
        "1. **SQLite**：単一ユーザー向け。軽量で初学者が使いやすい。Pythonと相性がいい。\n",
        "\n",
        "2. **MySQL**：オープンソースのRMDBSで、最も広く使用されている。PHPと相性がいい。\n",
        "\n",
        "3. **PostgreSQL**：MySQLと同様複数ユーザー向けだが、より機能が豊富で、複雑である。  \n",
        "　 　　　　　大規模なデータベースを扱うときによく使われる。\n",
        "\n",
        "\n"
      ]
    },
    {
      "cell_type": "markdown",
      "metadata": {
        "id": "1RTtXOUuaufE"
      },
      "source": [
        "そのほか有償ではありますが、**Microsoft SQL server** や **oracle** といったRDBMSが存在します。\n",
        "\n",
        "Google ColabにはSQLiteを使用するためのライブラリが用意されているため、  \n",
        "ここでは**SQLite**を使って基本的な文法を学習します。"
      ]
    },
    {
      "cell_type": "markdown",
      "metadata": {
        "id": "nG3stWReNg0b"
      },
      "source": [
        "### SQL"
      ]
    },
    {
      "cell_type": "markdown",
      "metadata": {
        "id": "ucYOSnCaNh_q"
      },
      "source": [
        "**SQL**は、RDBMSでデータを操作するために、最も一般的に使用される標準的なクエリ言語です。\n",
        "\n",
        "SQLは、Structured Query Language（構造化問い合わせ言語）の略称です。  \n",
        "「エスキューエル、シークエル」などといわれます。"
      ]
    },
    {
      "cell_type": "markdown",
      "metadata": {
        "id": "IJM26xEMQV-O"
      },
      "source": [
        "SQLをRDMBSに送信することで、データベースファイル内の情報を  \n",
        "検索、追加、更新、削除することができます。"
      ]
    },
    {
      "cell_type": "markdown",
      "metadata": {
        "id": "RoRzv0vfdfQR"
      },
      "source": [
        "#### 標準SQL"
      ]
    },
    {
      "cell_type": "markdown",
      "metadata": {
        "id": "6TlJSzeQdhSw"
      },
      "source": [
        "標準SQLは、国際規格化機構（**ISO**）と国際電気標準会議（**IEC**）によって共同で定められた、  \n",
        "SQLの標準仕様を指します。\n",
        "\n",
        "各種RDBMSは基本的には標準SQLに沿うように設計されています。"
      ]
    },
    {
      "cell_type": "markdown",
      "metadata": {
        "id": "wfIjo-l6eN-X"
      },
      "source": [
        "## 実践編"
      ]
    },
    {
      "cell_type": "markdown",
      "metadata": {
        "id": "cacVxxZBePeJ"
      },
      "source": [
        "ここまで用語の解説が続いたので、いよいよSQLを体験してみようと思います。\n",
        "\n",
        "学生の情報を管理する、Userテーブルを作成してみようと思います。"
      ]
    },
    {
      "cell_type": "code",
      "execution_count": 2,
      "metadata": {
        "colab": {
          "base_uri": "https://localhost:8080/"
        },
        "id": "1o_ZGL9pRD4m",
        "outputId": "9e43f1da-e63b-450d-ff55-fdbe0dc8f761"
      },
      "outputs": [
        {
          "output_type": "execute_result",
          "data": {
            "text/plain": [
              "<sqlite3.Cursor at 0x7f21b0fff1c0>"
            ]
          },
          "metadata": {},
          "execution_count": 2
        }
      ],
      "source": [
        "import sqlite3 # SQLite3ライブラリをインポート\n",
        "\n",
        "# \"sample1.db\"という名前のSQLiteデータベースに接続する\n",
        "con = sqlite3.connect(\"sample1.db\")\n",
        "\n",
        "# カーソルを作成する\n",
        "cursor = con.cursor()\n",
        "\n",
        "# \"User\"テーブルを作成するSQLクエリを定義する\n",
        "sample_query = \"\"\"\n",
        "CREATE TABLE IF NOT EXISTS User (  -- 存在しないときのみテーブルを作成\n",
        "  UserId INTEGER, -- ユーザーID\n",
        "  Name TEXT, -- ユーザー名\n",
        "  Age INTEGER, -- 年齢\n",
        "  Department TEXT, -- 所属学科\n",
        "  Email TEXT -- メールアドレス\n",
        ");\n",
        "\"\"\"\n",
        "\n",
        "# SQLクエリを実行する\n",
        "cursor.execute(sample_query)"
      ]
    },
    {
      "cell_type": "markdown",
      "metadata": {
        "id": "JW2CwR0VjyQu"
      },
      "source": [
        "### テーブルの一覧の確認"
      ]
    },
    {
      "cell_type": "markdown",
      "metadata": {
        "id": "k0uU37hVj1ht"
      },
      "source": [
        "データベースに存在するテーブルの一覧を表示したいときは、以下のコマンドを実行します。\n",
        "\n",
        "``` SQL\n",
        ".tables\n",
        "```\n",
        "\n",
        "では実行してみましょう。"
      ]
    },
    {
      "cell_type": "code",
      "execution_count": 3,
      "metadata": {
        "colab": {
          "base_uri": "https://localhost:8080/"
        },
        "id": "FcHFQfn_kl_9",
        "outputId": "557cac1c-3ab9-4eae-e65d-d723c8b2294d"
      },
      "outputs": [
        {
          "output_type": "stream",
          "name": "stdout",
          "text": [
            "User\n"
          ]
        }
      ],
      "source": [
        "# sample1.dbに作成されたテーブルの一覧を表示する\n",
        "!sqlite3 sample1.db \".table\""
      ]
    },
    {
      "cell_type": "markdown",
      "metadata": {
        "id": "zLWZyd_olhrb"
      },
      "source": [
        "User テーブルが作成されていることが確認できました。"
      ]
    },
    {
      "cell_type": "markdown",
      "metadata": {
        "id": "HK9RGAsek751"
      },
      "source": [
        "「**!**」は、Google Colaboratoryでコマンドラインコマンドを実行するために使われる  \n",
        "マジックコマンドの1つです。\n",
        "\n",
        "コマンドラインツールに直接コマンドを渡しています。"
      ]
    },
    {
      "cell_type": "markdown",
      "metadata": {
        "id": "eGWDprVzmwhh"
      },
      "source": [
        "### テーブルの構造の確認"
      ]
    },
    {
      "cell_type": "markdown",
      "metadata": {
        "id": "8iRTnuc5m16I"
      },
      "source": [
        "テーブルの構造を**スキーマ**(**schema**)といいます。\n",
        "\n",
        "具体的には、テーブルやカラム、インデックス、トリガーなどの定義を含みます。"
      ]
    },
    {
      "cell_type": "markdown",
      "metadata": {
        "id": "Z-IGuLadq488"
      },
      "source": [
        "データベースに存在するテーブルの構造を表示したいときは、以下のコマンドを実行します。\n",
        "\n",
        "``` SQL\n",
        ".schema\n",
        "```\n",
        "\n",
        "では実行してみましょう。"
      ]
    },
    {
      "cell_type": "code",
      "execution_count": 4,
      "metadata": {
        "colab": {
          "base_uri": "https://localhost:8080/"
        },
        "id": "bjydxDBOq-FE",
        "outputId": "ee097c4a-afb9-45fd-8454-127ebd51d6a8"
      },
      "outputs": [
        {
          "output_type": "stream",
          "name": "stdout",
          "text": [
            "CREATE TABLE User (  -- 存在しないときのみテーブルを作成\n",
            "  UserId INTEGER, -- ユーザーID\n",
            "  Name TEXT, -- ユーザー名\n",
            "  Age INTEGER, -- 年齢\n",
            "  Department TEXT, -- 所属学科\n",
            "  Email TEXT -- メールアドレス\n",
            ");\n"
          ]
        }
      ],
      "source": [
        "# sample1.dbに作成されたテーブルの構造を表示する\n",
        "!sqlite3 sample1.db \".schema\""
      ]
    },
    {
      "cell_type": "markdown",
      "metadata": {
        "id": "_uQ0C_zfuDQ6"
      },
      "source": [
        "UserテーブルのCREATE文が表示されました。"
      ]
    },
    {
      "cell_type": "markdown",
      "metadata": {
        "id": "F1rptn3tv6Sh"
      },
      "source": [
        "### コメント"
      ]
    },
    {
      "cell_type": "markdown",
      "metadata": {
        "id": "jP-IFpKwv8d5"
      },
      "source": [
        "SQLにおけるコメントの記述方法には、2つのルールがあります。\n",
        "\n",
        "① ハイフン2つ「--」から行末まではコメントとして扱われる。  \n",
        "② 「/\\*」から「\\*/」まではコメントとして扱われる"
      ]
    },
    {
      "cell_type": "markdown",
      "metadata": {
        "id": "jHm9FhosTvuF"
      },
      "source": [
        "### テーブルの作成"
      ]
    },
    {
      "cell_type": "markdown",
      "metadata": {
        "id": "z3XnLhC8Txn7"
      },
      "source": [
        "テーブルを作成するには、**CREATE TABLE**文を使います。  \n",
        "基本形は以下の通りです。\n",
        "\n",
        "``` sql\n",
        "CREATE TABLE テーブル名 (\n",
        "  列名1　列1の型名,\n",
        "  列名2　列2の型名,\n",
        "  ...\n",
        "　列名X　列Xの型名\n",
        ")\n",
        "```\n"
      ]
    },
    {
      "cell_type": "markdown",
      "metadata": {
        "id": "Rw_1TYtQVh7C"
      },
      "source": [
        "#### カラムのデータ型"
      ]
    },
    {
      "cell_type": "markdown",
      "metadata": {
        "id": "AFlHLczmV1GB"
      },
      "source": [
        "**カラムのデータ型**は、そのカラムに格納できる値の型を指定するものです。\n",
        "\n",
        "SQLiteでは、以下の5つのデータ型がサポートされています。"
      ]
    },
    {
      "cell_type": "markdown",
      "metadata": {
        "id": "LAADE3uBYPHG"
      },
      "source": [
        "1. **INTEGER**  \n",
        "→ 整数値を表現するためのデータ型。  \n",
        "　 8バイト以下の整数はすべてINTEGER型として格納される。  \n",
        "\n",
        "2. **REAL**  \n",
        "→  浮動小数点数を表現するためのデータ型。  \n",
        "　 8バイト以下の浮動小数点数はすべてREAL型として格納される。\n",
        "\n",
        "3. **TEXT**  \n",
        "→  文字列を表現するためのデータ型。  \n",
        "　  Unicode文字列を格納することができる。\n",
        "\n",
        "4. **BLOB**  \n",
        "→ バイナリデータを表現するためのデータ型。  \n",
        "　 画像、音声、動画など、様々な種類のデータを格納することができる。\n",
        "\n",
        "5. **NUMERIC**  \n",
        "→ INTEGER型とREAL型のいずれかに自動的に変換される汎用的なデータ型。  \n",
        "　 整数または浮動小数点数のどちらかに自動的に変換される。"
      ]
    },
    {
      "cell_type": "markdown",
      "metadata": {
        "id": "eD0vf2jEcAe0"
      },
      "source": [
        "#### 値のデータ型"
      ]
    },
    {
      "cell_type": "markdown",
      "metadata": {
        "id": "Aewuw37UcAfG"
      },
      "source": [
        "**値のデータ型**は、実際にそのカラムに格納される値の型を表します。\n",
        "\n",
        "SQLiteでは、以下の5つのデータ型がサポートされています。"
      ]
    },
    {
      "cell_type": "markdown",
      "metadata": {
        "id": "qISDhVxPcAfG"
      },
      "source": [
        "1. **INTEGER**  \n",
        "→ 整数値を表現するためのデータ型。  \n",
        "　 8バイト以下の整数はすべてINTEGER型として格納される。  \n",
        "\n",
        "2. **REAL**  \n",
        "→  浮動小数点数を表現するためのデータ型。  \n",
        "　 8バイト以下の浮動小数点数はすべてREAL型として格納される。\n",
        "\n",
        "3. **TEXT**  \n",
        "→  文字列を表現するためのデータ型。  \n",
        "　  Unicode文字列を格納することができる。\n",
        "\n",
        "4. **BLOB**  \n",
        "→ バイナリデータを表現するためのデータ型。  \n",
        "　 画像、音声、動画など、様々な種類のデータを格納することができる。\n",
        "\n",
        "5. **NULL**  \n",
        "→ 何も値がないことを表す特殊なデータ型。  \n",
        "　 データベースに値が存在しない場合や、値が不明な場合に使用される。"
      ]
    },
    {
      "cell_type": "markdown",
      "metadata": {
        "id": "lVqrWa-SgKMy"
      },
      "source": [
        "例えば、TEXT型のカラムにINTEGERやREALのデータ型の値が格納された場合、  \n",
        "TEXT型に変換されてから格納されます。\n",
        "\n",
        "また、NUMERIC型のカラムに TEXT 型の値が格納された場合、  \n",
        "INTEGER 型または REAL 型に変換を試みます。  \n",
        "成功すればそのデータ型で格納されますが、失敗すれば TEXT 型のまま格納されます。\n",
        "\n",
        "カラムに格納された値のデータ型の確認方法などは、  \n",
        "[こちら](https://www.javadrive.jp/sqlite/type/index2.html)のページなどを参照してください。"
      ]
    },
    {
      "cell_type": "markdown",
      "metadata": {
        "id": "n9OlbAVTkzqo"
      },
      "source": [
        "#### テーブルの更新"
      ]
    },
    {
      "cell_type": "markdown",
      "metadata": {
        "id": "yFIsilsWk61p"
      },
      "source": [
        "テーブル定義の内容を変更するには、**ALTER TABLE**文を使います。  \n"
      ]
    },
    {
      "cell_type": "markdown",
      "metadata": {
        "id": "7y9PvwaLsveu"
      },
      "source": [
        "まず、テーブル名を変更するには、以下のようなALTER TABLE文を使用します。\n",
        "\n",
        "``` sql\n",
        "ALTER TABLE テーブル名 RENAME TO 新しいテーブル名;\n",
        "```"
      ]
    },
    {
      "cell_type": "markdown",
      "metadata": {
        "id": "lvmWvFgEtGGh"
      },
      "source": [
        "では、\"User\"テーブルを\"Student\"テーブルに変更してみましょう。"
      ]
    },
    {
      "cell_type": "code",
      "execution_count": 5,
      "metadata": {
        "id": "AMAnrxLGs78N"
      },
      "outputs": [],
      "source": [
        "# \"User\"テーブルを作成するSQLクエリを定義する\n",
        "sample_query = \"\"\"\n",
        "CREATE TABLE IF NOT EXISTS User (  -- 存在しないときのみテーブルを作成\n",
        "  UserId INTEGER, -- ユーザーID\n",
        "  Name TEXT, -- ユーザー名\n",
        "  Age INTEGER, -- 年齢\n",
        "  Department TEXT, -- 所属学科\n",
        "  Email TEXT -- メールアドレス\n",
        ");\n",
        "\"\"\"\n",
        "\n",
        "# SQLクエリを実行する\n",
        "cursor.execute(sample_query)\n",
        "\n",
        "# \"User\"テーブルを\"Student\"テーブルに名前変更\n",
        "change_tablename = \"ALTER TABLE User RENAME TO Student;\"\n",
        "\n",
        "# SQLクエリを実行する\n",
        "cursor.execute(change_tablename)\n",
        "\n",
        "# 変更を確定させる\n",
        "con.commit()"
      ]
    },
    {
      "cell_type": "code",
      "execution_count": 6,
      "metadata": {
        "colab": {
          "base_uri": "https://localhost:8080/"
        },
        "id": "zRXD7TdYtP1T",
        "outputId": "1ed7c860-c825-4439-c4d7-1a12c7a330e9"
      },
      "outputs": [
        {
          "output_type": "stream",
          "name": "stdout",
          "text": [
            "Student\n"
          ]
        }
      ],
      "source": [
        "# sample1.dbに作成されたテーブルの一覧を表示する\n",
        "!sqlite3 sample1.db \".table\""
      ]
    },
    {
      "cell_type": "markdown",
      "metadata": {
        "id": "-Qhz1zTXno7j"
      },
      "source": [
        "次に、カラム名を変更するには、以下のようなALTER TABLE文を使用します。\n",
        "\n",
        "``` sql\n",
        "ALTER TABLE テーブル名 COLUMN 変更前の列名 TO 変更後の列名;\n",
        "```"
      ]
    },
    {
      "cell_type": "code",
      "execution_count": 7,
      "metadata": {
        "id": "loF0gQvCoG1C"
      },
      "outputs": [],
      "source": [
        "# \"UserId\"カラムを\"Gakuseki\"カラムに名前変更\n",
        "change_columsnname = \"ALTER TABLE Student RENAME COLUMN UserId TO Gakuseki;\"\n",
        "\n",
        "# SQLクエリを実行する\n",
        "cursor.execute(change_columsnname)\n",
        "\n",
        "# 変更を確定させる\n",
        "con.commit()"
      ]
    },
    {
      "cell_type": "code",
      "execution_count": 8,
      "metadata": {
        "colab": {
          "base_uri": "https://localhost:8080/"
        },
        "id": "cFOWWkYAxMxb",
        "outputId": "2aab31b5-fe2b-47bf-946a-be501e860d79"
      },
      "outputs": [
        {
          "output_type": "stream",
          "name": "stdout",
          "text": [
            "CREATE TABLE IF NOT EXISTS \"Student\" (  -- 存在しないときのみテーブルを作成\n",
            "  Gakuseki INTEGER, -- ユーザーID\n",
            "  Name TEXT, -- ユーザー名\n",
            "  Age INTEGER, -- 年齢\n",
            "  Department TEXT, -- 所属学科\n",
            "  Email TEXT -- メールアドレス\n",
            ");\n"
          ]
        }
      ],
      "source": [
        "# sample1.dbに作成されたテーブルの構造を表示する\n",
        "!sqlite3 sample1.db \".schema\""
      ]
    },
    {
      "cell_type": "markdown",
      "metadata": {
        "id": "a7-pWiAGn7By"
      },
      "source": [
        "次に、カラムを追加するには、以下のようなALTER TABLE文を使用します。\n",
        "\n",
        "``` sql\n",
        "ALTER TABLE テーブル名 ADD COLUMN 列名 データ型;\n",
        "```"
      ]
    },
    {
      "cell_type": "code",
      "execution_count": 9,
      "metadata": {
        "id": "AGPuwuT7zHKB"
      },
      "outputs": [],
      "source": [
        "# \"Password\"カラムを追加\n",
        "add_columns = \"ALTER TABLE Student ADD COLUMN Password TEXT;\"\n",
        "\n",
        "# SQLクエリを実行する\n",
        "cursor.execute(add_columns)\n",
        "\n",
        "con.commit()"
      ]
    },
    {
      "cell_type": "code",
      "execution_count": 10,
      "metadata": {
        "colab": {
          "base_uri": "https://localhost:8080/"
        },
        "id": "PoZJhzibzZl3",
        "outputId": "f91ad099-777c-43b5-bbed-a6fab5005409"
      },
      "outputs": [
        {
          "output_type": "stream",
          "name": "stdout",
          "text": [
            "CREATE TABLE IF NOT EXISTS \"Student\" (  -- 存在しないときのみテーブルを作成\n",
            "  Gakuseki INTEGER, -- ユーザーID\n",
            "  Name TEXT, -- ユーザー名\n",
            "  Age INTEGER, -- 年齢\n",
            "  Department TEXT, -- 所属学科\n",
            "  Email TEXT -- メールアドレス\n",
            ", Password TEXT);\n"
          ]
        }
      ],
      "source": [
        "# sample1.dbに作成されたテーブルの構造を表示する\n",
        "!sqlite3 sample1.db \".schema\""
      ]
    },
    {
      "cell_type": "markdown",
      "metadata": {
        "id": "Xr4T8E9P0SMm"
      },
      "source": [
        "なお、2023年4月現在、カラムの削除はできないようです。"
      ]
    },
    {
      "cell_type": "markdown",
      "metadata": {
        "id": "29ugz1ho0Psg"
      },
      "source": [
        "#### テーブルの削除"
      ]
    },
    {
      "cell_type": "markdown",
      "metadata": {
        "id": "QLHN9tXZ0dLF"
      },
      "source": [
        "作成済みのテーブルを削除するには、DROP TABLE文を使います。"
      ]
    },
    {
      "cell_type": "code",
      "execution_count": 11,
      "metadata": {
        "colab": {
          "base_uri": "https://localhost:8080/"
        },
        "id": "bbxi83401AzF",
        "outputId": "bb450f14-8482-4e65-f500-ae930e24bc66"
      },
      "outputs": [
        {
          "output_type": "stream",
          "name": "stdout",
          "text": [
            "Student\n"
          ]
        }
      ],
      "source": [
        "# sample1.dbに作成されたテーブルの一覧を表示する\n",
        "!sqlite3 sample1.db \".table\""
      ]
    },
    {
      "cell_type": "code",
      "execution_count": 12,
      "metadata": {
        "id": "iihslRK6qeU3"
      },
      "outputs": [],
      "source": [
        "# \"Student\"テーブルを削除\n",
        "drop_columns = \"DROP TABLE Student;\"\n",
        "\n",
        "# SQLクエリを実行する\n",
        "cursor.execute(drop_columns)\n",
        "\n",
        "con.commit()"
      ]
    },
    {
      "cell_type": "code",
      "execution_count": 13,
      "metadata": {
        "id": "p7gXxb-PpEZi"
      },
      "outputs": [],
      "source": [
        "# sample1.dbに作成されたテーブルの一覧を表示する\n",
        "!sqlite3 sample1.db \".table\""
      ]
    },
    {
      "cell_type": "markdown",
      "metadata": {
        "id": "eqCZBd-NhFoU"
      },
      "source": [
        "#### 制約"
      ]
    },
    {
      "cell_type": "markdown",
      "metadata": {
        "id": "S8Rs-6hshHVr"
      },
      "source": [
        "制約とは、データベースに保存されるデータの整合性を保つために設定される条件のことです。  \n",
        "\n"
      ]
    },
    {
      "cell_type": "markdown",
      "metadata": {
        "id": "JyvuOYd9jSQX"
      },
      "source": [
        "制約は、CREATE TABLE文でテーブルを定義する際に、  \n",
        "列定義の後ろに指定することが可能です。\n",
        "\n",
        "``` sql\n",
        "CREATE TABLE テーブル名 (\n",
        "  列名　型　制約の指定 ,\n",
        "  ...\n",
        ")\n",
        "```"
      ]
    },
    {
      "cell_type": "markdown",
      "metadata": {
        "id": "z9N4Jb51kVRt"
      },
      "source": [
        "SQLiteには、以下のような制約があります。"
      ]
    },
    {
      "cell_type": "markdown",
      "metadata": {
        "id": "VngyZb60qlO5"
      },
      "source": [
        "1. **DEFAULT制約**  \n",
        "→ 指定したカラムがデータが挿入されなかった場合に、自動的に設定される値を指定する制約。  \n",
        "``` sql\n",
        "カラム名 データ型 DEFAULT デフォルト値\n",
        "```\n",
        "\n",
        "2. **NOT NULL制約**  \n",
        "→  指定したカラムにNULL値を許容しないようにする制約。  \n",
        "``` sql\n",
        "カラム名 データ型 NOT NULL\n",
        "```\n",
        "\n",
        "3. **UNIQUE制約**  \n",
        "→  指定したカラムに重複する値を許容しないようにする制約。  \n",
        "``` sql\n",
        "カラム名 データ型 UNIQUE\n",
        "```\n",
        "\n",
        "4. **CHECK制約**  \n",
        "→ 指定したカラムに保存される値が、指定された条件を満たしていることを保証する制約。  \n",
        "``` sql\n",
        "カラム名 データ型 CHECK (条件式)\n",
        "```"
      ]
    },
    {
      "cell_type": "markdown",
      "metadata": {
        "id": "glOwkYiptzTj"
      },
      "source": [
        "では、これまで作ってきたUserテーブルに制約を追加してみましょう。"
      ]
    },
    {
      "cell_type": "code",
      "execution_count": 14,
      "metadata": {
        "colab": {
          "base_uri": "https://localhost:8080/"
        },
        "id": "Q9XSwLCRndCf",
        "outputId": "f0bc917d-3700-4b33-c7ba-2944022ed763"
      },
      "outputs": [
        {
          "output_type": "execute_result",
          "data": {
            "text/plain": [
              "<sqlite3.Cursor at 0x7f21b0fff1c0>"
            ]
          },
          "metadata": {},
          "execution_count": 14
        }
      ],
      "source": [
        "# \"User\"テーブルを作成するSQLクエリを定義する\n",
        "sample_query = \"\"\"\n",
        "CREATE TABLE IF NOT EXISTS User (  -- 存在しないときのみテーブルを作成\n",
        "  UserId INTEGER, -- ユーザーID\n",
        "  Name TEXT NOT NULL, -- ユーザー名。NULLを許容しない。\n",
        "  Age INTEGER CHECK (Age >= 18), -- 年齢。18歳以上であることを保証する。\n",
        "  Department TEXT DEFAULT 理工学部, -- 所属学科。未指定時は\"理工学部\"とする。\n",
        "  Email TEXT UNIQUE -- メールアドレス。重複を許容しない。\n",
        ");\n",
        "\"\"\"\n",
        "\n",
        "# SQLクエリを実行する\n",
        "cursor.execute(sample_query)"
      ]
    },
    {
      "cell_type": "code",
      "execution_count": 15,
      "metadata": {
        "colab": {
          "base_uri": "https://localhost:8080/"
        },
        "id": "ZYQtVgkhn58l",
        "outputId": "363514dd-bac4-4810-fac3-8d4248048095"
      },
      "outputs": [
        {
          "output_type": "stream",
          "name": "stdout",
          "text": [
            "CREATE TABLE User (  -- 存在しないときのみテーブルを作成\n",
            "  UserId INTEGER, -- ユーザーID\n",
            "  Name TEXT NOT NULL, -- ユーザー名。NULLを許容しない。\n",
            "  Age INTEGER CHECK (Age >= 18), -- 年齢。18歳以上であることを保証する。\n",
            "  Department TEXT DEFAULT 理工学部, -- 所属学科。未指定時は\"理工学部\"とする。\n",
            "  Email TEXT UNIQUE -- メールアドレス。重複を許容しない。\n",
            ");\n"
          ]
        }
      ],
      "source": [
        "# sample1.dbに作成されたテーブルの構造を表示する\n",
        "!sqlite3 sample1.db \".schema\""
      ]
    },
    {
      "cell_type": "markdown",
      "metadata": {
        "id": "1EQZVxuBybhK"
      },
      "source": [
        "#### 主キー"
      ]
    },
    {
      "cell_type": "markdown",
      "metadata": {
        "id": "78Ebg3N_zHFD"
      },
      "source": [
        "テーブル内の各行を一意に識別するための列（カラム）のことを**主キー（Primary Key）**といいます。\n",
        "\n",
        "主キーに設定された列は、重複が許されず、必ず何らかのデータが格納されます。"
      ]
    },
    {
      "cell_type": "markdown",
      "metadata": {
        "id": "qjeSHXpWz_e_"
      },
      "source": [
        "主キーの役割を担う列には、**主キー（PRIMARY KEY）制約**を付けます。\n",
        "``` sql\n",
        "カラム名 データ型 PRIMARY KEY\n",
        "```"
      ]
    },
    {
      "cell_type": "markdown",
      "metadata": {
        "id": "wF1vEZaU0kLG"
      },
      "source": [
        "また、複数のカラムを組み合わせて1つの主キーとして指定する方法を  \n",
        "**複合主キー（Composite Key）**といいます。\n",
        "\n",
        "複数の列を組み合わせることで、各行を一意に識別したいときに使用します。\n"
      ]
    },
    {
      "cell_type": "markdown",
      "metadata": {
        "id": "lArt5z7Z1hf1"
      },
      "source": [
        "複合主キーの場合は、カラム名をカンマ区切りで指定して PRIMARY KEY 制約を付加します。  \n",
        "CREATE TABLE文の最後に追加します。\n",
        "``` sql\n",
        "PRIMARY KEY(カラム名1, カラム名2, ...)\n",
        "```"
      ]
    },
    {
      "cell_type": "markdown",
      "metadata": {
        "id": "MZ021jb62NTE"
      },
      "source": [
        "では、UserテーブルのUserIdカラムを主キーとしてみます。"
      ]
    },
    {
      "cell_type": "code",
      "execution_count": 16,
      "metadata": {
        "id": "cyQ-g3tJnoAW"
      },
      "outputs": [],
      "source": [
        "# \"User\"テーブルを削除\n",
        "drop_columns = \"DROP TABLE User;\"\n",
        "\n",
        "# SQLクエリを実行する\n",
        "cursor.execute(drop_columns)\n",
        "\n",
        "con.commit()"
      ]
    },
    {
      "cell_type": "code",
      "execution_count": 17,
      "metadata": {
        "colab": {
          "base_uri": "https://localhost:8080/"
        },
        "id": "ivjC_YN32YTF",
        "outputId": "086db96d-35aa-4b6b-9c71-9472d32518d5"
      },
      "outputs": [
        {
          "output_type": "execute_result",
          "data": {
            "text/plain": [
              "<sqlite3.Cursor at 0x7f21b0fff1c0>"
            ]
          },
          "metadata": {},
          "execution_count": 17
        }
      ],
      "source": [
        "# \"User\"テーブルを作成するSQLクエリを定義する\n",
        "sample_query = \"\"\"\n",
        "CREATE TABLE IF NOT EXISTS User (  -- 存在しないときのみテーブルを作成\n",
        "  UserId INTEGER PRIMARY KEY, -- ユーザーID。主キー。\n",
        "  Name TEXT NOT NULL, -- ユーザー名。NULLを許容しない。\n",
        "  Age INTEGER CHECK (Age >= 18), -- 年齢。18歳以上であることを保証する。\n",
        "  Department TEXT DEFAULT 理工学部, -- 所属学科。未指定時は\"理工学部\"とする。\n",
        "  Email TEXT UNIQUE -- メールアドレス。重複を許容しない。\n",
        ");\n",
        "\"\"\"\n",
        "\n",
        "# SQLクエリを実行する\n",
        "cursor.execute(sample_query)"
      ]
    },
    {
      "cell_type": "code",
      "execution_count": 18,
      "metadata": {
        "colab": {
          "base_uri": "https://localhost:8080/"
        },
        "id": "HeY-rSs32onC",
        "outputId": "5972d762-ba38-49da-bd42-014ad57a0d31"
      },
      "outputs": [
        {
          "output_type": "stream",
          "name": "stdout",
          "text": [
            "CREATE TABLE User (  -- 存在しないときのみテーブルを作成\n",
            "  UserId INTEGER PRIMARY KEY, -- ユーザーID。主キー。\n",
            "  Name TEXT NOT NULL, -- ユーザー名。NULLを許容しない。\n",
            "  Age INTEGER CHECK (Age >= 18), -- 年齢。18歳以上であることを保証する。\n",
            "  Department TEXT DEFAULT 理工学部, -- 所属学科。未指定時は\"理工学部\"とする。\n",
            "  Email TEXT UNIQUE -- メールアドレス。重複を許容しない。\n",
            ");\n"
          ]
        }
      ],
      "source": [
        "# sample1.dbに作成されたテーブルの構造を表示する\n",
        "!sqlite3 sample1.db \".schema\""
      ]
    },
    {
      "cell_type": "markdown",
      "metadata": {
        "id": "rxwD8RTe3lAA"
      },
      "source": [
        "### データの追加"
      ]
    },
    {
      "cell_type": "markdown",
      "metadata": {
        "id": "d808axXK4Dvo"
      },
      "source": [
        "テーブルに新しいデータを追加したいときは、**INSERT文**を使います。  \n",
        "基本形は以下の通りです。\n",
        "\n",
        "``` sql\n",
        "INSERT INTO テーブル名\n",
        "　　　　　（列名1, 列名2, 列名3, …, 列名x）\n",
        "　　VALUES（値1, 値2, 値3, …, 値x）\n",
        "```"
      ]
    },
    {
      "cell_type": "markdown",
      "metadata": {
        "id": "wYM1HLpF6Gpb"
      },
      "source": [
        "では、Userテーブルに学生の情報を追加してみましょう。"
      ]
    },
    {
      "cell_type": "code",
      "execution_count": 19,
      "metadata": {
        "id": "_PIONcyy6RNU"
      },
      "outputs": [],
      "source": [
        "add_query = \"\"\"\n",
        "INSERT INTO User \n",
        "           (UserId, Name, Age, Department, Email) \n",
        "    VALUES (2227000, 'Ichiro', 19, '応用化学生物学科', 'Ichiro@example.com');\n",
        "\"\"\"\n",
        "\n",
        "# SQLクエリを実行する\n",
        "cursor.execute(add_query)\n",
        "\n",
        "con.commit()"
      ]
    },
    {
      "cell_type": "markdown",
      "metadata": {
        "id": "IYv9nMxp7Biq"
      },
      "source": [
        "列名を指定しない場合は、  \n",
        "テーブルの列の順序で値を指定することになります。"
      ]
    },
    {
      "cell_type": "code",
      "execution_count": 20,
      "metadata": {
        "id": "tGv9kqB89RIE"
      },
      "outputs": [],
      "source": [
        "add_query = \"\"\"\n",
        "INSERT INTO User \n",
        "    VALUES (2228000, 'Jiro', 20, '電子光工学科', 'Jiro@example.com');\n",
        "\"\"\"\n",
        "\n",
        "# SQLクエリを実行する\n",
        "cursor.execute(add_query)\n",
        "\n",
        "con.commit()"
      ]
    },
    {
      "cell_type": "markdown",
      "metadata": {
        "id": "JGpdmFqC9lgD"
      },
      "source": [
        "また、一度に複数の行を追加することもできます。  \n",
        "以下のように、VALUESの括弧内に複数の値をカンマ区切りで指定します。"
      ]
    },
    {
      "cell_type": "code",
      "execution_count": 21,
      "metadata": {
        "id": "_IVnOe7g9nb-"
      },
      "outputs": [],
      "source": [
        "add_query = \"\"\"\n",
        "INSERT INTO User \n",
        "    VALUES (2229010, 'Saburo', 18, '情報システム工学科', 'Saburo@example.com'), \n",
        "           (2229020, 'Siro', 19, '情報システム工学科', 'Siro@example.com'), \n",
        "           (2229030, 'Goro', 20, '情報システム工学科', 'Goro@example.com');\n",
        "\"\"\"\n",
        "\n",
        "# SQLクエリを実行する\n",
        "cursor.execute(add_query)\n",
        "\n",
        "con.commit()"
      ]
    },
    {
      "cell_type": "markdown",
      "metadata": {
        "id": "7up-GWjzCOH1"
      },
      "source": [
        "このテーブルには制約を多く設けているので、追加の仕方によってはエラーが出ます。  \n",
        "いろいろと試してみてください。\n",
        "\n",
        "例1：Departmentカラムを指定しないと、**DEFAULT制約**により値が\"理工学部\"になる  \n",
        "例2：Nameカラムを指定しないと、**NOT NULL制約**によりエラー  \n",
        "例3：Emailカラムの値が重複していると、**UNIQUE制約**によりエラー  \n",
        "例4：Ageカラムの値が18歳未満だと、**CHECK制約**によりエラー  "
      ]
    },
    {
      "cell_type": "markdown",
      "metadata": {
        "id": "dDb9Je90-Xyr"
      },
      "source": [
        "### データの取得"
      ]
    },
    {
      "cell_type": "markdown",
      "metadata": {
        "id": "IzO_Zidv-ZTF"
      },
      "source": [
        "テーブルに格納されたデータを取得するには **SELECT文**を使用します。    \n",
        "基本形は以下の通りです。\n",
        "\n",
        "``` sql\n",
        "SELECT 列名1, 列名2, 列名3, …, 列名x\n",
        "　FROM テーブル名\n",
        "```"
      ]
    },
    {
      "cell_type": "markdown",
      "metadata": {
        "id": "Y20Pbll9_sPx"
      },
      "source": [
        "また、すべての列を指定するときは、以下のように記述することが多いです。\n",
        "\n",
        "``` sql\n",
        "SELECT *\n",
        "　FROM テーブル名\n",
        "```"
      ]
    },
    {
      "cell_type": "markdown",
      "metadata": {
        "id": "IRyGsol6BR3v"
      },
      "source": [
        "では、先ほどまでUserテーブルに追加してきた学生の情報を取得してみましょう。\n",
        "\n",
        "`.headers on`を指定しているため、ヘッダーが表示されています。"
      ]
    },
    {
      "cell_type": "code",
      "execution_count": 22,
      "metadata": {
        "colab": {
          "base_uri": "https://localhost:8080/"
        },
        "id": "yzh7Up0bBwAN",
        "outputId": "95c03490-5d37-4d5f-9f67-72cc5bb3bae9"
      },
      "outputs": [
        {
          "output_type": "stream",
          "name": "stdout",
          "text": [
            "UserId|Name|Age|Department|Email\n",
            "2227000|Ichiro|19|応用化学生物学科|Ichiro@example.com\n",
            "2228000|Jiro|20|電子光工学科|Jiro@example.com\n",
            "2229010|Saburo|18|情報システム工学科|Saburo@example.com\n",
            "2229020|Siro|19|情報システム工学科|Siro@example.com\n",
            "2229030|Goro|20|情報システム工学科|Goro@example.com\n"
          ]
        }
      ],
      "source": [
        "# Userテーブルのデータを取得する\n",
        "!sqlite3 sample1.db \".headers on\" \"SELECT * FROM User\""
      ]
    },
    {
      "cell_type": "markdown",
      "metadata": {
        "id": "43OvtqfcFn2Q"
      },
      "source": [
        "また、**WHERE句**を用いることで、条件に合致するデータを取得することができます。\n",
        "\n",
        "``` sql\n",
        "SELECT *\n",
        "　FROM テーブル名\n",
        "　WHERE 条件式\n",
        "```"
      ]
    },
    {
      "cell_type": "markdown",
      "metadata": {
        "id": "CQnXcJBKGBOn"
      },
      "source": [
        "今回は、情報システム工学科のデータのみを取り出してみます。"
      ]
    },
    {
      "cell_type": "code",
      "execution_count": 23,
      "metadata": {
        "colab": {
          "base_uri": "https://localhost:8080/"
        },
        "id": "2ZzkQPuFGGIR",
        "outputId": "d7674793-91b2-406e-cab1-9058bc2d3b2c"
      },
      "outputs": [
        {
          "output_type": "stream",
          "name": "stdout",
          "text": [
            "UserId|Name|Age|Department|Email\n",
            "2229010|Saburo|18|情報システム工学科|Saburo@example.com\n",
            "2229020|Siro|19|情報システム工学科|Siro@example.com\n",
            "2229030|Goro|20|情報システム工学科|Goro@example.com\n"
          ]
        }
      ],
      "source": [
        "# Userテーブルのデータを取得する\n",
        "!sqlite3 sample1.db \".headers on\" \"SELECT * FROM User WHERE Department = '情報システム工学科'\""
      ]
    },
    {
      "cell_type": "markdown",
      "metadata": {
        "id": "wjxYIOkdG33N"
      },
      "source": [
        "WHERE句については[こちら](https://www.javadrive.jp/sqlite/select/index3.html)のページなどを参考にしてみてください。"
      ]
    },
    {
      "cell_type": "markdown",
      "metadata": {
        "id": "beLbLfUJHAsw"
      },
      "source": [
        "### データの更新"
      ]
    },
    {
      "cell_type": "markdown",
      "metadata": {
        "id": "Sn3J-mHhG1En"
      },
      "source": [
        "データベース内のテーブルの行の値を更新するには**UPDATE文**を使用します。    \n",
        "基本形は以下の通りです。\n",
        "\n",
        "``` sql\n",
        "UPDATE テーブル名\n",
        "　 SET 列名1 = 値1, 列名2 = 値2, …\n",
        "　 WHERE 条件式  \n",
        "```"
      ]
    },
    {
      "cell_type": "markdown",
      "metadata": {
        "id": "How4x600IJZb"
      },
      "source": [
        "WHERE句を省略すると、全ての行が更新されてしまう可能性があります。\n",
        "\n",
        "ここでは、18歳のデータの学科は\"理工学部\"にデータを更新します。"
      ]
    },
    {
      "cell_type": "code",
      "execution_count": 24,
      "metadata": {
        "id": "-qN0m3PuIV94"
      },
      "outputs": [],
      "source": [
        "update_query = \"\"\"\n",
        "UPDATE User\n",
        "  SET Department = '理工学部'\n",
        "  WHERE Age = 18;\n",
        "\"\"\"\n",
        "\n",
        "# SQLクエリを実行する\n",
        "cursor.execute(update_query)\n",
        "\n",
        "con.commit()"
      ]
    },
    {
      "cell_type": "code",
      "execution_count": 25,
      "metadata": {
        "colab": {
          "base_uri": "https://localhost:8080/"
        },
        "id": "PrtHZgtpISE8",
        "outputId": "a81d02d0-716d-4d59-f040-b8b4c7a90e61"
      },
      "outputs": [
        {
          "output_type": "stream",
          "name": "stdout",
          "text": [
            "UserId|Name|Age|Department|Email\n",
            "2227000|Ichiro|19|応用化学生物学科|Ichiro@example.com\n",
            "2228000|Jiro|20|電子光工学科|Jiro@example.com\n",
            "2229010|Saburo|18|理工学部|Saburo@example.com\n",
            "2229020|Siro|19|情報システム工学科|Siro@example.com\n",
            "2229030|Goro|20|情報システム工学科|Goro@example.com\n"
          ]
        }
      ],
      "source": [
        "# Userテーブルのデータを取得する\n",
        "!sqlite3 sample1.db \".headers on\" \"SELECT * FROM User\""
      ]
    },
    {
      "cell_type": "markdown",
      "metadata": {
        "id": "HdgeFCKVJ14V"
      },
      "source": [
        "### データの削除"
      ]
    },
    {
      "cell_type": "markdown",
      "metadata": {
        "id": "TE5iZYQEJ14W"
      },
      "source": [
        "データベース内のテーブルから行を削除するには**DELETE文**を使用します。    \n",
        "基本形は以下の通りです。\n",
        "\n",
        "``` sql\n",
        "DELETE\n",
        "　 FROM テーブル名\n",
        "　 WHERE 条件式  \n",
        "```"
      ]
    },
    {
      "cell_type": "markdown",
      "metadata": {
        "id": "jjmLLrkTJ14W"
      },
      "source": [
        "ここでは、情報システム工学科のデータを削除します。"
      ]
    },
    {
      "cell_type": "code",
      "execution_count": 26,
      "metadata": {
        "id": "jMCBSOeSJ14X"
      },
      "outputs": [],
      "source": [
        "delete_query = \"\"\"\n",
        "DELETE\n",
        "  FROM User\n",
        "  WHERE Department = '情報システム工学科';\n",
        "\"\"\"\n",
        "\n",
        "# SQLクエリを実行する\n",
        "cursor.execute(delete_query)\n",
        "\n",
        "con.commit()"
      ]
    },
    {
      "cell_type": "code",
      "execution_count": 27,
      "metadata": {
        "colab": {
          "base_uri": "https://localhost:8080/"
        },
        "outputId": "030277c5-43b9-4649-f554-54d7b97b4b6b",
        "id": "Lu2dL8cxJ14X"
      },
      "outputs": [
        {
          "output_type": "stream",
          "name": "stdout",
          "text": [
            "UserId|Name|Age|Department|Email\n",
            "2227000|Ichiro|19|応用化学生物学科|Ichiro@example.com\n",
            "2228000|Jiro|20|電子光工学科|Jiro@example.com\n",
            "2229010|Saburo|18|理工学部|Saburo@example.com\n"
          ]
        }
      ],
      "source": [
        "# Userテーブルのデータを取得する\n",
        "!sqlite3 sample1.db \".headers on\" \"SELECT * FROM User\""
      ]
    },
    {
      "cell_type": "markdown",
      "source": [
        "### まとめ"
      ],
      "metadata": {
        "id": "AIy-uuY5MV5S"
      }
    },
    {
      "cell_type": "markdown",
      "source": [
        "ここまで紹介してきた**SELECT文**、**INSERT文**、**UPDATE文**、**DELETE文**が、  \n",
        "SQLiteの四大命令（SQLの基本的な操作命令）になります。\n",
        "\n",
        "これらの四大命令を組み合わせることで、データの基本的な操作が可能になります。  \n",
        "また、これらの命令をSQLクエリとして組み合わせることで、複雑な操作も可能になります。"
      ],
      "metadata": {
        "id": "iCiyDYsWMXUp"
      }
    }
  ],
  "metadata": {
    "colab": {
      "provenance": [],
      "authorship_tag": "ABX9TyO5BLD+OkKqEvdZYMDTpphr",
      "include_colab_link": true
    },
    "kernelspec": {
      "display_name": "Python 3",
      "name": "python3"
    },
    "language_info": {
      "name": "python"
    }
  },
  "nbformat": 4,
  "nbformat_minor": 0
}