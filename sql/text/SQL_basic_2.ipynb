{
  "nbformat": 4,
  "nbformat_minor": 0,
  "metadata": {
    "colab": {
      "provenance": [],
      "authorship_tag": "ABX9TyP1qT1Gy6Ns7wnK9BH+/8Nq",
      "include_colab_link": true
    },
    "kernelspec": {
      "name": "python3",
      "display_name": "Python 3"
    },
    "language_info": {
      "name": "python"
    }
  },
  "cells": [
    {
      "cell_type": "markdown",
      "metadata": {
        "id": "view-in-github",
        "colab_type": "text"
      },
      "source": [
        "<a href=\"https://colab.research.google.com/github/kiryu-3/Prmn2023/blob/main/sql/text/SQL_basic_2.ipynb\" target=\"_parent\"><img src=\"https://colab.research.google.com/assets/colab-badge.svg\" alt=\"Open In Colab\"/></a>"
      ]
    },
    {
      "cell_type": "markdown",
      "metadata": {
        "id": "7dKOROcOxB42"
      },
      "source": [
        "# SQL入門"
      ]
    },
    {
      "cell_type": "code",
      "execution_count": null,
      "metadata": {
        "id": "8InIj2rsp8re"
      },
      "outputs": [],
      "source": [
        "# 最初に実行してください\n",
        "!apt-get install sqlite3"
      ]
    },
    {
      "cell_type": "markdown",
      "source": [
        "## 検索結果の加工"
      ],
      "metadata": {
        "id": "d_TcCHICMqLg"
      }
    },
    {
      "cell_type": "markdown",
      "source": [
        "前回、**WHERE句**を使って抽出の条件を指定しました。\n",
        "\n",
        "``` sql\n",
        "SELECT 列名1, 列名2, 列名3, …, 列名x\n",
        "　FROM テーブル名\n",
        "（WHERE句による修飾）\n",
        "（そのほかの修飾）\n",
        "```"
      ],
      "metadata": {
        "id": "QcEyE3pKMreW"
      }
    },
    {
      "cell_type": "markdown",
      "source": [
        "今回は他の修飾について学び、検索結果を加工しましょう。"
      ],
      "metadata": {
        "id": "Hr8II3iWj_Ye"
      }
    },
    {
      "cell_type": "markdown",
      "source": [
        "以下のような家計簿テーブルを作成します。"
      ],
      "metadata": {
        "id": "6-xNB9f7koS7"
      }
    },
    {
      "cell_type": "code",
      "source": [
        "import sqlite3 # SQLite3ライブラリをインポート\n",
        "\n",
        "# \"sample1.db\"という名前のSQLiteデータベースに接続する\n",
        "con = sqlite3.connect(\"sample1.db\")\n",
        "\n",
        "# カーソルを作成する\n",
        "cursor = con.cursor()\n",
        "\n",
        "# \"expense\"テーブルを作成するSQLクエリを定義する\n",
        "sample_query = \"\"\"\n",
        "CREATE TABLE IF NOT EXISTS expense (\n",
        "  id INTEGER PRIMARY KEY,\n",
        "  date TEXT,\n",
        "  category TEXT,\n",
        "  amount INTEGER,\n",
        "  memo TEXT\n",
        ");\n",
        "\"\"\"\n",
        "\n",
        "# SQLクエリを実行する\n",
        "cursor.execute(sample_query)"
      ],
      "metadata": {
        "colab": {
          "base_uri": "https://localhost:8080/"
        },
        "id": "siiARBuAkrF7",
        "outputId": "8239e6c3-7e7e-44cf-c356-b5aa0bb68229"
      },
      "execution_count": 2,
      "outputs": [
        {
          "output_type": "execute_result",
          "data": {
            "text/plain": [
              "<sqlite3.Cursor at 0x7f5962afb640>"
            ]
          },
          "metadata": {},
          "execution_count": 2
        }
      ]
    },
    {
      "cell_type": "code",
      "source": [
        "# sample1.dbに作成されたテーブルの構造を表示する\n",
        "!sqlite3 sample1.db \".schema\""
      ],
      "metadata": {
        "colab": {
          "base_uri": "https://localhost:8080/"
        },
        "id": "juj-HNFylCbK",
        "outputId": "c81dd8b5-a4ee-4053-f869-252de6042faa"
      },
      "execution_count": 3,
      "outputs": [
        {
          "output_type": "stream",
          "name": "stdout",
          "text": [
            "CREATE TABLE expense (\n",
            "  id INTEGER PRIMARY KEY,\n",
            "  date TEXT,\n",
            "  category TEXT,\n",
            "  amount INTEGER,\n",
            "  memo TEXT\n",
            ");\n"
          ]
        }
      ]
    },
    {
      "cell_type": "markdown",
      "source": [
        "今回は以下のサンプルデータを追加します。"
      ],
      "metadata": {
        "id": "XNQZFYdmmAUt"
      }
    },
    {
      "cell_type": "code",
      "source": [
        "add_query = \"\"\"\n",
        "INSERT INTO expense (id, date, category, amount, memo) VALUES\n",
        "  (1, '2022-05-21', 'food', 1000, 'lunch'),\n",
        "  (2, '2022-07-10', 'shopping', 5000, ''),\n",
        "  (3, '2022-09-07', 'food', 1200, 'dinner'),\n",
        "  (4, '2022-03-30', 'travel', 8000, ''),\n",
        "  (5, '2022-02-14', 'food', 800, 'breakfast'),\n",
        "  (6, '2022-04-05', 'shopping', 1500, ''),\n",
        "  (7, '2022-06-18', 'travel', 5000, ''),\n",
        "  (8, '2022-08-21', 'shopping', 2000, ''),\n",
        "  (9, '2022-12-25', 'food', 1500, 'dinner'),\n",
        "  (10, '2022-11-05', 'travel', 3000, ''),\n",
        "  (11, '2022-04-12', 'food', 600, 'snack'),\n",
        "  (12, '2022-07-28', 'shopping', 2500, ''),\n",
        "  (13, '2022-09-10', 'travel', 4000, ''),\n",
        "  (14, '2022-02-17', 'food', 1200, 'lunch'),\n",
        "  (15, '2022-08-06', 'shopping', 3500, ''),\n",
        "  (16, '2022-06-30', 'food', 1000, 'breakfast'),\n",
        "  (17, '2022-11-21', 'travel', 6000, ''),\n",
        "  (18, '2022-12-18', 'shopping', 1800, ''),\n",
        "  (19, '2022-03-15', 'food', 1500, 'dinner'),\n",
        "  (20, '2022-01-22', 'travel', 2000, ''),\n",
        "  (21, '2022-05-23', 'shopping', 2000, ''),\n",
        "  (22, '2022-06-05', 'food', 800, 'snack'),\n",
        "  (23, '2022-07-12', 'travel', 5000, ''),\n",
        "  (24, '2022-08-14', 'food', 1500, 'dinner'),\n",
        "  (25, '2022-09-01', 'shopping', 3000, ''),\n",
        "  (26, '2022-10-06', 'travel', 4000, ''),\n",
        "  (27, '2022-11-11', 'food', 1000, 'lunch'),\n",
        "  (28, '2022-12-24', 'shopping', 5000, ''),\n",
        "  (29, '2022-02-28', 'food', 800, 'breakfast'),\n",
        "  (30, '2022-03-20', 'travel', 6000, '');\n",
        "\n",
        "\"\"\"\n",
        "\n",
        "# SQLクエリを実行する\n",
        "cursor.execute(add_query)\n",
        "\n",
        "con.commit()"
      ],
      "metadata": {
        "id": "ya5y8-0wmG20"
      },
      "execution_count": 4,
      "outputs": []
    },
    {
      "cell_type": "code",
      "source": [
        "# expenseテーブルのデータを取得する\n",
        "!sqlite3 sample1.db \".headers on\" \"SELECT * FROM expense\""
      ],
      "metadata": {
        "colab": {
          "base_uri": "https://localhost:8080/"
        },
        "id": "l7MfeQkHmRb_",
        "outputId": "346e6f3d-b647-49a4-a3bd-a7c1b2aa217e"
      },
      "execution_count": 5,
      "outputs": [
        {
          "output_type": "stream",
          "name": "stdout",
          "text": [
            "id|date|category|amount|memo\n",
            "1|2022-05-21|food|1000|lunch\n",
            "2|2022-07-10|shopping|5000|\n",
            "3|2022-09-07|food|1200|dinner\n",
            "4|2022-03-30|travel|8000|\n",
            "5|2022-02-14|food|800|breakfast\n",
            "6|2022-04-05|shopping|1500|\n",
            "7|2022-06-18|travel|5000|\n",
            "8|2022-08-21|shopping|2000|\n",
            "9|2022-12-25|food|1500|dinner\n",
            "10|2022-11-05|travel|3000|\n",
            "11|2022-04-12|food|600|snack\n",
            "12|2022-07-28|shopping|2500|\n",
            "13|2022-09-10|travel|4000|\n",
            "14|2022-02-17|food|1200|lunch\n",
            "15|2022-08-06|shopping|3500|\n",
            "16|2022-06-30|food|1000|breakfast\n",
            "17|2022-11-21|travel|6000|\n",
            "18|2022-12-18|shopping|1800|\n",
            "19|2022-03-15|food|1500|dinner\n",
            "20|2022-01-22|travel|2000|\n",
            "21|2022-05-23|shopping|2000|\n",
            "22|2022-06-05|food|800|snack\n",
            "23|2022-07-12|travel|5000|\n",
            "24|2022-08-14|food|1500|dinner\n",
            "25|2022-09-01|shopping|3000|\n",
            "26|2022-10-06|travel|4000|\n",
            "27|2022-11-11|food|1000|lunch\n",
            "28|2022-12-24|shopping|5000|\n",
            "29|2022-02-28|food|800|breakfast\n",
            "30|2022-03-20|travel|6000|\n"
          ]
        }
      ]
    },
    {
      "cell_type": "markdown",
      "source": [
        "上記の\"expense\"テーブルは、以下のような構造を持ちます。\n",
        "\n",
        "- id：自動的に割り当てられる数値型の主キー列。\n",
        "- date: ：日付を表すテキスト列。YYYY-MM-DD形式で保存される。\n",
        "- category：支出のカテゴリを表すテキスト列。\n",
        "- amount：支出金額を表す数値型の列。\n",
        "- memo：メモを表すテキスト列。"
      ],
      "metadata": {
        "id": "xw8UJXkT1HcJ"
      }
    },
    {
      "cell_type": "markdown",
      "source": [
        "### WHERE句での絞り込み"
      ],
      "metadata": {
        "id": "Qg0p0sjxulsp"
      }
    },
    {
      "cell_type": "markdown",
      "source": [
        "まずは、WHERE句による絞り込みについてさらに理解を深めていきます。\n"
      ],
      "metadata": {
        "id": "oOnZMrehusi_"
      }
    },
    {
      "cell_type": "markdown",
      "source": [
        "#### 比較演算子"
      ],
      "metadata": {
        "id": "K7kNX4mZyJHo"
      }
    },
    {
      "cell_type": "markdown",
      "source": [
        "基本的な**比較演算子**は以下の通りです。  \n",
        "前回も少し登場しましたよね。\n",
        "\n",
        "|  比較演算子  |  意味  |\n",
        "| ---- | ---- |\n",
        "| **=** | 左右の値が等しい |\n",
        "| **<** | 左辺は右辺より小さい |\n",
        "| **>** | 左辺は右辺より大きい |\n",
        "| **<=** | 左辺は右辺の値以下 |\n",
        "| **>=** | 左辺は右辺の値以上 |\n",
        "| **<>** | 左右の値が等しくない |"
      ],
      "metadata": {
        "id": "qJKdGZSeyKtf"
      }
    },
    {
      "cell_type": "markdown",
      "source": [
        "今回は、5000円以上の出費についてのデータのみ取り出していきます。"
      ],
      "metadata": {
        "id": "-RXm7D-5y31B"
      }
    },
    {
      "cell_type": "code",
      "source": [
        "# expenseテーブルのデータを取得する\n",
        "!sqlite3 sample1.db \".headers on\" \\\n",
        "\"SELECT * FROM expense WHERE amount >= 5000\""
      ],
      "metadata": {
        "colab": {
          "base_uri": "https://localhost:8080/"
        },
        "id": "fFL1WrH4zBJS",
        "outputId": "2ebdca25-0fb6-4948-aa7b-4289d90a9e6f"
      },
      "execution_count": 6,
      "outputs": [
        {
          "output_type": "stream",
          "name": "stdout",
          "text": [
            "id|date|category|amount|memo\n",
            "2|2022-07-10|shopping|5000|\n",
            "4|2022-03-30|travel|8000|\n",
            "7|2022-06-18|travel|5000|\n",
            "17|2022-11-21|travel|6000|\n",
            "23|2022-07-12|travel|5000|\n",
            "28|2022-12-24|shopping|5000|\n",
            "30|2022-03-20|travel|6000|\n"
          ]
        }
      ]
    },
    {
      "cell_type": "markdown",
      "source": [
        "#### NULLの判定"
      ],
      "metadata": {
        "id": "JA9NmXdL0TtD"
      }
    },
    {
      "cell_type": "markdown",
      "source": [
        "テーブルの中のデータは、何も値が格納されていない状態を意味する  \n",
        "**NULL**という特別なものになることがあります。\n",
        "\n",
        "格納データが「不明」であるときに登場します。"
      ],
      "metadata": {
        "id": "mZfR_aZe0WIr"
      }
    },
    {
      "cell_type": "markdown",
      "source": [
        "今回のデータでいうと、\"category\"カラムの値が\"food\"のときは、  \n",
        "\"memo\"カラムの値は必ず**NULL**になります。"
      ],
      "metadata": {
        "id": "_pVpKlD807qC"
      }
    },
    {
      "cell_type": "markdown",
      "source": [
        "NULLかどうかを判定するときは、\"=\"演算子や\"<>\"演算子を利用できません。\n",
        "\n",
        "NULlであることを判定するためには **IS NULL演算子**、  \n",
        "NULLでないことを判定するためには **IS NOT NULL 演算子** を使います。"
      ],
      "metadata": {
        "id": "YjBl-mBh1v9g"
      }
    },
    {
      "cell_type": "code",
      "source": [
        "# \"memo\"カラムの値が空のものは\"NULL\"値に置き換えます\n",
        "drop_columns = \"UPDATE expense SET memo = NULL WHERE memo = ''\"\n",
        "\n",
        "# SQLクエリを実行する\n",
        "cursor.execute(drop_columns)\n",
        "\n",
        "con.commit()"
      ],
      "metadata": {
        "id": "CjPUZ45h3O8l"
      },
      "execution_count": 7,
      "outputs": []
    },
    {
      "cell_type": "code",
      "source": [
        "# expenseテーブルのデータを取得する\n",
        "!sqlite3 sample1.db \".headers on\" \\\n",
        "\"SELECT * FROM expense WHERE memo IS NULL\""
      ],
      "metadata": {
        "colab": {
          "base_uri": "https://localhost:8080/"
        },
        "id": "6Qf9M8bl2RvH",
        "outputId": "e88d44d5-e248-4c7d-b3df-752b0d2dd2a0"
      },
      "execution_count": 8,
      "outputs": [
        {
          "output_type": "stream",
          "name": "stdout",
          "text": [
            "id|date|category|amount|memo\n",
            "2|2022-07-10|shopping|5000|\n",
            "4|2022-03-30|travel|8000|\n",
            "6|2022-04-05|shopping|1500|\n",
            "7|2022-06-18|travel|5000|\n",
            "8|2022-08-21|shopping|2000|\n",
            "10|2022-11-05|travel|3000|\n",
            "12|2022-07-28|shopping|2500|\n",
            "13|2022-09-10|travel|4000|\n",
            "15|2022-08-06|shopping|3500|\n",
            "17|2022-11-21|travel|6000|\n",
            "18|2022-12-18|shopping|1800|\n",
            "20|2022-01-22|travel|2000|\n",
            "21|2022-05-23|shopping|2000|\n",
            "23|2022-07-12|travel|5000|\n",
            "25|2022-09-01|shopping|3000|\n",
            "26|2022-10-06|travel|4000|\n",
            "28|2022-12-24|shopping|5000|\n",
            "30|2022-03-20|travel|6000|\n"
          ]
        }
      ]
    },
    {
      "cell_type": "code",
      "source": [
        "# expenseテーブルのデータを取得する\n",
        "!sqlite3 sample1.db \".headers on\" \\\n",
        "\"SELECT * FROM expense WHERE memo IS NOT NULL\""
      ],
      "metadata": {
        "colab": {
          "base_uri": "https://localhost:8080/"
        },
        "id": "tKnOCMVs4ORD",
        "outputId": "26ddd536-70b6-4b57-b6a7-b533165f86d8"
      },
      "execution_count": 9,
      "outputs": [
        {
          "output_type": "stream",
          "name": "stdout",
          "text": [
            "id|date|category|amount|memo\n",
            "1|2022-05-21|food|1000|lunch\n",
            "3|2022-09-07|food|1200|dinner\n",
            "5|2022-02-14|food|800|breakfast\n",
            "9|2022-12-25|food|1500|dinner\n",
            "11|2022-04-12|food|600|snack\n",
            "14|2022-02-17|food|1200|lunch\n",
            "16|2022-06-30|food|1000|breakfast\n",
            "19|2022-03-15|food|1500|dinner\n",
            "22|2022-06-05|food|800|snack\n",
            "24|2022-08-14|food|1500|dinner\n",
            "27|2022-11-11|food|1000|lunch\n",
            "29|2022-02-28|food|800|breakfast\n"
          ]
        }
      ]
    },
    {
      "cell_type": "markdown",
      "source": [
        "SQLiteではないですが、[こちらのQiita記事](https://qiita.com/devopsCoordinator/items/9c10410b50f8fcc2ba79)にNULLについて解説があります。"
      ],
      "metadata": {
        "id": "c_FpSyLD4Yuy"
      }
    },
    {
      "cell_type": "markdown",
      "source": [
        "#### パターンマッチングで比較"
      ],
      "metadata": {
        "id": "aZvpMOsv5nGI"
      }
    },
    {
      "cell_type": "markdown",
      "source": [
        "文字列があるパターンに合致しているかをチェックすることを  \n",
        "**パターンマッチング**といいます。\n",
        "\n"
      ],
      "metadata": {
        "id": "kJiOusIU6AFp"
      }
    },
    {
      "cell_type": "markdown",
      "source": [
        "SQLではこのパターンマッチングに**LIKE演算子**を使います。\n",
        "\n",
        "``` sql\n",
        "式 LIKE パターン文字列\n",
        "```\n",
        "\n",
        "検索対象の文字列の中に、指定したパターンが含まれるかどうかを調べます。"
      ],
      "metadata": {
        "id": "xz0Bz0PN78AU"
      }
    },
    {
      "cell_type": "markdown",
      "source": [
        "LIKE句には、次の2つのワイルドカードがあります。\n",
        "\n",
        "- **%**：0文字以上の任意の文字列\n",
        "- **_**（アンダースコア）：任意の1文字"
      ],
      "metadata": {
        "id": "bcAnVUgY8DDV"
      }
    },
    {
      "cell_type": "markdown",
      "source": [
        "ここでは、2022年12月のデータのみ取り出してみましょう。"
      ],
      "metadata": {
        "id": "Orox0mwc8q76"
      }
    },
    {
      "cell_type": "code",
      "source": [
        "# expenseテーブルのデータを取得する\n",
        "!sqlite3 sample1.db \".headers on\" \\\n",
        "\"SELECT * FROM expense WHERE date LIKE '%-12-%'\""
      ],
      "metadata": {
        "colab": {
          "base_uri": "https://localhost:8080/"
        },
        "id": "UP9JYqgg_xnN",
        "outputId": "0940c55c-dfdc-4ab4-e9ab-3c26ac40e226"
      },
      "execution_count": 10,
      "outputs": [
        {
          "output_type": "stream",
          "name": "stdout",
          "text": [
            "id|date|category|amount|memo\n",
            "9|2022-12-25|food|1500|dinner\n",
            "18|2022-12-18|shopping|1800|\n",
            "28|2022-12-24|shopping|5000|\n"
          ]
        }
      ]
    },
    {
      "cell_type": "markdown",
      "source": [
        "次に、\"memo\"カラムの値が5文字の文字列であるデータを取り出してみましょう。  \n",
        "(条件式で _ を5個記述しています)"
      ],
      "metadata": {
        "id": "yvyeu2L6AXiT"
      }
    },
    {
      "cell_type": "code",
      "source": [
        "# expenseテーブルのデータを取得する\n",
        "!sqlite3 sample1.db \".headers on\" \\\n",
        "\"SELECT * FROM expense WHERE memo LIKE '_____'\""
      ],
      "metadata": {
        "colab": {
          "base_uri": "https://localhost:8080/"
        },
        "id": "Z8wcv4cYAeBS",
        "outputId": "23fb965d-a1c9-402f-8aa1-fe113d34b55e"
      },
      "execution_count": 11,
      "outputs": [
        {
          "output_type": "stream",
          "name": "stdout",
          "text": [
            "id|date|category|amount|memo\n",
            "1|2022-05-21|food|1000|lunch\n",
            "11|2022-04-12|food|600|snack\n",
            "14|2022-02-17|food|1200|lunch\n",
            "22|2022-06-05|food|800|snack\n",
            "27|2022-11-11|food|1000|lunch\n"
          ]
        }
      ]
    },
    {
      "cell_type": "markdown",
      "source": [
        "\"%\"や\"_\"を含む文字列をLIKE句で探したいときは、少し工夫が必要です。\n",
        "\n",
        "[こちら](https://bit.ly/3KEWurd)の記事を参考にしてください。"
      ],
      "metadata": {
        "id": "WPXK1VEYA9cl"
      }
    },
    {
      "cell_type": "markdown",
      "source": [
        "またSQLiteでは、**GROB句**を使ってもLIKE句と同様のことができます。\n",
        "\n",
        "詳しくは[こちら](https://www.javadrive.jp/sqlite/select/index12.html)の記事を参考にしてください。"
      ],
      "metadata": {
        "id": "PC5z3JqjBPWR"
      }
    },
    {
      "cell_type": "markdown",
      "source": [
        "#### 指定した値の範囲と比較"
      ],
      "metadata": {
        "id": "lZ89Y2MZB1hn"
      }
    },
    {
      "cell_type": "markdown",
      "source": [
        "ある範囲内に値が収まっているかを判定したいときは、**BETWEEN演算子**を使用します。\n",
        "\n",
        "``` sql\n",
        "式 BETWEEN 値1 AND 値2\n",
        "```\n",
        "\n",
        "BETWEEN演算子では、データが「値1以上かつ値2以下」の場合に真になります。"
      ],
      "metadata": {
        "id": "GT6R9qjBB3GP"
      }
    },
    {
      "cell_type": "markdown",
      "source": [
        "ここでは、1000円以上2000円以下の出費が発生したデータのみ取り出してみましょう。"
      ],
      "metadata": {
        "id": "mFjXN1zdClwl"
      }
    },
    {
      "cell_type": "code",
      "source": [
        "# expenseテーブルのデータを取得する\n",
        "!sqlite3 sample1.db \".headers on\" \\\n",
        "\"SELECT * FROM expense WHERE amount BETWEEN 1000 AND 2000 \""
      ],
      "metadata": {
        "colab": {
          "base_uri": "https://localhost:8080/"
        },
        "id": "G2B-bCT3CyAN",
        "outputId": "a49f6687-23f0-4480-f2c4-89a25c310cf1"
      },
      "execution_count": 12,
      "outputs": [
        {
          "output_type": "stream",
          "name": "stdout",
          "text": [
            "id|date|category|amount|memo\n",
            "1|2022-05-21|food|1000|lunch\n",
            "3|2022-09-07|food|1200|dinner\n",
            "6|2022-04-05|shopping|1500|\n",
            "8|2022-08-21|shopping|2000|\n",
            "9|2022-12-25|food|1500|dinner\n",
            "14|2022-02-17|food|1200|lunch\n",
            "16|2022-06-30|food|1000|breakfast\n",
            "18|2022-12-18|shopping|1800|\n",
            "19|2022-03-15|food|1500|dinner\n",
            "20|2022-01-22|travel|2000|\n",
            "21|2022-05-23|shopping|2000|\n",
            "24|2022-08-14|food|1500|dinner\n",
            "27|2022-11-11|food|1000|lunch\n"
          ]
        }
      ]
    },
    {
      "cell_type": "markdown",
      "source": [
        "#### 指定した値のリストと比較"
      ],
      "metadata": {
        "id": "L7Xwh6OkDPE3"
      }
    },
    {
      "cell_type": "markdown",
      "source": [
        "ある値リストのいづれかにデータが合致するかを判定したいときは、**IN演算子**を使用します。\n",
        "\n",
        "``` sql\n",
        "式 IN （値1, 値2, 値3 …）\n",
        "```\n",
        "\n",
        "IN演算子を使えば、一度にたくさんの値との比較が可能です。"
      ],
      "metadata": {
        "id": "P5yxLdFtDPE4"
      }
    },
    {
      "cell_type": "markdown",
      "source": [
        "ここでは、\"memo\"カラムの値が\"lunch\"または\"snack\"に合致する行のみを取り出しましょう。"
      ],
      "metadata": {
        "id": "uIzXyeuTDPE5"
      }
    },
    {
      "cell_type": "code",
      "source": [
        "# expenseテーブルのデータを取得する\n",
        "!sqlite3 sample1.db \".headers on\" \\\n",
        "\"SELECT * FROM expense WHERE memo IN ('lunch', 'snack')\""
      ],
      "metadata": {
        "colab": {
          "base_uri": "https://localhost:8080/"
        },
        "outputId": "c3ac8973-6418-4b2a-f742-4d173cfbb769",
        "id": "b9bqfy4pDPE6"
      },
      "execution_count": 13,
      "outputs": [
        {
          "output_type": "stream",
          "name": "stdout",
          "text": [
            "id|date|category|amount|memo\n",
            "1|2022-05-21|food|1000|lunch\n",
            "11|2022-04-12|food|600|snack\n",
            "14|2022-02-17|food|1200|lunch\n",
            "22|2022-06-05|food|800|snack\n",
            "27|2022-11-11|food|1000|lunch\n"
          ]
        }
      ]
    },
    {
      "cell_type": "markdown",
      "source": [
        "逆に、値リストのどれとも合致しないことを判定するには、**NOT IN演算子**を使います。"
      ],
      "metadata": {
        "id": "3kchQcMlEHir"
      }
    },
    {
      "cell_type": "markdown",
      "source": [
        "ここでは、\"memo\"カラムの値が\"lunch\"または\"snack\"に合致しない行のみを取り出しましょう。"
      ],
      "metadata": {
        "id": "GaZbA0fXEPY6"
      }
    },
    {
      "cell_type": "code",
      "source": [
        "# expenseテーブルのデータを取得する\n",
        "!sqlite3 sample1.db \".headers on\" \\\n",
        "\"SELECT * FROM expense WHERE memo NOT IN ('lunch', 'snack')\""
      ],
      "metadata": {
        "colab": {
          "base_uri": "https://localhost:8080/"
        },
        "id": "FsPvdelyETlC",
        "outputId": "90a4055e-f89b-4361-9ac0-21aadea81adc"
      },
      "execution_count": 14,
      "outputs": [
        {
          "output_type": "stream",
          "name": "stdout",
          "text": [
            "id|date|category|amount|memo\n",
            "3|2022-09-07|food|1200|dinner\n",
            "5|2022-02-14|food|800|breakfast\n",
            "9|2022-12-25|food|1500|dinner\n",
            "16|2022-06-30|food|1000|breakfast\n",
            "19|2022-03-15|food|1500|dinner\n",
            "24|2022-08-14|food|1500|dinner\n",
            "29|2022-02-28|food|800|breakfast\n"
          ]
        }
      ]
    },
    {
      "cell_type": "markdown",
      "source": [
        "#### 論理演算子を使った条件式"
      ],
      "metadata": {
        "id": "YVYz_MhAE6go"
      }
    },
    {
      "cell_type": "markdown",
      "source": [
        "1つの条件式ではうまく行を絞り込めない場合、**論理演算子**を使って、  \n",
        "複数の条件式を組み合わせることができます。\n",
        "\n",
        "``` sql\n",
        "WHERE 条件式1 AND 条件式2\n",
        "WHERE 条件式1 OR 条件式2\n",
        "WHERE NOT 条件式\n",
        "```"
      ],
      "metadata": {
        "id": "-dazDnX7FWHY"
      }
    },
    {
      "cell_type": "markdown",
      "source": [
        "ここでは、食費として1200円以上使ったデータを取り出してみましょう。"
      ],
      "metadata": {
        "id": "raWFOktbG__O"
      }
    },
    {
      "cell_type": "code",
      "source": [
        "# expenseテーブルのデータを取得する\n",
        "!sqlite3 sample1.db \".headers on\" \\\n",
        "\"SELECT * FROM expense WHERE category = 'food' AND amount >= 1200\""
      ],
      "metadata": {
        "colab": {
          "base_uri": "https://localhost:8080/"
        },
        "id": "fqC57i-ZHQTR",
        "outputId": "04eb3a10-396f-4cc2-8379-87cebc5c0332"
      },
      "execution_count": 15,
      "outputs": [
        {
          "output_type": "stream",
          "name": "stdout",
          "text": [
            "id|date|category|amount|memo\n",
            "3|2022-09-07|food|1200|dinner\n",
            "9|2022-12-25|food|1500|dinner\n",
            "14|2022-02-17|food|1200|lunch\n",
            "19|2022-03-15|food|1500|dinner\n",
            "24|2022-08-14|food|1500|dinner\n"
          ]
        }
      ]
    },
    {
      "cell_type": "markdown",
      "source": [
        "### WHERE句以外での加工"
      ],
      "metadata": {
        "id": "yVb4nr8wHyUD"
      }
    },
    {
      "cell_type": "markdown",
      "source": [
        "WHERE句以外の修飾について学び、目的に応じてデータを成形してきましょう。"
      ],
      "metadata": {
        "id": "wKyyskUWH81r"
      }
    },
    {
      "cell_type": "markdown",
      "source": [
        "#### 結果の並び替え"
      ],
      "metadata": {
        "id": "c-hHvpY1IHJR"
      }
    },
    {
      "cell_type": "markdown",
      "source": [
        "SELECT分の最後に**ORDER BY句**を記述すると、  \n",
        "指定した列の値を基準として並び替えた検索結果を取得することができます。\n",
        "\n",
        "``` sql\n",
        "SELECT 列名 FROM テーブル名\n",
        "　ORDER BY 列名 並び順\n",
        "```"
      ],
      "metadata": {
        "id": "Nt01vMiLIn4C"
      }
    },
    {
      "cell_type": "markdown",
      "source": [
        "並び順は、昇順にする場合は**ASC**、 \n",
        "降順にする場合は**DESC**を指定します。\n",
        "\n",
        "初期値は昇順です。"
      ],
      "metadata": {
        "id": "YAqLGCjvI_b5"
      }
    },
    {
      "cell_type": "markdown",
      "source": [
        "では、買い物のデータのみを抽出し、日付順に並び替えてみましょう。"
      ],
      "metadata": {
        "id": "7GEz62J0JSj3"
      }
    },
    {
      "cell_type": "code",
      "source": [
        "# expenseテーブルのデータを取得する\n",
        "!sqlite3 sample1.db \".headers on\" \\\n",
        "\"SELECT * FROM expense WHERE category = 'shopping' ORDER BY date\""
      ],
      "metadata": {
        "colab": {
          "base_uri": "https://localhost:8080/"
        },
        "id": "O59roXYVJbw4",
        "outputId": "7a470cd0-d1bb-4c09-db5f-1aed14e8e1ed"
      },
      "execution_count": 16,
      "outputs": [
        {
          "output_type": "stream",
          "name": "stdout",
          "text": [
            "id|date|category|amount|memo\n",
            "6|2022-04-05|shopping|1500|\n",
            "21|2022-05-23|shopping|2000|\n",
            "2|2022-07-10|shopping|5000|\n",
            "12|2022-07-28|shopping|2500|\n",
            "15|2022-08-06|shopping|3500|\n",
            "8|2022-08-21|shopping|2000|\n",
            "25|2022-09-01|shopping|3000|\n",
            "18|2022-12-18|shopping|1800|\n",
            "28|2022-12-24|shopping|5000|\n"
          ]
        }
      ]
    },
    {
      "cell_type": "markdown",
      "source": [
        "また、ソートする対象のカラムは複数指定できます。\n",
        "\n",
        "``` sql\n",
        "SELECT 列名 FROM テーブル名\n",
        "　ORDER BY 列名1 並び順, 列名2 並び順\n",
        "```\n",
        "\n",
        "複数のカラムを指定した場合には、まず最初のカラムでソートを行い、  \n",
        "次に最初のカラムで同じ値だったものだけを対象に2番目のカラムでソートを行います。"
      ],
      "metadata": {
        "id": "V9uumrdSJtmu"
      }
    },
    {
      "cell_type": "markdown",
      "source": [
        "では、食費のデータのみを抽出し、  \n",
        "\"memo\"カラムの値で並び替えたあと、さらに日付順に並び替えてみましょう。 "
      ],
      "metadata": {
        "id": "sqQAQHWHKBNn"
      }
    },
    {
      "cell_type": "code",
      "source": [
        "# expenseテーブルのデータを取得する\n",
        "!sqlite3 sample1.db \".headers on\" \\\n",
        "\"SELECT * FROM expense WHERE category = 'food' ORDER BY memo DESC, date ASC\""
      ],
      "metadata": {
        "colab": {
          "base_uri": "https://localhost:8080/"
        },
        "id": "ngU3KeURKRlM",
        "outputId": "dc13d8bf-981c-4c0b-9865-cfa19173e699"
      },
      "execution_count": 17,
      "outputs": [
        {
          "output_type": "stream",
          "name": "stdout",
          "text": [
            "id|date|category|amount|memo\n",
            "11|2022-04-12|food|600|snack\n",
            "22|2022-06-05|food|800|snack\n",
            "14|2022-02-17|food|1200|lunch\n",
            "1|2022-05-21|food|1000|lunch\n",
            "27|2022-11-11|food|1000|lunch\n",
            "19|2022-03-15|food|1500|dinner\n",
            "24|2022-08-14|food|1500|dinner\n",
            "3|2022-09-07|food|1200|dinner\n",
            "9|2022-12-25|food|1500|dinner\n",
            "5|2022-02-14|food|800|breakfast\n",
            "29|2022-02-28|food|800|breakfast\n",
            "16|2022-06-30|food|1000|breakfast\n"
          ]
        }
      ]
    },
    {
      "cell_type": "markdown",
      "source": [
        "また、列名ではなく列番号を指定して並び替えることもできます。\n"
      ],
      "metadata": {
        "id": "jIwAwXZGKxN9"
      }
    },
    {
      "cell_type": "markdown",
      "source": [
        "先ほどのコードを列番号で書き換えてみましょう。"
      ],
      "metadata": {
        "id": "wcDV87q_LCgN"
      }
    },
    {
      "cell_type": "code",
      "source": [
        "# expenseテーブルのデータを取得する\n",
        "!sqlite3 sample1.db \".headers on\" \\\n",
        "\"SELECT * FROM expense WHERE category = 'food' ORDER BY 5 DESC, 2 ASC\""
      ],
      "metadata": {
        "colab": {
          "base_uri": "https://localhost:8080/"
        },
        "id": "z9RGJl0cK1ae",
        "outputId": "c894d5b4-3ace-4161-e215-fa98c9fd2631"
      },
      "execution_count": 18,
      "outputs": [
        {
          "output_type": "stream",
          "name": "stdout",
          "text": [
            "id|date|category|amount|memo\n",
            "11|2022-04-12|food|600|snack\n",
            "22|2022-06-05|food|800|snack\n",
            "14|2022-02-17|food|1200|lunch\n",
            "1|2022-05-21|food|1000|lunch\n",
            "27|2022-11-11|food|1000|lunch\n",
            "19|2022-03-15|food|1500|dinner\n",
            "24|2022-08-14|food|1500|dinner\n",
            "3|2022-09-07|food|1200|dinner\n",
            "9|2022-12-25|food|1500|dinner\n",
            "5|2022-02-14|food|800|breakfast\n",
            "29|2022-02-28|food|800|breakfast\n",
            "16|2022-06-30|food|1000|breakfast\n"
          ]
        }
      ]
    },
    {
      "cell_type": "markdown",
      "source": [
        "#### 取得するデータの数の指定"
      ],
      "metadata": {
        "id": "CS2NOVpuMZSD"
      }
    },
    {
      "cell_type": "markdown",
      "source": [
        "**LIMIT句**を使用することで、取得するデータの数を指定することができます。\n",
        "\n",
        "``` sql\n",
        "SELECT 列名 FROM テーブル名\n",
        "　(ORDER BY 列名 並び順)\n",
        "　LIMIT 行数\n",
        "```\n",
        "\n",
        "行数が指定された場合には先頭のデータから指定した行数のデータだけを取得します。"
      ],
      "metadata": {
        "id": "yxUkmUXgMgCB"
      }
    },
    {
      "cell_type": "markdown",
      "source": [
        "ORDER BY 句と LIMIT 句が同時に記述された場合、  \n",
        "まず ORDER BY 句で並び替えを行った上で、  \n",
        " LIMIT 句で指定された数のデータを取得します。"
      ],
      "metadata": {
        "id": "oC5GBdI-M_ro"
      }
    },
    {
      "cell_type": "markdown",
      "source": [
        "では、全体のデータの内、出費が多かった行ベスト5を取り出してみましょう。"
      ],
      "metadata": {
        "id": "nQ5otcgdNCt4"
      }
    },
    {
      "cell_type": "code",
      "source": [
        "# expenseテーブルのデータを取得する\n",
        "!sqlite3 sample1.db \".headers on\" \\\n",
        "\"SELECT * FROM expense ORDER BY amount DESC LIMIT 5\""
      ],
      "metadata": {
        "colab": {
          "base_uri": "https://localhost:8080/"
        },
        "id": "4SXZdO6QNKmt",
        "outputId": "0a33e177-7a78-47ff-e846-1a37af471fca"
      },
      "execution_count": 19,
      "outputs": [
        {
          "output_type": "stream",
          "name": "stdout",
          "text": [
            "id|date|category|amount|memo\n",
            "4|2022-03-30|travel|8000|\n",
            "17|2022-11-21|travel|6000|\n",
            "30|2022-03-20|travel|6000|\n",
            "2|2022-07-10|shopping|5000|\n",
            "7|2022-06-18|travel|5000|\n"
          ]
        }
      ]
    },
    {
      "cell_type": "markdown",
      "source": [
        "旅行に結構お金を使っているようですね。"
      ],
      "metadata": {
        "id": "AlOuLr5_NcB3"
      }
    },
    {
      "cell_type": "markdown",
      "source": [
        "#### 取得を開始する位置の指定"
      ],
      "metadata": {
        "id": "UoBZszt3mDF7"
      }
    },
    {
      "cell_type": "markdown",
      "source": [
        "データの取得を行う最初の位置を指定するには、**OFFSET 句**を使用します。\n",
        "\n",
        "``` sql\n",
        "SELECT 列名 FROM テーブル名\n",
        "　(ORDER BY 列名 並び順)\n",
        "　LIMIT 行数\n",
        "　OFFSET 開始位置\n",
        "```\n",
        "\n",
        "LIMIT 句の後に取得するデータの行数、そして OFFSET 句の後にデータを取得する開始位置を指定します。\n",
        "\n"
      ],
      "metadata": {
        "id": "qVvoa6MymU1s"
      }
    },
    {
      "cell_type": "markdown",
      "source": [
        "OFFSET句は省略することができます。\n",
        "\n",
        "``` sql\n",
        "SELECT 列名 FROM テーブル名\n",
        "　(ORDER BY 列名 並び順)\n",
        "　LIMIT 開始位置 行数\n",
        "```\n",
        "\n",
        "OFFSET句を使用しない場合は、開始位置を指定した後に取得する行数を指定します。"
      ],
      "metadata": {
        "id": "zGS3hm6AnnI0"
      }
    },
    {
      "cell_type": "markdown",
      "source": [
        "では、全体のデータの内、出費が多かった行の6位～10位を取り出してみましょう。"
      ],
      "metadata": {
        "id": "e2ZGXiEWraV5"
      }
    },
    {
      "cell_type": "code",
      "source": [
        "# expenseテーブルのデータを取得する\n",
        "!sqlite3 sample1.db \".headers on\" \\\n",
        "\"SELECT * FROM expense ORDER BY amount DESC LIMIT 5 OFFSET 5\""
      ],
      "metadata": {
        "colab": {
          "base_uri": "https://localhost:8080/"
        },
        "id": "8Eq-Zrr9rfad",
        "outputId": "40d6622e-6cb8-40d4-cfbe-8156b4c10b12"
      },
      "execution_count": 20,
      "outputs": [
        {
          "output_type": "stream",
          "name": "stdout",
          "text": [
            "id|date|category|amount|memo\n",
            "23|2022-07-12|travel|5000|\n",
            "28|2022-12-24|shopping|5000|\n",
            "13|2022-09-10|travel|4000|\n",
            "26|2022-10-06|travel|4000|\n",
            "15|2022-08-06|shopping|3500|\n"
          ]
        }
      ]
    },
    {
      "cell_type": "markdown",
      "source": [
        "#### 重複データを除外して取得"
      ],
      "metadata": {
        "id": "JOOifsl-sOo7"
      }
    },
    {
      "cell_type": "markdown",
      "source": [
        "**DISTINCTキーワード**をSELECT分の選択リストの前に記述すると、  \n",
        "内容が重複している部分は取り除いて取得できます。\n",
        "\n",
        "``` sql\n",
        "SELECT DISTINCT 列名 …\n",
        "　FROM テーブル名\n",
        "```"
      ],
      "metadata": {
        "id": "e-Iu0rbDsUUP"
      }
    },
    {
      "cell_type": "markdown",
      "source": [
        "ここでは、どのような種類の支出があったか一覧で取得しましょう。"
      ],
      "metadata": {
        "id": "DBDuLHYouuWS"
      }
    },
    {
      "cell_type": "code",
      "source": [
        "# expenseテーブルのデータを取得する\n",
        "!sqlite3 sample1.db \"SELECT DISTINCT category FROM expense\""
      ],
      "metadata": {
        "colab": {
          "base_uri": "https://localhost:8080/"
        },
        "id": "W7E6m-gPu0Kz",
        "outputId": "c9676e14-4071-444c-ab0e-0370ccabdbaf"
      },
      "execution_count": 21,
      "outputs": [
        {
          "output_type": "stream",
          "name": "stdout",
          "text": [
            "food\n",
            "shopping\n",
            "travel\n"
          ]
        }
      ]
    },
    {
      "cell_type": "markdown",
      "source": [
        "複数のカラムを指定することもできます。\n",
        "\n",
        "``` sql\n",
        "SELECT DISTINCT 列名1, 列名2 …\n",
        "　FROM テーブル名\n",
        "```"
      ],
      "metadata": {
        "id": "5cBNUX2rvnhA"
      }
    },
    {
      "cell_type": "markdown",
      "source": [
        "\"memo\"カラムも追加してみましょう。"
      ],
      "metadata": {
        "id": "gyP650S2vtrA"
      }
    },
    {
      "cell_type": "code",
      "source": [
        "# expenseテーブルのデータを取得する\n",
        "!sqlite3 sample1.db \"SELECT DISTINCT category, memo FROM expense\""
      ],
      "metadata": {
        "colab": {
          "base_uri": "https://localhost:8080/"
        },
        "id": "9mQmtKgCvyO1",
        "outputId": "8cef0404-45d5-49f0-e70a-638016899e55"
      },
      "execution_count": 22,
      "outputs": [
        {
          "output_type": "stream",
          "name": "stdout",
          "text": [
            "food|lunch\n",
            "shopping|\n",
            "food|dinner\n",
            "travel|\n",
            "food|breakfast\n",
            "food|snack\n"
          ]
        }
      ]
    },
    {
      "cell_type": "markdown",
      "source": [
        "### 式や関数を使った加工"
      ],
      "metadata": {
        "id": "FkS16Uu8R3u5"
      }
    },
    {
      "cell_type": "markdown",
      "source": [
        "式や関数を用いて、様々な処理を行うことができます。"
      ],
      "metadata": {
        "id": "C_VMbq94SyW6"
      }
    },
    {
      "cell_type": "markdown",
      "source": [
        "#### カラム値に対して四則演算"
      ],
      "metadata": {
        "id": "AdyW3Dl8zeIj"
      }
    },
    {
      "cell_type": "markdown",
      "source": [
        "SELECTの後ろには、今まで選択する列のリストを置いてきました。\n",
        "\n",
        "ほかにも、**固定値**や**計算式**を指定することもできます。"
      ],
      "metadata": {
        "id": "TrwGEDoM0dyX"
      }
    },
    {
      "cell_type": "markdown",
      "source": [
        "SQLiteで使用できる算術演算子は以下の通りです。\n",
        "\n",
        "- +（加算）\n",
        "- -（減算）\n",
        "- *（乗算）\n",
        "- /（除算）\n",
        "- %（剰余）"
      ],
      "metadata": {
        "id": "vktGxrW73So6"
      }
    },
    {
      "cell_type": "markdown",
      "source": [
        "ここでは、支出額のカラムに1000円を引いたカラムを取得してみましょう。"
      ],
      "metadata": {
        "id": "FunSMEfY14Fr"
      }
    },
    {
      "cell_type": "code",
      "source": [
        "# expenseテーブルのデータを取得する\n",
        "!sqlite3 sample1.db \".headers on\" \\\n",
        "\"SELECT id,\\\n",
        "        amount,\\\n",
        "        amount-1000\\\n",
        "   FROM expense\\\n",
        "   WHERE category = 'food'\""
      ],
      "metadata": {
        "colab": {
          "base_uri": "https://localhost:8080/"
        },
        "id": "cv-OHDh12e8L",
        "outputId": "56fdfc43-297a-4b3d-bc1c-e0b3116ce1a6"
      },
      "execution_count": 23,
      "outputs": [
        {
          "output_type": "stream",
          "name": "stdout",
          "text": [
            "id|amount|amount-1000\n",
            "1|1000|0\n",
            "3|1200|200\n",
            "5|800|-200\n",
            "9|1500|500\n",
            "11|600|-400\n",
            "14|1200|200\n",
            "16|1000|0\n",
            "19|1500|500\n",
            "22|800|-200\n",
            "24|1500|500\n",
            "27|1000|0\n",
            "29|800|-200\n"
          ]
        }
      ]
    },
    {
      "cell_type": "markdown",
      "source": [
        "固定値や計算式がそのまま表の列名になってしまいます。  \n",
        "\n",
        "列名を変えるときは**AS演算子**を使います。"
      ],
      "metadata": {
        "id": "XPknmlM38dLe"
      }
    },
    {
      "cell_type": "code",
      "source": [
        "# expenseテーブルのデータを取得する\n",
        "!sqlite3 sample1.db \".headers on\" \\\n",
        "\"SELECT *,\\\n",
        "        amount-1000 AS substracted_amount\\\n",
        "   FROM expense\\\n",
        "   WHERE category = 'food'\""
      ],
      "metadata": {
        "colab": {
          "base_uri": "https://localhost:8080/"
        },
        "id": "HlyZOjXj9oPF",
        "outputId": "86235c0b-02b3-496b-e2f8-075cd223f4a8"
      },
      "execution_count": 24,
      "outputs": [
        {
          "output_type": "stream",
          "name": "stdout",
          "text": [
            "id|date|category|amount|memo|substracted_amount\n",
            "1|2022-05-21|food|1000|lunch|0\n",
            "3|2022-09-07|food|1200|dinner|200\n",
            "5|2022-02-14|food|800|breakfast|-200\n",
            "9|2022-12-25|food|1500|dinner|500\n",
            "11|2022-04-12|food|600|snack|-400\n",
            "14|2022-02-17|food|1200|lunch|200\n",
            "16|2022-06-30|food|1000|breakfast|0\n",
            "19|2022-03-15|food|1500|dinner|500\n",
            "22|2022-06-05|food|800|snack|-200\n",
            "24|2022-08-14|food|1500|dinner|500\n",
            "27|2022-11-11|food|1000|lunch|0\n",
            "29|2022-02-28|food|800|breakfast|-200\n"
          ]
        }
      ]
    },
    {
      "cell_type": "markdown",
      "source": [
        "#### カラム値に応じて異なる結果を返す"
      ],
      "metadata": {
        "id": "YBqZMH_R6MQE"
      }
    },
    {
      "cell_type": "markdown",
      "source": [
        "**CASE演算子**は、列の値や条件式を評価し、  \n",
        "その結果に応じて値を自由に変換することができます。\n",
        "\n",
        "``` sql\n",
        "CASE 評価する列や式 WHEN 値1 THEN 値1の時に返す値  \n",
        "　　　　　　　　　　WHEN 値2 THEN 値2の時に返す値\n",
        "　　　　　　　　　　ELSE デフォルト値\n",
        " END\n",
        "```"
      ],
      "metadata": {
        "id": "A03dET8L6ORM"
      }
    },
    {
      "cell_type": "markdown",
      "source": [
        "では、\"memo\"カラムの値を変換して取得してみましょう。"
      ],
      "metadata": {
        "id": "vOcM7Xw47n1p"
      }
    },
    {
      "cell_type": "code",
      "source": [
        "# expenseテーブルのデータを取得する\n",
        "!sqlite3 sample1.db \".headers on\" \\\n",
        "\" SELECT id, date, category, amount, \\\n",
        "  CASE memo \\\n",
        "    WHEN 'breakfast' THEN '朝食' \\\n",
        "    WHEN 'lunch' THEN '昼食' \\\n",
        "    WHEN 'dinner' THEN '夕食' \\\n",
        "    ELSE 'その他' \\\n",
        "  END AS translated_memo \\\n",
        "FROM expense \\\n",
        "WHERE category = 'food' \\\n",
        "\""
      ],
      "metadata": {
        "colab": {
          "base_uri": "https://localhost:8080/"
        },
        "id": "a7vCrHIh7zk6",
        "outputId": "eb88b234-6562-45df-eb1a-e446e2299ba7"
      },
      "execution_count": 25,
      "outputs": [
        {
          "output_type": "stream",
          "name": "stdout",
          "text": [
            "id|date|category|amount|translated_memo\n",
            "1|2022-05-21|food|1000|昼食\n",
            "3|2022-09-07|food|1200|夕食\n",
            "5|2022-02-14|food|800|朝食\n",
            "9|2022-12-25|food|1500|夕食\n",
            "11|2022-04-12|food|600|その他\n",
            "14|2022-02-17|food|1200|昼食\n",
            "16|2022-06-30|food|1000|朝食\n",
            "19|2022-03-15|food|1500|夕食\n",
            "22|2022-06-05|food|800|その他\n",
            "24|2022-08-14|food|1500|夕食\n",
            "27|2022-11-11|food|1000|昼食\n",
            "29|2022-02-28|food|800|朝食\n"
          ]
        }
      ]
    },
    {
      "cell_type": "markdown",
      "source": [
        "また、構文はもう一つあります。\n",
        "\n",
        "``` sql\n",
        "CASE \n",
        "   WHEN 条件1 THEN 条件1の時に返す値  \n",
        "   WHEN 条件2 THEN 条件2の時に返す値\n",
        "   ELSE デフォルト値\n",
        " END\n",
        "```"
      ],
      "metadata": {
        "id": "_3ywfbzDGboL"
      }
    },
    {
      "cell_type": "markdown",
      "source": [
        "では、書き換えてみましょう。"
      ],
      "metadata": {
        "id": "xf5cxtZfG9ly"
      }
    },
    {
      "cell_type": "code",
      "source": [
        "# expenseテーブルのデータを取得する\n",
        "!sqlite3 sample1.db \".headers on\" \\\n",
        "\" SELECT id, date, category, amount, \\\n",
        "  CASE \\\n",
        "    WHEN memo = 'breakfast' THEN '朝食' \\\n",
        "    WHEN memo = 'lunch' THEN '昼食' \\\n",
        "    WHEN memo = 'dinner' THEN '夕食' \\\n",
        "    ELSE 'その他' \\\n",
        "  END AS translated_memo \\\n",
        "FROM expense \\\n",
        "WHERE category = 'food' \\\n",
        "\""
      ],
      "metadata": {
        "colab": {
          "base_uri": "https://localhost:8080/"
        },
        "id": "N_A_Zx3VHGao",
        "outputId": "d0c3f91e-77e8-4c41-840b-3631fb7febe9"
      },
      "execution_count": 26,
      "outputs": [
        {
          "output_type": "stream",
          "name": "stdout",
          "text": [
            "id|date|category|amount|translated_memo\n",
            "1|2022-05-21|food|1000|昼食\n",
            "3|2022-09-07|food|1200|夕食\n",
            "5|2022-02-14|food|800|朝食\n",
            "9|2022-12-25|food|1500|夕食\n",
            "11|2022-04-12|food|600|その他\n",
            "14|2022-02-17|food|1200|昼食\n",
            "16|2022-06-30|food|1000|朝食\n",
            "19|2022-03-15|food|1500|夕食\n",
            "22|2022-06-05|food|800|その他\n",
            "24|2022-08-14|food|1500|夕食\n",
            "27|2022-11-11|food|1000|昼食\n",
            "29|2022-02-28|food|800|朝食\n"
          ]
        }
      ]
    },
    {
      "cell_type": "markdown",
      "source": [
        "#### 関数の適用"
      ],
      "metadata": {
        "id": "2QpMiGidI-dF"
      }
    },
    {
      "cell_type": "markdown",
      "source": [
        "**関数**を使うと、式を使うより高度な処理を手軽に実現できます。\n",
        "\n",
        "ここで紹介していない関数は[こちら](https://www.javadrive.jp/sqlite/function/)のページなどを参考にしてください。"
      ],
      "metadata": {
        "id": "Fe2H8uy7JTBt"
      }
    },
    {
      "cell_type": "markdown",
      "source": [
        "##### COUNT関数"
      ],
      "metadata": {
        "id": "UOzjx1aQTi24"
      }
    },
    {
      "cell_type": "markdown",
      "source": [
        "カラムごとの行数を取得することができます。"
      ],
      "metadata": {
        "id": "EAB9QTpcTpt4"
      }
    },
    {
      "cell_type": "markdown",
      "source": [
        "今回は、それぞれのカラムの行数を取得してみましょう。"
      ],
      "metadata": {
        "id": "6lzfiaw-UzXF"
      }
    },
    {
      "cell_type": "code",
      "source": [
        "# \"memo\"カラムの値が空のものは\"NULL\"値に置き換えます\n",
        "drop_columns = \"UPDATE expense SET memo = NULL WHERE memo = ''\"\n",
        "\n",
        "# SQLクエリを実行する\n",
        "cursor.execute(drop_columns)\n",
        "\n",
        "con.commit()"
      ],
      "metadata": {
        "id": "cIJzmkNPUw7F"
      },
      "execution_count": 27,
      "outputs": []
    },
    {
      "cell_type": "code",
      "source": [
        "# expenseテーブルのデータを取得する\n",
        "!sqlite3 sample1.db \".headers on\" \"SELECT COUNT(id), COUNT(date), COUNT(category), COUNT(amount), COUNT(memo) FROM expense\""
      ],
      "metadata": {
        "colab": {
          "base_uri": "https://localhost:8080/"
        },
        "id": "ajrfkNjATtH1",
        "outputId": "e1f10a23-b9e3-43c4-f0ab-40960811b601"
      },
      "execution_count": 28,
      "outputs": [
        {
          "output_type": "stream",
          "name": "stdout",
          "text": [
            "COUNT(id)|COUNT(date)|COUNT(category)|COUNT(amount)|COUNT(memo)\n",
            "30|30|30|30|12\n"
          ]
        }
      ]
    },
    {
      "cell_type": "markdown",
      "source": [
        "\"memo\"カラムは\"category\"カラムの値が\"food\"ではない場合はNULL値になるので、  \n",
        "行数が極端に少なくなっています。"
      ],
      "metadata": {
        "id": "DqIvtQTxU-Gl"
      }
    },
    {
      "cell_type": "markdown",
      "source": [
        "カラムに \" * \" を指定すると、全体の行数を取得できます。"
      ],
      "metadata": {
        "id": "xO9aOTkDVeWk"
      }
    },
    {
      "cell_type": "code",
      "source": [
        "# expenseテーブルのデータを取得する\n",
        "!sqlite3 sample1.db \".headers on\" \"SELECT COUNT(*) FROM expense\""
      ],
      "metadata": {
        "colab": {
          "base_uri": "https://localhost:8080/"
        },
        "id": "jpQvt9qQVmzy",
        "outputId": "663f3839-4e71-4cf6-d9f6-abc4eb10b3dc"
      },
      "execution_count": 29,
      "outputs": [
        {
          "output_type": "stream",
          "name": "stdout",
          "text": [
            "COUNT(*)\n",
            "30\n"
          ]
        }
      ]
    },
    {
      "cell_type": "markdown",
      "source": [
        "##### SUM関数"
      ],
      "metadata": {
        "id": "Btwko3WOWsQp"
      }
    },
    {
      "cell_type": "markdown",
      "source": [
        "指定したカラムの値の合計を求めます。"
      ],
      "metadata": {
        "id": "RYwBAdESWxbC"
      }
    },
    {
      "cell_type": "markdown",
      "source": [
        "では、支出額の合計を求めてみましょう。"
      ],
      "metadata": {
        "id": "GFtE-oI8WxvB"
      }
    },
    {
      "cell_type": "code",
      "source": [
        "# expenseテーブルのデータを取得する\n",
        "!sqlite3 sample1.db \".headers on\" \"SELECT SUM(amount) FROM expense\""
      ],
      "metadata": {
        "colab": {
          "base_uri": "https://localhost:8080/"
        },
        "id": "PH-dXOs7W_Lg",
        "outputId": "6159cead-dce2-4c2f-e9cb-931e5ac048bd"
      },
      "execution_count": 30,
      "outputs": [
        {
          "output_type": "stream",
          "name": "stdout",
          "text": [
            "SUM(amount)\n",
            "82200\n"
          ]
        }
      ]
    },
    {
      "cell_type": "markdown",
      "source": [
        "##### AVG関数"
      ],
      "metadata": {
        "id": "-KYs92lZXGHk"
      }
    },
    {
      "cell_type": "markdown",
      "source": [
        "指定したカラムの平均値を求めます。"
      ],
      "metadata": {
        "id": "1rRZpX0BXGHk"
      }
    },
    {
      "cell_type": "markdown",
      "source": [
        "では、支出額の平均を求めてみましょう。"
      ],
      "metadata": {
        "id": "P2f1R5uqXGHk"
      }
    },
    {
      "cell_type": "code",
      "source": [
        "# expenseテーブルのデータを取得する\n",
        "!sqlite3 sample1.db \".headers on\" \"SELECT AVG(amount) FROM expense\""
      ],
      "metadata": {
        "colab": {
          "base_uri": "https://localhost:8080/"
        },
        "id": "-Djo-VTSXeRy",
        "outputId": "23d2aa16-d371-4a99-91ca-a7df8106f39b"
      },
      "execution_count": 31,
      "outputs": [
        {
          "output_type": "stream",
          "name": "stdout",
          "text": [
            "AVG(amount)\n",
            "2740.0\n"
          ]
        }
      ]
    },
    {
      "cell_type": "markdown",
      "source": [
        "次に、食費の支出額の合計と平均を求めてみましょう。"
      ],
      "metadata": {
        "id": "keOo6LViYFwX"
      }
    },
    {
      "cell_type": "code",
      "source": [
        "!sqlite3 sample1.db \".headers on\" \\\n",
        "\"SELECT \\\n",
        "  SUM(amount) AS total, \\\n",
        "  AVG(amount) AS average \\\n",
        "FROM \\\n",
        "  expense \\\n",
        "WHERE \\\n",
        "  category = 'food'\""
      ],
      "metadata": {
        "colab": {
          "base_uri": "https://localhost:8080/"
        },
        "id": "Am_FV0FXXmH_",
        "outputId": "2ad5c599-c7eb-4e3a-9dd7-301faedc8eda"
      },
      "execution_count": 32,
      "outputs": [
        {
          "output_type": "stream",
          "name": "stdout",
          "text": [
            "total|average\n",
            "12900|1075.0\n"
          ]
        }
      ]
    },
    {
      "cell_type": "markdown",
      "source": [
        "##### MAX関数"
      ],
      "metadata": {
        "id": "OsazAlorYRnA"
      }
    },
    {
      "cell_type": "markdown",
      "source": [
        "指定したカラムの最大値を求めます。"
      ],
      "metadata": {
        "id": "eaOUkHCwYRnB"
      }
    },
    {
      "cell_type": "markdown",
      "source": [
        "では、支出額の最大値を求めてみましょう。"
      ],
      "metadata": {
        "id": "6TUC_cjCYRnB"
      }
    },
    {
      "cell_type": "code",
      "source": [
        "# expenseテーブルのデータを取得する\n",
        "!sqlite3 sample1.db \".headers on\" \"SELECT MAX(amount) FROM expense\""
      ],
      "metadata": {
        "colab": {
          "base_uri": "https://localhost:8080/"
        },
        "outputId": "7f38dfd8-77df-48a2-806b-e76302a0f7c6",
        "id": "bGWj0XuzYRnC"
      },
      "execution_count": 33,
      "outputs": [
        {
          "output_type": "stream",
          "name": "stdout",
          "text": [
            "MAX(amount)\n",
            "8000\n"
          ]
        }
      ]
    },
    {
      "cell_type": "markdown",
      "source": [
        "##### MIN関数"
      ],
      "metadata": {
        "id": "HGzKMNJ8YRnC"
      }
    },
    {
      "cell_type": "markdown",
      "source": [
        "指定したカラムの最小値を求めます。"
      ],
      "metadata": {
        "id": "XJJwbgZ2YRnC"
      }
    },
    {
      "cell_type": "markdown",
      "source": [
        "では、支出額の最小値を求めてみましょう。"
      ],
      "metadata": {
        "id": "41O6j2nfYRnC"
      }
    },
    {
      "cell_type": "code",
      "source": [
        "# expenseテーブルのデータを取得する\n",
        "!sqlite3 sample1.db \".headers on\" \"SELECT MIN(amount) FROM expense\""
      ],
      "metadata": {
        "colab": {
          "base_uri": "https://localhost:8080/"
        },
        "outputId": "0cb18358-4480-49c1-daff-c93080f9dda7",
        "id": "9EpHPbhnYRnD"
      },
      "execution_count": 34,
      "outputs": [
        {
          "output_type": "stream",
          "name": "stdout",
          "text": [
            "MIN(amount)\n",
            "600\n"
          ]
        }
      ]
    },
    {
      "cell_type": "markdown",
      "source": [
        "次に、食費の支出額の最大値と最小値を求めてみましょう。"
      ],
      "metadata": {
        "id": "_7tXxW-OYRnD"
      }
    },
    {
      "cell_type": "code",
      "source": [
        "!sqlite3 sample1.db \".headers on\" \\\n",
        "\"SELECT \\\n",
        "  MAX(amount) AS max, \\\n",
        "  MIN(amount) AS min \\\n",
        "FROM \\\n",
        "  expense \\\n",
        "WHERE \\\n",
        "  category = 'food'\""
      ],
      "metadata": {
        "colab": {
          "base_uri": "https://localhost:8080/"
        },
        "outputId": "e7e0de54-ed2e-42ed-bbe3-c504fdff6fbd",
        "id": "Jocohv1eYRnD"
      },
      "execution_count": 35,
      "outputs": [
        {
          "output_type": "stream",
          "name": "stdout",
          "text": [
            "max|min\n",
            "1500|600\n"
          ]
        }
      ]
    },
    {
      "cell_type": "markdown",
      "source": [
        "なお、これまで紹介してきた5つの関数は、  \n",
        "検索結果のデータを集計する**集計関数**です。"
      ],
      "metadata": {
        "id": "MUBe0f0mhiEz"
      }
    },
    {
      "cell_type": "markdown",
      "source": [
        "##### strftime()関数"
      ],
      "metadata": {
        "id": "264PWH5FcdYv"
      }
    },
    {
      "cell_type": "markdown",
      "source": [
        "SQLiteの**strftime()関数**は、日付/時刻を文字列に変換する関数です。\n",
        "\n",
        "strftime()関数は、**書式指定子**を使用して、出力される文字列の形式を制御することができます。"
      ],
      "metadata": {
        "id": "VVpSptJfchMV"
      }
    },
    {
      "cell_type": "markdown",
      "source": [
        "書式指定子は、特定の文字列を置換するために使用される特別な文字列です。  \n",
        "書式指定子には、日付や時刻の各要素を表す略語が含まれています。\n",
        "\n",
        "strftime()関数を使用すると、日付や時刻を様々な形式で出力することができます。  \n",
        "具体的には、次のような書式指定子が用意されています。\n",
        "\n"
      ],
      "metadata": {
        "id": "e-BsfJibcpL1"
      }
    },
    {
      "cell_type": "markdown",
      "source": [
        "|  比較演算子  |  意味  |\n",
        "| ---- | ---- |\n",
        "| **%Y** | 西暦年（4桁） |\n",
        "| **%m** | 月（2桁） |\n",
        "| **%d** | 日（2桁） |\n",
        "| **%H** | 時間（24時間表記、2桁） |\n",
        "| **%M** | 分（2桁） |\n",
        "| **%S** | 秒（2桁） |\n",
        "| **%j** | 年間の通算日数（3桁） |\n",
        "| **%w** | 曜日（0-6で表される。0は日曜日） |\n",
        "| **%W** | 年間の通算週番号（2桁） |\n",
        "| **%Z** | タイムゾーンの名前 |\n"
      ],
      "metadata": {
        "id": "qwiuubsZc8br"
      }
    },
    {
      "cell_type": "markdown",
      "source": [
        "これらの書式指定子を組み合わせることで、様々な形式の日付や時刻を出力することができます。\n",
        "\n",
        "詳細は[こちら](https://www.javadrive.jp/sqlite/function/index6.html#section4)の記事などを参照してください。"
      ],
      "metadata": {
        "id": "mwFv79nydj2z"
      }
    },
    {
      "cell_type": "markdown",
      "source": [
        "ではまず、現在時刻を取得してみましょう。"
      ],
      "metadata": {
        "id": "by3D2FB3dtXM"
      }
    },
    {
      "cell_type": "code",
      "source": [
        "# 東京の現在時刻を取得する\n",
        "!sqlite3 sample1.db \"SELECT strftime('%Y-%m-%d %H:%M:%S', 'now', 'localtime', '+9 hours');\""
      ],
      "metadata": {
        "colab": {
          "base_uri": "https://localhost:8080/"
        },
        "id": "LI7i16PTb56Q",
        "outputId": "dfce3dab-a0be-4463-b49a-deb70f2ad186"
      },
      "execution_count": 36,
      "outputs": [
        {
          "output_type": "stream",
          "name": "stdout",
          "text": [
            "2023-04-29 17:01:39\n"
          ]
        }
      ]
    },
    {
      "cell_type": "markdown",
      "source": [
        "次に、家計簿テーブルについて、それぞれの月のデータを表示してみましょう。"
      ],
      "metadata": {
        "id": "dQKEUQ7ueArq"
      }
    },
    {
      "cell_type": "code",
      "source": [
        "!sqlite3 sample1.db \".headers on\" \\\n",
        "\"SELECT *, strftime('%Y-%m', date) AS month FROM expense;\""
      ],
      "metadata": {
        "colab": {
          "base_uri": "https://localhost:8080/"
        },
        "id": "zBen_Ejkc_bW",
        "outputId": "2d2cb121-d7d3-46b1-b548-7407a831389b"
      },
      "execution_count": 37,
      "outputs": [
        {
          "output_type": "stream",
          "name": "stdout",
          "text": [
            "id|date|category|amount|memo|month\n",
            "1|2022-05-21|food|1000|lunch|2022-05\n",
            "2|2022-07-10|shopping|5000||2022-07\n",
            "3|2022-09-07|food|1200|dinner|2022-09\n",
            "4|2022-03-30|travel|8000||2022-03\n",
            "5|2022-02-14|food|800|breakfast|2022-02\n",
            "6|2022-04-05|shopping|1500||2022-04\n",
            "7|2022-06-18|travel|5000||2022-06\n",
            "8|2022-08-21|shopping|2000||2022-08\n",
            "9|2022-12-25|food|1500|dinner|2022-12\n",
            "10|2022-11-05|travel|3000||2022-11\n",
            "11|2022-04-12|food|600|snack|2022-04\n",
            "12|2022-07-28|shopping|2500||2022-07\n",
            "13|2022-09-10|travel|4000||2022-09\n",
            "14|2022-02-17|food|1200|lunch|2022-02\n",
            "15|2022-08-06|shopping|3500||2022-08\n",
            "16|2022-06-30|food|1000|breakfast|2022-06\n",
            "17|2022-11-21|travel|6000||2022-11\n",
            "18|2022-12-18|shopping|1800||2022-12\n",
            "19|2022-03-15|food|1500|dinner|2022-03\n",
            "20|2022-01-22|travel|2000||2022-01\n",
            "21|2022-05-23|shopping|2000||2022-05\n",
            "22|2022-06-05|food|800|snack|2022-06\n",
            "23|2022-07-12|travel|5000||2022-07\n",
            "24|2022-08-14|food|1500|dinner|2022-08\n",
            "25|2022-09-01|shopping|3000||2022-09\n",
            "26|2022-10-06|travel|4000||2022-10\n",
            "27|2022-11-11|food|1000|lunch|2022-11\n",
            "28|2022-12-24|shopping|5000||2022-12\n",
            "29|2022-02-28|food|800|breakfast|2022-02\n",
            "30|2022-03-20|travel|6000||2022-03\n"
          ]
        }
      ]
    },
    {
      "cell_type": "markdown",
      "source": [
        "月のデータだけ取得することができました。"
      ],
      "metadata": {
        "id": "MR759nYmgFTv"
      }
    }
  ]
}